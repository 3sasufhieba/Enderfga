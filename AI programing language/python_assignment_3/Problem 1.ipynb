{
 "cells": [
  {
   "cell_type": "code",
   "execution_count": 35,
   "metadata": {},
   "outputs": [
    {
     "name": "stdout",
     "output_type": "stream",
     "text": [
      "2 2\n",
      "16\n"
     ]
    }
   ],
   "source": [
    "#Problem 1.1\n",
    "import random                           #引入python标准库中的random模块\n",
    "num1 = random.randint(0,100)            #生成[0,100)中的随机整数num1和num2\n",
    "num2 = random.randint(0,100)\n",
    "print(num1,num2)\n",
    "if num1 == num2 :                       #进行判断，若相等输出和的平方，若不等输出和\n",
    "    print((num1 + num2) ** 2)\n",
    "else :\n",
    "    print(num1 + num2)"
   ]
  },
  {
   "cell_type": "code",
   "execution_count": 41,
   "metadata": {},
   "outputs": [
    {
     "name": "stdout",
     "output_type": "stream",
     "text": [
      "please enter a strin:python\n",
      "ppypytpythpythopython"
     ]
    }
   ],
   "source": [
    "#Problem 1.2\n",
    "str = input(\"please enter a strin:\")      #让用户输入一个字符串\n",
    "for i in range(0,len(str) + 1):            #循环打印前i位字符，注意range为左闭右开，故长度length需要加1\n",
    "    print(str[0:i],end = '')               #将print默认的属性 end='\\n' 改为 end=''，使其不换行连续打印"
   ]
  },
  {
   "cell_type": "code",
   "execution_count": 1,
   "metadata": {},
   "outputs": [
    {
     "name": "stdout",
     "output_type": "stream",
     "text": [
      "Counter({' ': 8, 'i': 5, 'a': 4, 's': 4, 'h': 4, 'u': 4, 'd': 3})\n"
     ]
    }
   ],
   "source": [
    "#Problem 1.3\n",
    "def scanf():     #编写函数scanf，确保输入的字符串长度符合要求\n",
    "    global str   #声明全局变量str\n",
    "    str = input('Please enter a string of length not less than 10:')   \n",
    "    if len(str) < 10:\n",
    "        print(\"Warning! The length of string is less than 10,please enter again.\")\n",
    "        scanf()     #若长度小于10，重新调用函数\n",
    "scanf()\n",
    "count = []          #创建空列表\n",
    "for i in range(0,len(str)):\n",
    "    if ord(str[i]) >= 0 & ord(str[i]) <= 127:\n",
    "        count.append(str[i]) #将ASCII码0~127的字符加入待计数列表count中\n",
    "from collections import Counter  \n",
    "print(Counter(count))\n",
    "#容器Counter将元素被作为字典的key存储，它们的计数作为字典的value存储"
   ]
  },
  {
   "cell_type": "code",
   "execution_count": 1,
   "metadata": {},
   "outputs": [
    {
     "name": "stdout",
     "output_type": "stream",
     "text": [
      "{' ': 17}\n"
     ]
    }
   ],
   "source": [
    "#Problem 1.3\n",
    "def scanf():     #编写函数scanf，确保输入的字符串长度符合要求\n",
    "    global str   #声明全局变量str\n",
    "    str = input('Please enter a string of length not less than 10:')   \n",
    "    if len(str) < 10:\n",
    "        print(\"Warning! The length of string is less than 10,please enter again.\")\n",
    "        scanf()     #若长度小于10，重新调用函数\n",
    "scanf()\n",
    "count = {}\n",
    "for i in str:\n",
    "    count[i]=str.count(i)\n",
    "print(count)"
   ]
  },
  {
   "cell_type": "code",
   "execution_count": null,
   "metadata": {},
   "outputs": [],
   "source": []
  }
 ],
 "metadata": {
  "kernelspec": {
   "display_name": "Python 3",
   "language": "python",
   "name": "python3"
  },
  "language_info": {
   "codemirror_mode": {
    "name": "ipython",
    "version": 3
   },
   "file_extension": ".py",
   "mimetype": "text/x-python",
   "name": "python",
   "nbconvert_exporter": "python",
   "pygments_lexer": "ipython3",
   "version": "3.7.0"
  }
 },
 "nbformat": 4,
 "nbformat_minor": 2
}
