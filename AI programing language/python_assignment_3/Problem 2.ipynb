{
 "cells": [
  {
   "cell_type": "code",
   "execution_count": 17,
   "metadata": {},
   "outputs": [
    {
     "name": "stdout",
     "output_type": "stream",
     "text": [
      "False\n"
     ]
    }
   ],
   "source": [
    "#Problem 2.1\n",
    "list1 = input(\"请输入一个整数列表1，以空格分割\").split()\n",
    "list2 = input(\"请输入一个整数列表2，以空格分割\").split() \n",
    "#split函数默认以空格为分割符\n",
    "if list1[0] == list2[0] or list1[-1] == list2[-1] :  \n",
    "    #list[-1]即取最后一个元素\n",
    "    print('True')\n",
    "else :\n",
    "    print('False')"
   ]
  },
  {
   "cell_type": "code",
   "execution_count": 34,
   "metadata": {},
   "outputs": [
    {
     "name": "stdout",
     "output_type": "stream",
     "text": [
      "654321\n"
     ]
    }
   ],
   "source": [
    "#Problem 2.2\n",
    "num1 = input(\"请输入一个有15位数字的整数:\")\n",
    "from collections import OrderedDict  \n",
    "#引入collections模块中子类OrderedDict\n",
    "str=\"\".join(OrderedDict.fromkeys(num1)) #将重复元素去除\n",
    "print(str[::-1])                        #反序输出"
   ]
  },
  {
   "cell_type": "code",
   "execution_count": 39,
   "metadata": {},
   "outputs": [
    {
     "name": "stdout",
     "output_type": "stream",
     "text": [
      " There are 21 prime numbers:\n",
      "[101, 103, 107, 109, 113, 127, 131, 137, 139, 149, 151, 157, 163, 167, 173, 179, 181, 191, 193, 197, 199]\n"
     ]
    }
   ],
   "source": [
    "#Problem 2.3\n",
    "import math\n",
    "count = 0 #记录素数个数\n",
    "prime = [] #存储素数\n",
    "for i in range(101,201):\n",
    "    for num in range(2, int(math.sqrt(i))+1):\n",
    "        if i % num == 0:\n",
    "            break\n",
    "    else:\n",
    "        prime.append(i)\n",
    "        count += 1\n",
    "print(\" There are %d prime numbers:\" % count)\n",
    "print(prime)"
   ]
  }
 ],
 "metadata": {
  "kernelspec": {
   "display_name": "Python 3",
   "language": "python",
   "name": "python3"
  },
  "language_info": {
   "codemirror_mode": {
    "name": "ipython",
    "version": 3
   },
   "file_extension": ".py",
   "mimetype": "text/x-python",
   "name": "python",
   "nbconvert_exporter": "python",
   "pygments_lexer": "ipython3",
   "version": "3.7.0"
  }
 },
 "nbformat": 4,
 "nbformat_minor": 2
}
