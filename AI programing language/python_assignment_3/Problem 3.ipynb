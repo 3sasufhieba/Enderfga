{
 "cells": [
  {
   "cell_type": "code",
   "execution_count": 30,
   "metadata": {},
   "outputs": [
    {
     "name": "stdout",
     "output_type": "stream",
     "text": [
      "Number of girls is 2\n",
      "Number of boys is 3\n"
     ]
    }
   ],
   "source": [
    "#Problem 3.1\n",
    "dict = {'student':[{'Rita':'female','Peter':'male','Simon':'male','Lily':'female','Jack':'male'}]}   #将题目所给信息完整输入\n",
    "list = dict['student']  #将key：student的value存储为列表，便于后续操作\n",
    "dict1 = list[0]          #list中只有一个元素，作为字典取出\n",
    "mcount = 0 #记录男生人数\n",
    "fcount = 0 #记录女生人数\n",
    "for value in dict1.values():    #遍历字典中value值，给男女生计数\n",
    "    if value == 'female' :\n",
    "        fcount += 1\n",
    "    else :\n",
    "        mcount += 1\n",
    "print('Number of girls is %d'%fcount)\n",
    "print('Number of boys is %d'%mcount)"
   ]
  },
  {
   "cell_type": "code",
   "execution_count": 31,
   "metadata": {},
   "outputs": [
    {
     "name": "stdout",
     "output_type": "stream",
     "text": [
      "Peter\n",
      "Simon\n",
      "Jack\n"
     ]
    }
   ],
   "source": [
    "#Problem 3.2\n",
    "for key,value in dict1.items(): #遍历字典中key和value值\n",
    "    if value == 'male' :        #若为男生，打印姓名；否则跳出当前循环\n",
    "        print(key)\n",
    "    else :\n",
    "        continue"
   ]
  }
 ],
 "metadata": {
  "kernelspec": {
   "display_name": "Python 3",
   "language": "python",
   "name": "python3"
  },
  "language_info": {
   "codemirror_mode": {
    "name": "ipython",
    "version": 3
   },
   "file_extension": ".py",
   "mimetype": "text/x-python",
   "name": "python",
   "nbconvert_exporter": "python",
   "pygments_lexer": "ipython3",
   "version": "3.7.0"
  }
 },
 "nbformat": 4,
 "nbformat_minor": 2
}
