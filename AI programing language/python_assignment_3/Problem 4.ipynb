{
 "cells": [
  {
   "cell_type": "code",
   "execution_count": 27,
   "metadata": {},
   "outputs": [
    {
     "name": "stdout",
     "output_type": "stream",
     "text": [
      "<class 'tuple'> : (43.3, 331)\n"
     ]
    }
   ],
   "source": [
    "#Problem 4.1\n",
    "import numpy as np    #导入numpy包并简写为np\n",
    "def calculate(arr):   #编写函数：传入列表参数，返回元组\n",
    "    m = np.mean(arr)\n",
    "    sum = 0           #将大于平均数的元素求和\n",
    "    for i in range(0,n):\n",
    "        if arr[i] > m:\n",
    "            sum += arr[i]\n",
    "    tub = (m,sum)\n",
    "    return tub \n",
    "n = int(input(\"How many numbers are you going to enter:\"))\n",
    "arr = []         #声明空列表，并存入n个数\n",
    "for i in range(0,n):\n",
    "    arr.append(int(input()))\n",
    "print(type(calculate(arr)),\":\",calculate(arr))\n"
   ]
  },
  {
   "cell_type": "code",
   "execution_count": 38,
   "metadata": {},
   "outputs": [
    {
     "name": "stdout",
     "output_type": "stream",
     "text": [
      "<class 'tuple'> : (4, 3)\n"
     ]
    }
   ],
   "source": [
    "#Problem 4.2\n",
    "def count(str):  #U为大写字母个数，L为小写字母个数\n",
    "    U = L = 0\n",
    "    for char in str:    #遍历字符串所有元素，利用“与”来判断大小写\n",
    "        if char >= 'A' and char <= 'Z':\n",
    "            U += 1\n",
    "        elif char >= 'a' and char <= 'z':\n",
    "            L += 1\n",
    "        else :\n",
    "            continue    #如果是非字母类字符，跳出当前循环且不计数\n",
    "    tub = (U,L)\n",
    "    return tub\n",
    "str = input(\"Please enter a string:\")\n",
    "print(type(count(str)),\":\",count(str))"
   ]
  },
  {
   "cell_type": "code",
   "execution_count": 8,
   "metadata": {},
   "outputs": [
    {
     "output_type": "stream",
     "name": "stdout",
     "text": [
      "first prize:4 second prize:12 third prize:34\n"
     ]
    }
   ],
   "source": [
    "#Problem 4.3\n",
    "import random\n",
    "n1 = n2 = n3 = 0            #给记录中奖次数的n赋初值\n",
    "def game(times):\n",
    "    global n1,n2,n3         #声明n为全局变量\n",
    "    for i in range(0,times):\n",
    "        n = random.random() #随机生成[0,1)的浮点数\n",
    "        if n < 0.08:        #[0,0.08)之间为一等奖\n",
    "            #print(\"Congratulations, first prize!\")\n",
    "            n1 += 1\n",
    "        elif n < 0.3:       #[0.08,0.3)之间为二等奖\n",
    "            #print(\"Congratulations, second prize!\")\n",
    "            n2 += 1\n",
    "        else :              #[0.3,1)之间为三等奖\n",
    "            #print(\"Congratulations, third prize!\")\n",
    "            n3 += 1\n",
    "game(50)    #模拟本次活动50人参加\n",
    "print('first prize:%d'%n1,'second prize:%d'%n2,'third prize:%d'%n3)\n"
   ]
  }
 ],
 "metadata": {
  "kernelspec": {
   "name": "python370jvsc74a57bd0cc5f70855ac006f3de45a3cc3b9e7d8d53845e50458809cb162b0174266dec97",
   "display_name": "Python 3.7.0 64-bit (conda)"
  },
  "language_info": {
   "codemirror_mode": {
    "name": "ipython",
    "version": 3
   },
   "file_extension": ".py",
   "mimetype": "text/x-python",
   "name": "python",
   "nbconvert_exporter": "python",
   "pygments_lexer": "ipython3",
   "version": "3.7.0-final"
  }
 },
 "nbformat": 4,
 "nbformat_minor": 2
}