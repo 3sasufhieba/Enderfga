{
 "cells": [
  {
   "cell_type": "code",
   "execution_count": 60,
   "metadata": {},
   "outputs": [
    {
     "name": "stdout",
     "output_type": "stream",
     "text": [
      "2020-04\n",
      "04-01\n",
      "03 days ago\n",
      "01 hours ago\n",
      "03 minutes ago\n",
      "28 seconds ago\n"
     ]
    }
   ],
   "source": [
    "import time     #引入time模块\n",
    "\n",
    "#模拟微信显示发消息的时间，通过差值来决定显示方式\n",
    "#time_start为上一条消息发送时间，time_end为当前消息发送时间\n",
    "def wechat_diff(time_start, time_end, fmt=\"%Y-%m-%d %H:%M:%S\"):\n",
    "    #匿名函数将两个参数转变为时间戳\n",
    "    stamp_func = lambda t: time.mktime(time.strptime(t, fmt)) \n",
    "    t1 = stamp_func(time_end)\n",
    "    t2 = stamp_func(time_start)\n",
    "    t = t1 - t2\n",
    "    diff = time.gmtime(t)       #相差时间的时间元组\n",
    "    send = time.localtime(t1)   #发送时间的时间元组\n",
    "    if t >= 31556736:\n",
    "        print(time.strftime(\"%Y-%m\", send))\n",
    "    elif t >= 2629743:\n",
    "        print(time.strftime(\"%m-%d\", send))\n",
    "    elif t >= 86400:\n",
    "        print(time.strftime(\"%d days ago\", diff))\n",
    "    elif t >= 3600:\n",
    "        print(time.strftime(\"%H hours ago\", diff))\n",
    "    elif t >= 60:\n",
    "        print(time.strftime(\"%M minutes ago\", diff))\n",
    "    elif t >= 1:\n",
    "        print(time.strftime(\"%S seconds ago\", diff))\n",
    "\n",
    "#分七种情况显示发消息的时间\n",
    "wechat_diff('2018-6-1 9:26:32', '2020-4-1 8:30:00')#时间差大于1年\n",
    "wechat_diff('2019-6-1 9:26:32', '2020-4-1 8:30:00')#时间差大于1个月\n",
    "wechat_diff('2020-3-29 9:26:32', '2020-4-1 8:30:00')#时间差大于1天\n",
    "wechat_diff('2020-4-1 7:26:32', '2020-4-1 8:30:00')#时间差大于1个小时\n",
    "wechat_diff('2020-4-1 8:26:32', '2020-4-1 8:30:00')#时间差大于1分钟\n",
    "wechat_diff('2020-4-1 8:29:32', '2020-4-1 8:30:00')#时间差大于1秒\n",
    "wechat_diff('2020-4-1 8:30:00', '2020-4-1 8:30:00')\n",
    "#第七种即时间差小于1秒的情况，模拟微信两条消息时间间隔短时中间不显示时间"
   ]
  }
 ],
 "metadata": {
  "kernelspec": {
   "display_name": "Python 3",
   "language": "python",
   "name": "python3"
  },
  "language_info": {
   "codemirror_mode": {
    "name": "ipython",
    "version": 3
   },
   "file_extension": ".py",
   "mimetype": "text/x-python",
   "name": "python",
   "nbconvert_exporter": "python",
   "pygments_lexer": "ipython3",
   "version": "3.7.0"
  }
 },
 "nbformat": 4,
 "nbformat_minor": 2
}
