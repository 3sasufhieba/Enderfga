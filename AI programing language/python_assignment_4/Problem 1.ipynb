{
 "cells": [
  {
   "cell_type": "code",
   "execution_count": 1,
   "metadata": {},
   "outputs": [],
   "source": [
    "#Problem 1.1\n",
    "data1 = input('Please enter your name and gender:')\n",
    "#使用with的话，能够减少冗长，还能自动处理上下文环境产生的异常。\n",
    "with open('problem1_1.txt','w+') as f1:\n",
    "    f1.write(data1)"
   ]
  },
  {
   "cell_type": "code",
   "execution_count": 2,
   "metadata": {},
   "outputs": [],
   "source": [
    "#Problem 1.2\n",
    "import time #引入time模块并以常见格式保存当前时间\n",
    "data2 = time.strftime('%Y-%m-%d %H:%M:%S',time.localtime(time.time()))\n",
    "data3 = input('Please enter your name in pinyin:')\n",
    "with open('problem1_1.txt','r+') as f1:\n",
    "    content = f1.read()    #保存原有内容\n",
    "    f1.seek(0,0)           #将游标移到文件开头\n",
    "    f1.write(data3+'\\n'+data1+'\\n'+data2)  #将三行数据及换行符写入文件中"
   ]
  },
  {
   "cell_type": "code",
   "execution_count": 3,
   "metadata": {},
   "outputs": [],
   "source": [
    "#Problem 1.3\n",
    "plaintext = 'BEIJING -- More than 161.12 million doses of COVID-19 vaccines had been administered across China as of Friday, the National Health Commission said Saturday.'\n",
    "password = []    #创建空列表\n",
    "for char in plaintext:    #遍历字符串，分情况按要求加到列表末尾\n",
    "    if (char >= 'A' and char < 'Z') or (char >= 'a' and char < 'z'):\n",
    "        password.append(chr(ord(char) + 1) )\n",
    "    elif char == 'Z': password.append('A')\n",
    "    elif char == 'z': password.append('a')\n",
    "    else:password.append(char)\n",
    "with open('plaintext.txt','w') as pl:\n",
    "    pl.write(plaintext)\n",
    "with open('password.txt','w') as ps:\n",
    "    ps.write(\"\".join(password))   #使用join函数将所获得列表转换为字符串再写入"
   ]
  }
 ],
 "metadata": {
  "kernelspec": {
   "name": "python370jvsc74a57bd0cc5f70855ac006f3de45a3cc3b9e7d8d53845e50458809cb162b0174266dec97",
   "display_name": "Python 3.7.0 64-bit (conda)"
  },
  "language_info": {
   "codemirror_mode": {
    "name": "ipython",
    "version": 3
   },
   "file_extension": ".py",
   "mimetype": "text/x-python",
   "name": "python",
   "nbconvert_exporter": "python",
   "pygments_lexer": "ipython3",
   "version": "3.7.0-final"
  },
  "metadata": {
   "interpreter": {
    "hash": "04635d289a519a1410467dd0afb0db42f9184808881ca68b2eb5a687a20a5a94"
   }
  }
 },
 "nbformat": 4,
 "nbformat_minor": 2
}