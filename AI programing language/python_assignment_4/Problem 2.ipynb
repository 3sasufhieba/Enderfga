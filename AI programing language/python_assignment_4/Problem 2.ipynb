{
 "cells": [
  {
   "cell_type": "code",
   "execution_count": 304,
   "metadata": {},
   "outputs": [],
   "source": [
    "#Problem 2.1_(1)\n",
    "import random\n",
    "cities = {'Beijing':0,'Shanghai':0,'Guangzhou':0,'Shenzhen':0} #给北上广深4个城市初始化，value值为居住人口 \n",
    "times = 0\n",
    "class People:\n",
    "   '所有人的基类'\n",
    "   Count = 0  #实例化对象数（即总人数）\n",
    "   global message  \n",
    "   message = {}  \n",
    " \n",
    "   def __init__(self, name):  #给对象初始化，并随机分配城市\n",
    "      self.name = name\n",
    "      People.Count += 1      \n",
    "      for c in cities.keys():\n",
    "        self.city = random.sample(cities.keys(), 1) # 随机一个字典中的key，第二个参数为限制个数\n",
    "      message[self.name] = self.city[0]\n",
    "      cities[self.city[0]] += 1 #对应城市人口增加\n",
    "   \n",
    "   def displaymessage(self):  #展示该对象姓名与城市\n",
    "      print(\"Name : \", self.name,  \", City: \", self.city[0])\n",
    "\n",
    "   def displaytotal(self):    #展示目前所有信息包括总人数\n",
    "      print(\"Total people:%d\"%People.Count)\n",
    "      print(message)\n",
    "\n",
    "   def moveto(self, newcity):\n",
    "      cities[self.city[0]] -= 1 #原城市人口减少\n",
    "      self.city = newcity\n",
    "      cities[self.city[0]] += 1 #新城市人口增加\n",
    "      print(self.name,end='')\n",
    "      print(\" moves to \",end='')    \n",
    "      print(self.city[0])\n",
    "\n",
    "   def __sort_city(self):    #按照居住人口数降序给4个城市排序\n",
    "      print(sorted(cities.items(), key = lambda kv:(kv[1], kv[0]),reverse=True)) "
   ]
  },
  {
   "cell_type": "code",
   "execution_count": 305,
   "metadata": {},
   "outputs": [
    {
     "name": "stdout",
     "output_type": "stream",
     "text": [
      "Name :  Enderfga , City:  Guangzhou\n",
      "Name :  xiaoming , City:  Beijing\n",
      "Name :  xiaohong , City:  Guangzhou\n",
      "Name :  xiaobai , City:  Shanghai\n",
      "Name :  xiaohei , City:  Beijing\n",
      "Name :  xiaolv , City:  Guangzhou\n",
      "Name :  xiaolan , City:  Shanghai\n",
      "Name :  xiaozi , City:  Shanghai\n",
      "Total people:8\n",
      "{'Enderfga': 'Guangzhou', 'xiaoming': 'Beijing', 'xiaohong': 'Guangzhou', 'xiaobai': 'Shanghai', 'xiaohei': 'Beijing', 'xiaolv': 'Guangzhou', 'xiaolan': 'Shanghai', 'xiaozi': 'Shanghai'}\n",
      "[('Shanghai', 3), ('Guangzhou', 3), ('Beijing', 2), ('Shenzhen', 0)]\n"
     ]
    }
   ],
   "source": [
    "#Problem 2.1_(2)\n",
    "P1 = People(\"Enderfga\")\n",
    "P1.displaymessage()\n",
    "P2 = People(\"xiaoming\")\n",
    "P2.displaymessage()\n",
    "P3 = People(\"xiaohong\")\n",
    "P3.displaymessage()\n",
    "P4 = People(\"xiaobai\")\n",
    "P4.displaymessage()\n",
    "P5 = People(\"xiaohei\")\n",
    "P5.displaymessage()\n",
    "P6 = People(\"xiaolv\")\n",
    "P6.displaymessage()\n",
    "P7 = People(\"xiaolan\")\n",
    "P7.displaymessage()\n",
    "P8 = People(\"xiaozi\")\n",
    "P8.displaymessage()\n",
    "P8.displaytotal()\n",
    "P8._People__sort_city()"
   ]
  },
  {
   "cell_type": "code",
   "execution_count": 306,
   "metadata": {},
   "outputs": [
    {
     "name": "stdout",
     "output_type": "stream",
     "text": [
      "xiaoming moves to Shanghai\n",
      "xiaozi moves to Beijing\n",
      "xiaolv moves to Shenzhen\n",
      "xiaohei moves to Guangzhou\n"
     ]
    }
   ],
   "source": [
    "#Problem 2.1_(3)\n",
    "P = [P1,P2,P3,P4,P5,P6,P7,P8]   #构建含有当前8个对象的列表\n",
    "def ran(city):     #该函数用于判断随机城市是否与原居住城市不同\n",
    "    temp = random.sample(cities.keys(), 1)\n",
    "    if temp == city:\n",
    "        ran(temp)\n",
    "    else :\n",
    "        return temp\n",
    "for obj in random.sample(P, 4): #从中随机抽取4人\n",
    "    obj.moveto(ran(obj.city))"
   ]
  },
  {
   "cell_type": "code",
   "execution_count": 307,
   "metadata": {},
   "outputs": [
    {
     "name": "stdout",
     "output_type": "stream",
     "text": [
      "[('Shanghai', 3), ('Guangzhou', 3), ('Shenzhen', 1), ('Beijing', 1)]\n"
     ]
    }
   ],
   "source": [
    "#Problem 2.1_(4)\n",
    "P8._People__sort_city()    #再运行一次sort_city，由于第三问中的搬迁，结果与上一次不同"
   ]
  },
  {
   "cell_type": "code",
   "execution_count": 317,
   "metadata": {},
   "outputs": [
    {
     "name": "stdout",
     "output_type": "stream",
     "text": [
      "A moves to a University\n",
      "B moves to b University\n",
      "C moves to c University\n",
      "D moves to d University\n"
     ]
    }
   ],
   "source": [
    "#Problem 2.2\n",
    "class Teacher(People):         #继承People类派生出Teacher类\n",
    "   def __init__(self, name):  #给对象初始化，并随机分配城市,默认位于SYSU大学\n",
    "      self.name = name\n",
    "      self.__school = 'SYSU'\n",
    "      People.Count += 1      \n",
    "      for c in cities.keys():\n",
    "        self.city = random.sample(cities.keys(), 1) # 随机一个字典中的key，第二个参数为限制个数\n",
    "      message[self.name] = self.city[0]\n",
    "      cities[self.city[0]] += 1 #对应城市人口增加\n",
    "   def moveto(self, newschool):  #重写该方法，满足输出去其他学校工作的要求\n",
    "      self.__school = newschool\n",
    "      print(self.name,end='')\n",
    "      print(\" moves to \",end='')    \n",
    "      print(self.__school,end=' ')\n",
    "      print(\"University\")\n",
    "T1 = Teacher('A')\n",
    "T2 = Teacher('B')\n",
    "T3 = Teacher('C')\n",
    "T4 = Teacher('D')\n",
    "T1.moveto('a')\n",
    "T2.moveto('b')\n",
    "T3.moveto('c')\n",
    "T4.moveto('d')"
   ]
  }
 ],
 "metadata": {
  "kernelspec": {
   "display_name": "Python 3",
   "language": "python",
   "name": "python3"
  },
  "language_info": {
   "codemirror_mode": {
    "name": "ipython",
    "version": 3
   },
   "file_extension": ".py",
   "mimetype": "text/x-python",
   "name": "python",
   "nbconvert_exporter": "python",
   "pygments_lexer": "ipython3",
   "version": "3.7.0"
  }
 },
 "nbformat": 4,
 "nbformat_minor": 2
}
