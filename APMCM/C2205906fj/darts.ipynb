{
 "cells": [
  {
   "cell_type": "code",
   "execution_count": 1,
   "metadata": {},
   "outputs": [],
   "source": [
    "%load_ext autoreload\n",
    "%autoreload 2\n",
    "%matplotlib inline"
   ]
  },
  {
   "cell_type": "code",
   "execution_count": 2,
   "metadata": {},
   "outputs": [],
   "source": [
    "import numpy as np\n",
    "import pandas as pd\n",
    "from tqdm import tqdm_notebook as tqdm\n",
    "\n",
    "import matplotlib.pyplot as plt\n",
    "\n",
    "from darts import TimeSeries, concatenate\n",
    "from darts.dataprocessing.transformers import Scaler\n",
    "from darts.models import TFTModel\n",
    "from darts.metrics import mape\n",
    "from darts.utils.statistics import check_seasonality, plot_acf\n",
    "from darts.datasets import AirPassengersDataset, IceCreamHeaterDataset\n",
    "from darts.utils.timeseries_generation import datetime_attribute_timeseries\n",
    "from darts.utils.likelihood_models import QuantileRegression\n",
    "\n",
    "import warnings\n",
    "\n",
    "warnings.filterwarnings(\"ignore\")\n",
    "import logging\n",
    "\n",
    "logging.disable(logging.CRITICAL)"
   ]
  },
  {
   "cell_type": "code",
   "execution_count": 15,
   "metadata": {},
   "outputs": [],
   "source": [
    "# Read a pandas DataFrame\n",
    "df = pd.read_csv(\"GlobalTemperatures.csv\", delimiter=\",\")\n",
    "\n",
    "# Create a TimeSeries, specifying the time and value columns\n",
    "series = TimeSeries.from_dataframe(df, \"dt\", \"LandAverageTemperature\")\n",
    "\n",
    "# 创建一个从20160101到21001201，每月的时间序列\n",
    "pred = TimeSeries.from_times_and_values(pd.date_range('17500101', '21001201', freq='M'), np.random.randn(4211))\n",
    "\n",
    "series = series.astype(np.float32)\n",
    "\n",
    "transformer = Scaler()\n",
    "train_transformed = transformer.fit_transform(series)\n",
    "series_transformed = transformer.transform(series)\n",
    "\n",
    "\n",
    "\n",
    "# create year, month and integer index covariate series\n",
    "covariates = datetime_attribute_timeseries(pred, attribute=\"year\", one_hot=False)\n",
    "covariates = covariates.stack(\n",
    "    datetime_attribute_timeseries(pred, attribute=\"month\", one_hot=False)\n",
    ")\n",
    "covariates = covariates.stack(\n",
    "    TimeSeries.from_times_and_values(\n",
    "        times=pred.time_index,\n",
    "        values=np.arange(len(pred)),\n",
    "        columns=[\"linear_increase\"],\n",
    "    )\n",
    ")\n",
    "covariates = covariates.astype(np.float32)\n",
    "training_cutoff = pd.Timestamp(\"20151201\")\n",
    "scaler_covs = Scaler()\n",
    "cov_train, cov_val = covariates.split_after(training_cutoff)\n",
    "scaler_covs.fit(cov_train)\n",
    "covariates_transformed = scaler_covs.transform(covariates)"
   ]
  },
  {
   "cell_type": "code",
   "execution_count": 11,
   "metadata": {},
   "outputs": [],
   "source": [
    "# default quantiles for QuantileRegression\n",
    "quantiles = [\n",
    "    0.01,\n",
    "    0.05,\n",
    "    0.1,\n",
    "    0.15,\n",
    "    0.2,\n",
    "    0.25,\n",
    "    0.3,\n",
    "    0.4,\n",
    "    0.5,\n",
    "    0.6,\n",
    "    0.7,\n",
    "    0.75,\n",
    "    0.8,\n",
    "    0.85,\n",
    "    0.9,\n",
    "    0.95,\n",
    "    0.99,\n",
    "]\n",
    "input_chunk_length = 24\n",
    "forecast_horizon = 12\n",
    "my_model = TFTModel(\n",
    "    input_chunk_length=input_chunk_length,\n",
    "    output_chunk_length=forecast_horizon,\n",
    "    hidden_size=64,\n",
    "    lstm_layers=1,\n",
    "    num_attention_heads=4,\n",
    "    dropout=0.1,\n",
    "    batch_size=16,\n",
    "    n_epochs=300,\n",
    "    add_relative_index=False,\n",
    "    add_encoders=None,\n",
    "    likelihood=QuantileRegression(\n",
    "        quantiles=quantiles\n",
    "    ),  # QuantileRegression is set per default\n",
    "    # loss_fn=MSELoss(),\n",
    "    random_state=42,\n",
    "    pl_trainer_kwargs={\n",
    "      \"accelerator\": \"gpu\",\n",
    "      \"devices\": [0]\n",
    "    },\n",
    ")"
   ]
  },
  {
   "cell_type": "code",
   "execution_count": null,
   "metadata": {},
   "outputs": [],
   "source": [
    "my_model.fit(train_transformed, future_covariates=covariates_transformed, verbose=True)"
   ]
  },
  {
   "cell_type": "code",
   "execution_count": 36,
   "metadata": {},
   "outputs": [],
   "source": [
    "my_model.save(\"my_model.pt\")"
   ]
  },
  {
   "cell_type": "code",
   "execution_count": null,
   "metadata": {},
   "outputs": [],
   "source": [
    "# before starting, we define some constant\n",
    "pred_series = my_model.predict(n=12)\n",
    "print(pred_series)"
   ]
  },
  {
   "cell_type": "code",
   "execution_count": 26,
   "metadata": {},
   "outputs": [
    {
     "data": {
      "application/vnd.jupyter.widget-view+json": {
       "model_id": "ae0cbaf3ec494e57ad7c406a719678f7",
       "version_major": 2,
       "version_minor": 0
      },
      "text/plain": [
       "  0%|          | 0/10 [00:00<?, ?it/s]"
      ]
     },
     "metadata": {},
     "output_type": "display_data"
    },
    {
     "data": {
      "application/vnd.jupyter.widget-view+json": {
       "model_id": "fedc8cd9240b46b2b90d4342b6090dd3",
       "version_major": 2,
       "version_minor": 0
      },
      "text/plain": [
       "Predicting: 198it [00:00, ?it/s]"
      ]
     },
     "metadata": {},
     "output_type": "display_data"
    },
    {
     "data": {
      "application/vnd.jupyter.widget-view+json": {
       "model_id": "972564f83deb485b8e1107d4a06dc035",
       "version_major": 2,
       "version_minor": 0
      },
      "text/plain": [
       "Predicting: 198it [00:00, ?it/s]"
      ]
     },
     "metadata": {},
     "output_type": "display_data"
    },
    {
     "data": {
      "application/vnd.jupyter.widget-view+json": {
       "model_id": "b925aa4f34d841198ba6b907abe02dda",
       "version_major": 2,
       "version_minor": 0
      },
      "text/plain": [
       "Predicting: 198it [00:00, ?it/s]"
      ]
     },
     "metadata": {},
     "output_type": "display_data"
    },
    {
     "data": {
      "application/vnd.jupyter.widget-view+json": {
       "model_id": "e1d9caae8e7f4d7fa8914db4276c03f9",
       "version_major": 2,
       "version_minor": 0
      },
      "text/plain": [
       "Predicting: 198it [00:00, ?it/s]"
      ]
     },
     "metadata": {},
     "output_type": "display_data"
    },
    {
     "data": {
      "application/vnd.jupyter.widget-view+json": {
       "model_id": "24b7613bff9a4aa7a24a343c198680a9",
       "version_major": 2,
       "version_minor": 0
      },
      "text/plain": [
       "Predicting: 198it [00:00, ?it/s]"
      ]
     },
     "metadata": {},
     "output_type": "display_data"
    },
    {
     "data": {
      "application/vnd.jupyter.widget-view+json": {
       "model_id": "adfe438667b84d129530286d51f99c50",
       "version_major": 2,
       "version_minor": 0
      },
      "text/plain": [
       "Predicting: 198it [00:00, ?it/s]"
      ]
     },
     "metadata": {},
     "output_type": "display_data"
    },
    {
     "data": {
      "application/vnd.jupyter.widget-view+json": {
       "model_id": "729d4c8236d448d9b126b7c6c094e4d0",
       "version_major": 2,
       "version_minor": 0
      },
      "text/plain": [
       "Predicting: 198it [00:00, ?it/s]"
      ]
     },
     "metadata": {},
     "output_type": "display_data"
    },
    {
     "data": {
      "application/vnd.jupyter.widget-view+json": {
       "model_id": "5ecd9f2b53a6415195b337d90ffe7900",
       "version_major": 2,
       "version_minor": 0
      },
      "text/plain": [
       "Predicting: 198it [00:00, ?it/s]"
      ]
     },
     "metadata": {},
     "output_type": "display_data"
    },
    {
     "data": {
      "application/vnd.jupyter.widget-view+json": {
       "model_id": "cbe48eb12d814325994e2e11d355d64c",
       "version_major": 2,
       "version_minor": 0
      },
      "text/plain": [
       "Predicting: 198it [00:00, ?it/s]"
      ]
     },
     "metadata": {},
     "output_type": "display_data"
    },
    {
     "data": {
      "application/vnd.jupyter.widget-view+json": {
       "model_id": "8b6e9d253c864cb295de3c9737d3705f",
       "version_major": 2,
       "version_minor": 0
      },
      "text/plain": [
       "Predicting: 198it [00:00, ?it/s]"
      ]
     },
     "metadata": {},
     "output_type": "display_data"
    }
   ],
   "source": [
    "backtest_series = my_model.historical_forecasts(\n",
    "    series,\n",
    "    future_covariates=covariates,\n",
    "    start=series.end_time() - 120*series.freq,\n",
    "    num_samples=200,\n",
    "    forecast_horizon=forecast_horizon,\n",
    "    stride=forecast_horizon,\n",
    "    last_points_only=False,\n",
    "    retrain=False,\n",
    "    verbose=True,\n",
    ")"
   ]
  },
  {
   "cell_type": "code",
   "execution_count": null,
   "metadata": {},
   "outputs": [],
   "source": [
    "transformer = Scaler()\n",
    "num_samples = 200\n",
    "\n",
    "figsize = (9, 6)\n",
    "lowest_q, low_q, high_q, highest_q = 0.01, 0.1, 0.9, 0.99\n",
    "label_q_outer = f\"{int(lowest_q * 100)}-{int(highest_q * 100)}th percentiles\"\n",
    "label_q_inner = f\"{int(low_q * 100)}-{int(high_q * 100)}th percentiles\"\n",
    "def eval_backtest(backtest_series, actual_series, horizon, start, transformer):\n",
    "    plt.figure(figsize=figsize)\n",
    "    actual_series.plot(label=\"actual\")\n",
    "    backtest_series.plot(\n",
    "        low_quantile=lowest_q, high_quantile=highest_q, label=label_q_outer\n",
    "    )\n",
    "    backtest_series.plot(low_quantile=low_q, high_quantile=high_q, label=label_q_inner)\n",
    "    plt.legend()\n",
    "    plt.title(f\"Backtest, starting {start}, {horizon}-months horizon\")\n",
    "    print(\n",
    "        \"MAPE: {:.2f}%\".format(\n",
    "            mape(\n",
    "                actual_series,\n",
    "                backtest_series,\n",
    "            )\n",
    "        )\n",
    "    )\n",
    "\n",
    "\n",
    "eval_backtest(\n",
    "    backtest_series=concatenate(backtest_series),\n",
    "    actual_series=series,\n",
    "    horizon=forecast_horizon,\n",
    "    start=series.end_time() - 120*series.freq,\n",
    "    transformer=transformer,\n",
    ")"
   ]
  },
  {
   "cell_type": "code",
   "execution_count": 35,
   "metadata": {},
   "outputs": [
    {
     "name": "stderr",
     "output_type": "stream",
     "text": [
      "LOCAL_RANK: 0 - CUDA_VISIBLE_DEVICES: [0,1]\n"
     ]
    },
    {
     "data": {
      "application/vnd.jupyter.widget-view+json": {
       "model_id": "45ab8856598645968b8d5e2e3975e50e",
       "version_major": 2,
       "version_minor": 0
      },
      "text/plain": [
       "Predicting: 3it [00:00, ?it/s]"
      ]
     },
     "metadata": {},
     "output_type": "display_data"
    },
    {
     "data": {
      "image/png": "[encoded data removed]",
      "text/plain": [
       "<Figure size 640x480 with 1 Axes>"
      ]
     },
     "metadata": {},
     "output_type": "display_data"
    }
   ],
   "source": [
    "pred = my_model.predict(n=12*(100-15))\n",
    "pred.plot(label=\"prediction\")"
   ]
  },
  {
   "cell_type": "code",
   "execution_count": 39,
   "metadata": {},
   "outputs": [],
   "source": [
    "# 将pred转换为dataframe\n",
    "pred_df = pred.pd_dataframe()\n",
    "pred_df['dt'] = pd.date_range(start='2016-01-01', periods=1020, freq='MS')"
   ]
  },
  {
   "cell_type": "code",
   "execution_count": 47,
   "metadata": {},
   "outputs": [
    {
     "data": {
      "application/vnd.plotly.v1+json": {
       "config": {
        "plotlyServerURL": "https://plot.ly"
       },
       "data": [
        {
         "name": "actual",
         "type": "scatter",
         "x": [
          "2015-01-01",
          "2015-02-01",
          "2015-03-01",
          "2015-04-01",
          "2015-05-01",
          "2015-06-01",
          "2015-07-01",
          "2015-08-01",
          "2015-09-01",
          "2015-10-01",
          "2015-11-01",
          "2015-12-01"
         ],
         "y": [
          3.881,
          4.664,
          6.74,
          9.313,
          12.312,
          14.505,
          15.050999999999998,
          14.755,
          12.999,
          10.800999999999998,
          7.433,
          5.518
         ]
        },
        {
         "name": "prediction",
         "type": "scatter",
         "x": [
          "2016-01-01T00:00:00",
          "2016-02-01T00:00:00",
          "2016-03-01T00:00:00",
          "2016-04-01T00:00:00",
          "2016-05-01T00:00:00",
          "2016-06-01T00:00:00",
          "2016-07-01T00:00:00",
          "2016-08-01T00:00:00",
          "2016-09-01T00:00:00",
          "2016-10-01T00:00:00",
          "2016-11-01T00:00:00",
          "2016-12-01T00:00:00",
          "2017-01-01T00:00:00",
          "2017-02-01T00:00:00",
          "2017-03-01T00:00:00",
          "2017-04-01T00:00:00",
          "2017-05-01T00:00:00",
          "2017-06-01T00:00:00",
          "2017-07-01T00:00:00",
          "2017-08-01T00:00:00",
          "2017-09-01T00:00:00",
          "2017-10-01T00:00:00",
          "2017-11-01T00:00:00",
          "2017-12-01T00:00:00",
          "2018-01-01T00:00:00",
          "2018-02-01T00:00:00",
          "2018-03-01T00:00:00",
          "2018-04-01T00:00:00",
          "2018-05-01T00:00:00",
          "2018-06-01T00:00:00",
          "2018-07-01T00:00:00",
          "2018-08-01T00:00:00",
          "2018-09-01T00:00:00",
          "2018-10-01T00:00:00",
          "2018-11-01T00:00:00",
          "2018-12-01T00:00:00",
          "2019-01-01T00:00:00",
          "2019-02-01T00:00:00",
          "2019-03-01T00:00:00",
          "2019-04-01T00:00:00",
          "2019-05-01T00:00:00",
          "2019-06-01T00:00:00",
          "2019-07-01T00:00:00",
          "2019-08-01T00:00:00",
          "2019-09-01T00:00:00",
          "2019-10-01T00:00:00",
          "2019-11-01T00:00:00",
          "2019-12-01T00:00:00",
          "2020-01-01T00:00:00",
          "2020-02-01T00:00:00",
          "2020-03-01T00:00:00",
          "2020-04-01T00:00:00",
          "2020-05-01T00:00:00",
          "2020-06-01T00:00:00",
          "2020-07-01T00:00:00",
          "2020-08-01T00:00:00",
          "2020-09-01T00:00:00",
          "2020-10-01T00:00:00",
          "2020-11-01T00:00:00",
          "2020-12-01T00:00:00",
          "2021-01-01T00:00:00",
          "2021-02-01T00:00:00",
          "2021-03-01T00:00:00",
          "2021-04-01T00:00:00",
          "2021-05-01T00:00:00",
          "2021-06-01T00:00:00",
          "2021-07-01T00:00:00",
          "2021-08-01T00:00:00",
          "2021-09-01T00:00:00",
          "2021-10-01T00:00:00",
          "2021-11-01T00:00:00",
          "2021-12-01T00:00:00",
          "2022-01-01T00:00:00",
          "2022-02-01T00:00:00",
          "2022-03-01T00:00:00",
          "2022-04-01T00:00:00",
          "2022-05-01T00:00:00",
          "2022-06-01T00:00:00",
          "2022-07-01T00:00:00",
          "2022-08-01T00:00:00",
          "2022-09-01T00:00:00",
          "2022-10-01T00:00:00",
          "2022-11-01T00:00:00",
          "2022-12-01T00:00:00",
          "2023-01-01T00:00:00",
          "2023-02-01T00:00:00",
          "2023-03-01T00:00:00",
          "2023-04-01T00:00:00",
          "2023-05-01T00:00:00",
          "2023-06-01T00:00:00",
          "2023-07-01T00:00:00",
          "2023-08-01T00:00:00",
          "2023-09-01T00:00:00",
          "2023-10-01T00:00:00",
          "2023-11-01T00:00:00",
          "2023-12-01T00:00:00",
          "2024-01-01T00:00:00",
          "2024-02-01T00:00:00",
          "2024-03-01T00:00:00",
          "2024-04-01T00:00:00",
          "2024-05-01T00:00:00",
          "2024-06-01T00:00:00",
          "2024-07-01T00:00:00",
          "2024-08-01T00:00:00",
          "2024-09-01T00:00:00",
          "2024-10-01T00:00:00",
          "2024-11-01T00:00:00",
          "2024-12-01T00:00:00",
          "2025-01-01T00:00:00",
          "2025-02-01T00:00:00",
          "2025-03-01T00:00:00",
          "2025-04-01T00:00:00",
          "2025-05-01T00:00:00",
          "2025-06-01T00:00:00",
          "2025-07-01T00:00:00",
          "2025-08-01T00:00:00",
          "2025-09-01T00:00:00",
          "2025-10-01T00:00:00",
          "2025-11-01T00:00:00",
          "2025-12-01T00:00:00",
          "2026-01-01T00:00:00",
          "2026-02-01T00:00:00",
          "2026-03-01T00:00:00",
          "2026-04-01T00:00:00",
          "2026-05-01T00:00:00",
          "2026-06-01T00:00:00",
          "2026-07-01T00:00:00",
          "2026-08-01T00:00:00",
          "2026-09-01T00:00:00",
          "2026-10-01T00:00:00",
          "2026-11-01T00:00:00",
          "2026-12-01T00:00:00",
          "2027-01-01T00:00:00",
          "2027-02-01T00:00:00",
          "2027-03-01T00:00:00",
          "2027-04-01T00:00:00",
          "2027-05-01T00:00:00",
          "2027-06-01T00:00:00",
          "2027-07-01T00:00:00",
          "2027-08-01T00:00:00",
          "2027-09-01T00:00:00",
          "2027-10-01T00:00:00",
          "2027-11-01T00:00:00",
          "2027-12-01T00:00:00",
          "2028-01-01T00:00:00",
          "2028-02-01T00:00:00",
          "2028-03-01T00:00:00",
          "2028-04-01T00:00:00",
          "2028-05-01T00:00:00",
          "2028-06-01T00:00:00",
          "2028-07-01T00:00:00",
          "2028-08-01T00:00:00",
          "2028-09-01T00:00:00",
          "2028-10-01T00:00:00",
          "2028-11-01T00:00:00",
          "2028-12-01T00:00:00",
          "2029-01-01T00:00:00",
          "2029-02-01T00:00:00",
          "2029-03-01T00:00:00",
          "2029-04-01T00:00:00",
          "2029-05-01T00:00:00",
          "2029-06-01T00:00:00",
          "2029-07-01T00:00:00",
          "2029-08-01T00:00:00",
          "2029-09-01T00:00:00",
          "2029-10-01T00:00:00",
          "2029-11-01T00:00:00",
          "2029-12-01T00:00:00",
          "2030-01-01T00:00:00",
          "2030-02-01T00:00:00",
          "2030-03-01T00:00:00",
          "2030-04-01T00:00:00",
          "2030-05-01T00:00:00",
          "2030-06-01T00:00:00",
          "2030-07-01T00:00:00",
          "2030-08-01T00:00:00",
          "2030-09-01T00:00:00",
          "2030-10-01T00:00:00",
          "2030-11-01T00:00:00",
          "2030-12-01T00:00:00",
          "2031-01-01T00:00:00",
          "2031-02-01T00:00:00",
          "2031-03-01T00:00:00",
          "2031-04-01T00:00:00",
          "2031-05-01T00:00:00",
          "2031-06-01T00:00:00",
          "2031-07-01T00:00:00",
          "2031-08-01T00:00:00",
          "2031-09-01T00:00:00",
          "2031-10-01T00:00:00",
          "2031-11-01T00:00:00",
          "2031-12-01T00:00:00",
          "2032-01-01T00:00:00",
          "2032-02-01T00:00:00",
          "2032-03-01T00:00:00",
          "2032-04-01T00:00:00",
          "2032-05-01T00:00:00",
          "2032-06-01T00:00:00",
          "2032-07-01T00:00:00",
          "2032-08-01T00:00:00",
          "2032-09-01T00:00:00",
          "2032-10-01T00:00:00",
          "2032-11-01T00:00:00",
          "2032-12-01T00:00:00",
          "2033-01-01T00:00:00",
          "2033-02-01T00:00:00",
          "2033-03-01T00:00:00",
          "2033-04-01T00:00:00",
          "2033-05-01T00:00:00",
          "2033-06-01T00:00:00",
          "2033-07-01T00:00:00",
          "2033-08-01T00:00:00",
          "2033-09-01T00:00:00",
          "2033-10-01T00:00:00",
          "2033-11-01T00:00:00",
          "2033-12-01T00:00:00",
          "2034-01-01T00:00:00",
          "2034-02-01T00:00:00",
          "2034-03-01T00:00:00",
          "2034-04-01T00:00:00",
          "2034-05-01T00:00:00",
          "2034-06-01T00:00:00",
          "2034-07-01T00:00:00",
          "2034-08-01T00:00:00",
          "2034-09-01T00:00:00",
          "2034-10-01T00:00:00",
          "2034-11-01T00:00:00",
          "2034-12-01T00:00:00",
          "2035-01-01T00:00:00",
          "2035-02-01T00:00:00",
          "2035-03-01T00:00:00",
          "2035-04-01T00:00:00",
          "2035-05-01T00:00:00",
          "2035-06-01T00:00:00",
          "2035-07-01T00:00:00",
          "2035-08-01T00:00:00",
          "2035-09-01T00:00:00",
          "2035-10-01T00:00:00",
          "2035-11-01T00:00:00",
          "2035-12-01T00:00:00",
          "2036-01-01T00:00:00",
          "2036-02-01T00:00:00",
          "2036-03-01T00:00:00",
          "2036-04-01T00:00:00",
          "2036-05-01T00:00:00",
          "2036-06-01T00:00:00",
          "2036-07-01T00:00:00",
          "2036-08-01T00:00:00",
          "2036-09-01T00:00:00",
          "2036-10-01T00:00:00",
          "2036-11-01T00:00:00",
          "2036-12-01T00:00:00",
          "2037-01-01T00:00:00",
          "2037-02-01T00:00:00",
          "2037-03-01T00:00:00",
          "2037-04-01T00:00:00",
          "2037-05-01T00:00:00",
          "2037-06-01T00:00:00",
          "2037-07-01T00:00:00",
          "2037-08-01T00:00:00",
          "2037-09-01T00:00:00",
          "2037-10-01T00:00:00",
          "2037-11-01T00:00:00",
          "2037-12-01T00:00:00",
          "2038-01-01T00:00:00",
          "2038-02-01T00:00:00",
          "2038-03-01T00:00:00",
          "2038-04-01T00:00:00",
          "2038-05-01T00:00:00",
          "2038-06-01T00:00:00",
          "2038-07-01T00:00:00",
          "2038-08-01T00:00:00",
          "2038-09-01T00:00:00",
          "2038-10-01T00:00:00",
          "2038-11-01T00:00:00",
          "2038-12-01T00:00:00",
          "2039-01-01T00:00:00",
          "2039-02-01T00:00:00",
          "2039-03-01T00:00:00",
          "2039-04-01T00:00:00",
          "2039-05-01T00:00:00",
          "2039-06-01T00:00:00",
          "2039-07-01T00:00:00",
          "2039-08-01T00:00:00",
          "2039-09-01T00:00:00",
          "2039-10-01T00:00:00",
          "2039-11-01T00:00:00",
          "2039-12-01T00:00:00",
          "2040-01-01T00:00:00",
          "2040-02-01T00:00:00",
          "2040-03-01T00:00:00",
          "2040-04-01T00:00:00",
          "2040-05-01T00:00:00",
          "2040-06-01T00:00:00",
          "2040-07-01T00:00:00",
          "2040-08-01T00:00:00",
          "2040-09-01T00:00:00",
          "2040-10-01T00:00:00",
          "2040-11-01T00:00:00",
          "2040-12-01T00:00:00",
          "2041-01-01T00:00:00",
          "2041-02-01T00:00:00",
          "2041-03-01T00:00:00",
          "2041-04-01T00:00:00",
          "2041-05-01T00:00:00",
          "2041-06-01T00:00:00",
          "2041-07-01T00:00:00",
          "2041-08-01T00:00:00",
          "2041-09-01T00:00:00",
          "2041-10-01T00:00:00",
          "2041-11-01T00:00:00",
          "2041-12-01T00:00:00",
          "2042-01-01T00:00:00",
          "2042-02-01T00:00:00",
          "2042-03-01T00:00:00",
          "2042-04-01T00:00:00",
          "2042-05-01T00:00:00",
          "2042-06-01T00:00:00",
          "2042-07-01T00:00:00",
          "2042-08-01T00:00:00",
          "2042-09-01T00:00:00",
          "2042-10-01T00:00:00",
          "2042-11-01T00:00:00",
          "2042-12-01T00:00:00",
          "2043-01-01T00:00:00",
          "2043-02-01T00:00:00",
          "2043-03-01T00:00:00",
          "2043-04-01T00:00:00",
          "2043-05-01T00:00:00",
          "2043-06-01T00:00:00",
          "2043-07-01T00:00:00",
          "2043-08-01T00:00:00",
          "2043-09-01T00:00:00",
          "2043-10-01T00:00:00",
          "2043-11-01T00:00:00",
          "2043-12-01T00:00:00",
          "2044-01-01T00:00:00",
          "2044-02-01T00:00:00",
          "2044-03-01T00:00:00",
          "2044-04-01T00:00:00",
          "2044-05-01T00:00:00",
          "2044-06-01T00:00:00",
          "2044-07-01T00:00:00",
          "2044-08-01T00:00:00",
          "2044-09-01T00:00:00",
          "2044-10-01T00:00:00",
          "2044-11-01T00:00:00",
          "2044-12-01T00:00:00",
          "2045-01-01T00:00:00",
          "2045-02-01T00:00:00",
          "2045-03-01T00:00:00",
          "2045-04-01T00:00:00",
          "2045-05-01T00:00:00",
          "2045-06-01T00:00:00",
          "2045-07-01T00:00:00",
          "2045-08-01T00:00:00",
          "2045-09-01T00:00:00",
          "2045-10-01T00:00:00",
          "2045-11-01T00:00:00",
          "2045-12-01T00:00:00",
          "2046-01-01T00:00:00",
          "2046-02-01T00:00:00",
          "2046-03-01T00:00:00",
          "2046-04-01T00:00:00",
          "2046-05-01T00:00:00",
          "2046-06-01T00:00:00",
          "2046-07-01T00:00:00",
          "2046-08-01T00:00:00",
          "2046-09-01T00:00:00",
          "2046-10-01T00:00:00",
          "2046-11-01T00:00:00",
          "2046-12-01T00:00:00",
          "2047-01-01T00:00:00",
          "2047-02-01T00:00:00",
          "2047-03-01T00:00:00",
          "2047-04-01T00:00:00",
          "2047-05-01T00:00:00",
          "2047-06-01T00:00:00",
          "2047-07-01T00:00:00",
          "2047-08-01T00:00:00",
          "2047-09-01T00:00:00",
          "2047-10-01T00:00:00",
          "2047-11-01T00:00:00",
          "2047-12-01T00:00:00",
          "2048-01-01T00:00:00",
          "2048-02-01T00:00:00",
          "2048-03-01T00:00:00",
          "2048-04-01T00:00:00",
          "2048-05-01T00:00:00",
          "2048-06-01T00:00:00",
          "2048-07-01T00:00:00",
          "2048-08-01T00:00:00",
          "2048-09-01T00:00:00",
          "2048-10-01T00:00:00",
          "2048-11-01T00:00:00",
          "2048-12-01T00:00:00",
          "2049-01-01T00:00:00",
          "2049-02-01T00:00:00",
          "2049-03-01T00:00:00",
          "2049-04-01T00:00:00",
          "2049-05-01T00:00:00",
          "2049-06-01T00:00:00",
          "2049-07-01T00:00:00",
          "2049-08-01T00:00:00",
          "2049-09-01T00:00:00",
          "2049-10-01T00:00:00",
          "2049-11-01T00:00:00",
          "2049-12-01T00:00:00",
          "2050-01-01T00:00:00",
          "2050-02-01T00:00:00",
          "2050-03-01T00:00:00",
          "2050-04-01T00:00:00",
          "2050-05-01T00:00:00",
          "2050-06-01T00:00:00",
          "2050-07-01T00:00:00",
          "2050-08-01T00:00:00",
          "2050-09-01T00:00:00",
          "2050-10-01T00:00:00",
          "2050-11-01T00:00:00",
          "2050-12-01T00:00:00",
          "2051-01-01T00:00:00",
          "2051-02-01T00:00:00",
          "2051-03-01T00:00:00",
          "2051-04-01T00:00:00",
          "2051-05-01T00:00:00",
          "2051-06-01T00:00:00",
          "2051-07-01T00:00:00",
          "2051-08-01T00:00:00",
          "2051-09-01T00:00:00",
          "2051-10-01T00:00:00",
          "2051-11-01T00:00:00",
          "2051-12-01T00:00:00",
          "2052-01-01T00:00:00",
          "2052-02-01T00:00:00",
          "2052-03-01T00:00:00",
          "2052-04-01T00:00:00",
          "2052-05-01T00:00:00",
          "2052-06-01T00:00:00",
          "2052-07-01T00:00:00",
          "2052-08-01T00:00:00",
          "2052-09-01T00:00:00",
          "2052-10-01T00:00:00",
          "2052-11-01T00:00:00",
          "2052-12-01T00:00:00",
          "2053-01-01T00:00:00",
          "2053-02-01T00:00:00",
          "2053-03-01T00:00:00",
          "2053-04-01T00:00:00",
          "2053-05-01T00:00:00",
          "2053-06-01T00:00:00",
          "2053-07-01T00:00:00",
          "2053-08-01T00:00:00",
          "2053-09-01T00:00:00",
          "2053-10-01T00:00:00",
          "2053-11-01T00:00:00",
          "2053-12-01T00:00:00",
          "2054-01-01T00:00:00",
          "2054-02-01T00:00:00",
          "2054-03-01T00:00:00",
          "2054-04-01T00:00:00",
          "2054-05-01T00:00:00",
          "2054-06-01T00:00:00",
          "2054-07-01T00:00:00",
          "2054-08-01T00:00:00",
          "2054-09-01T00:00:00",
          "2054-10-01T00:00:00",
          "2054-11-01T00:00:00",
          "2054-12-01T00:00:00",
          "2055-01-01T00:00:00",
          "2055-02-01T00:00:00",
          "2055-03-01T00:00:00",
          "2055-04-01T00:00:00",
          "2055-05-01T00:00:00",
          "2055-06-01T00:00:00",
          "2055-07-01T00:00:00",
          "2055-08-01T00:00:00",
          "2055-09-01T00:00:00",
          "2055-10-01T00:00:00",
          "2055-11-01T00:00:00",
          "2055-12-01T00:00:00",
          "2056-01-01T00:00:00",
          "2056-02-01T00:00:00",
          "2056-03-01T00:00:00",
          "2056-04-01T00:00:00",
          "2056-05-01T00:00:00",
          "2056-06-01T00:00:00",
          "2056-07-01T00:00:00",
          "2056-08-01T00:00:00",
          "2056-09-01T00:00:00",
          "2056-10-01T00:00:00",
          "2056-11-01T00:00:00",
          "2056-12-01T00:00:00",
          "2057-01-01T00:00:00",
          "2057-02-01T00:00:00",
          "2057-03-01T00:00:00",
          "2057-04-01T00:00:00",
          "2057-05-01T00:00:00",
          "2057-06-01T00:00:00",
          "2057-07-01T00:00:00",
          "2057-08-01T00:00:00",
          "2057-09-01T00:00:00",
          "2057-10-01T00:00:00",
          "2057-11-01T00:00:00",
          "2057-12-01T00:00:00",
          "2058-01-01T00:00:00",
          "2058-02-01T00:00:00",
          "2058-03-01T00:00:00",
          "2058-04-01T00:00:00",
          "2058-05-01T00:00:00",
          "2058-06-01T00:00:00",
          "2058-07-01T00:00:00",
          "2058-08-01T00:00:00",
          "2058-09-01T00:00:00",
          "2058-10-01T00:00:00",
          "2058-11-01T00:00:00",
          "2058-12-01T00:00:00",
          "2059-01-01T00:00:00",
          "2059-02-01T00:00:00",
          "2059-03-01T00:00:00",
          "2059-04-01T00:00:00",
          "2059-05-01T00:00:00",
          "2059-06-01T00:00:00",
          "2059-07-01T00:00:00",
          "2059-08-01T00:00:00",
          "2059-09-01T00:00:00",
          "2059-10-01T00:00:00",
          "2059-11-01T00:00:00",
          "2059-12-01T00:00:00",
          "2060-01-01T00:00:00",
          "2060-02-01T00:00:00",
          "2060-03-01T00:00:00",
          "2060-04-01T00:00:00",
          "2060-05-01T00:00:00",
          "2060-06-01T00:00:00",
          "2060-07-01T00:00:00",
          "2060-08-01T00:00:00",
          "2060-09-01T00:00:00",
          "2060-10-01T00:00:00",
          "2060-11-01T00:00:00",
          "2060-12-01T00:00:00",
          "2061-01-01T00:00:00",
          "2061-02-01T00:00:00",
          "2061-03-01T00:00:00",
          "2061-04-01T00:00:00",
          "2061-05-01T00:00:00",
          "2061-06-01T00:00:00",
          "2061-07-01T00:00:00",
          "2061-08-01T00:00:00",
          "2061-09-01T00:00:00",
          "2061-10-01T00:00:00",
          "2061-11-01T00:00:00",
          "2061-12-01T00:00:00",
          "2062-01-01T00:00:00",
          "2062-02-01T00:00:00",
          "2062-03-01T00:00:00",
          "2062-04-01T00:00:00",
          "2062-05-01T00:00:00",
          "2062-06-01T00:00:00",
          "2062-07-01T00:00:00",
          "2062-08-01T00:00:00",
          "2062-09-01T00:00:00",
          "2062-10-01T00:00:00",
          "2062-11-01T00:00:00",
          "2062-12-01T00:00:00",
          "2063-01-01T00:00:00",
          "2063-02-01T00:00:00",
          "2063-03-01T00:00:00",
          "2063-04-01T00:00:00",
          "2063-05-01T00:00:00",
          "2063-06-01T00:00:00",
          "2063-07-01T00:00:00",
          "2063-08-01T00:00:00",
          "2063-09-01T00:00:00",
          "2063-10-01T00:00:00",
          "2063-11-01T00:00:00",
          "2063-12-01T00:00:00",
          "2064-01-01T00:00:00",
          "2064-02-01T00:00:00",
          "2064-03-01T00:00:00",
          "2064-04-01T00:00:00",
          "2064-05-01T00:00:00",
          "2064-06-01T00:00:00",
          "2064-07-01T00:00:00",
          "2064-08-01T00:00:00",
          "2064-09-01T00:00:00",
          "2064-10-01T00:00:00",
          "2064-11-01T00:00:00",
          "2064-12-01T00:00:00",
          "2065-01-01T00:00:00",
          "2065-02-01T00:00:00",
          "2065-03-01T00:00:00",
          "2065-04-01T00:00:00",
          "2065-05-01T00:00:00",
          "2065-06-01T00:00:00",
          "2065-07-01T00:00:00",
          "2065-08-01T00:00:00",
          "2065-09-01T00:00:00",
          "2065-10-01T00:00:00",
          "2065-11-01T00:00:00",
          "2065-12-01T00:00:00",
          "2066-01-01T00:00:00",
          "2066-02-01T00:00:00",
          "2066-03-01T00:00:00",
          "2066-04-01T00:00:00",
          "2066-05-01T00:00:00",
          "2066-06-01T00:00:00",
          "2066-07-01T00:00:00",
          "2066-08-01T00:00:00",
          "2066-09-01T00:00:00",
          "2066-10-01T00:00:00",
          "2066-11-01T00:00:00",
          "2066-12-01T00:00:00",
          "2067-01-01T00:00:00",
          "2067-02-01T00:00:00",
          "2067-03-01T00:00:00",
          "2067-04-01T00:00:00",
          "2067-05-01T00:00:00",
          "2067-06-01T00:00:00",
          "2067-07-01T00:00:00",
          "2067-08-01T00:00:00",
          "2067-09-01T00:00:00",
          "2067-10-01T00:00:00",
          "2067-11-01T00:00:00",
          "2067-12-01T00:00:00",
          "2068-01-01T00:00:00",
          "2068-02-01T00:00:00",
          "2068-03-01T00:00:00",
          "2068-04-01T00:00:00",
          "2068-05-01T00:00:00",
          "2068-06-01T00:00:00",
          "2068-07-01T00:00:00",
          "2068-08-01T00:00:00",
          "2068-09-01T00:00:00",
          "2068-10-01T00:00:00",
          "2068-11-01T00:00:00",
          "2068-12-01T00:00:00",
          "2069-01-01T00:00:00",
          "2069-02-01T00:00:00",
          "2069-03-01T00:00:00",
          "2069-04-01T00:00:00",
          "2069-05-01T00:00:00",
          "2069-06-01T00:00:00",
          "2069-07-01T00:00:00",
          "2069-08-01T00:00:00",
          "2069-09-01T00:00:00",
          "2069-10-01T00:00:00",
          "2069-11-01T00:00:00",
          "2069-12-01T00:00:00",
          "2070-01-01T00:00:00",
          "2070-02-01T00:00:00",
          "2070-03-01T00:00:00",
          "2070-04-01T00:00:00",
          "2070-05-01T00:00:00",
          "2070-06-01T00:00:00",
          "2070-07-01T00:00:00",
          "2070-08-01T00:00:00",
          "2070-09-01T00:00:00",
          "2070-10-01T00:00:00",
          "2070-11-01T00:00:00",
          "2070-12-01T00:00:00",
          "2071-01-01T00:00:00",
          "2071-02-01T00:00:00",
          "2071-03-01T00:00:00",
          "2071-04-01T00:00:00",
          "2071-05-01T00:00:00",
          "2071-06-01T00:00:00",
          "2071-07-01T00:00:00",
          "2071-08-01T00:00:00",
          "2071-09-01T00:00:00",
          "2071-10-01T00:00:00",
          "2071-11-01T00:00:00",
          "2071-12-01T00:00:00",
          "2072-01-01T00:00:00",
          "2072-02-01T00:00:00",
          "2072-03-01T00:00:00",
          "2072-04-01T00:00:00",
          "2072-05-01T00:00:00",
          "2072-06-01T00:00:00",
          "2072-07-01T00:00:00",
          "2072-08-01T00:00:00",
          "2072-09-01T00:00:00",
          "2072-10-01T00:00:00",
          "2072-11-01T00:00:00",
          "2072-12-01T00:00:00",
          "2073-01-01T00:00:00",
          "2073-02-01T00:00:00",
          "2073-03-01T00:00:00",
          "2073-04-01T00:00:00",
          "2073-05-01T00:00:00",
          "2073-06-01T00:00:00",
          "2073-07-01T00:00:00",
          "2073-08-01T00:00:00",
          "2073-09-01T00:00:00",
          "2073-10-01T00:00:00",
          "2073-11-01T00:00:00",
          "2073-12-01T00:00:00",
          "2074-01-01T00:00:00",
          "2074-02-01T00:00:00",
          "2074-03-01T00:00:00",
          "2074-04-01T00:00:00",
          "2074-05-01T00:00:00",
          "2074-06-01T00:00:00",
          "2074-07-01T00:00:00",
          "2074-08-01T00:00:00",
          "2074-09-01T00:00:00",
          "2074-10-01T00:00:00",
          "2074-11-01T00:00:00",
          "2074-12-01T00:00:00",
          "2075-01-01T00:00:00",
          "2075-02-01T00:00:00",
          "2075-03-01T00:00:00",
          "2075-04-01T00:00:00",
          "2075-05-01T00:00:00",
          "2075-06-01T00:00:00",
          "2075-07-01T00:00:00",
          "2075-08-01T00:00:00",
          "2075-09-01T00:00:00",
          "2075-10-01T00:00:00",
          "2075-11-01T00:00:00",
          "2075-12-01T00:00:00",
          "2076-01-01T00:00:00",
          "2076-02-01T00:00:00",
          "2076-03-01T00:00:00",
          "2076-04-01T00:00:00",
          "2076-05-01T00:00:00",
          "2076-06-01T00:00:00",
          "2076-07-01T00:00:00",
          "2076-08-01T00:00:00",
          "2076-09-01T00:00:00",
          "2076-10-01T00:00:00",
          "2076-11-01T00:00:00",
          "2076-12-01T00:00:00",
          "2077-01-01T00:00:00",
          "2077-02-01T00:00:00",
          "2077-03-01T00:00:00",
          "2077-04-01T00:00:00",
          "2077-05-01T00:00:00",
          "2077-06-01T00:00:00",
          "2077-07-01T00:00:00",
          "2077-08-01T00:00:00",
          "2077-09-01T00:00:00",
          "2077-10-01T00:00:00",
          "2077-11-01T00:00:00",
          "2077-12-01T00:00:00",
          "2078-01-01T00:00:00",
          "2078-02-01T00:00:00",
          "2078-03-01T00:00:00",
          "2078-04-01T00:00:00",
          "2078-05-01T00:00:00",
          "2078-06-01T00:00:00",
          "2078-07-01T00:00:00",
          "2078-08-01T00:00:00",
          "2078-09-01T00:00:00",
          "2078-10-01T00:00:00",
          "2078-11-01T00:00:00",
          "2078-12-01T00:00:00",
          "2079-01-01T00:00:00",
          "2079-02-01T00:00:00",
          "2079-03-01T00:00:00",
          "2079-04-01T00:00:00",
          "2079-05-01T00:00:00",
          "2079-06-01T00:00:00",
          "2079-07-01T00:00:00",
          "2079-08-01T00:00:00",
          "2079-09-01T00:00:00",
          "2079-10-01T00:00:00",
          "2079-11-01T00:00:00",
          "2079-12-01T00:00:00",
          "2080-01-01T00:00:00",
          "2080-02-01T00:00:00",
          "2080-03-01T00:00:00",
          "2080-04-01T00:00:00",
          "2080-05-01T00:00:00",
          "2080-06-01T00:00:00",
          "2080-07-01T00:00:00",
          "2080-08-01T00:00:00",
          "2080-09-01T00:00:00",
          "2080-10-01T00:00:00",
          "2080-11-01T00:00:00",
          "2080-12-01T00:00:00",
          "2081-01-01T00:00:00",
          "2081-02-01T00:00:00",
          "2081-03-01T00:00:00",
          "2081-04-01T00:00:00",
          "2081-05-01T00:00:00",
          "2081-06-01T00:00:00",
          "2081-07-01T00:00:00",
          "2081-08-01T00:00:00",
          "2081-09-01T00:00:00",
          "2081-10-01T00:00:00",
          "2081-11-01T00:00:00",
          "2081-12-01T00:00:00",
          "2082-01-01T00:00:00",
          "2082-02-01T00:00:00",
          "2082-03-01T00:00:00",
          "2082-04-01T00:00:00",
          "2082-05-01T00:00:00",
          "2082-06-01T00:00:00",
          "2082-07-01T00:00:00",
          "2082-08-01T00:00:00",
          "2082-09-01T00:00:00",
          "2082-10-01T00:00:00",
          "2082-11-01T00:00:00",
          "2082-12-01T00:00:00",
          "2083-01-01T00:00:00",
          "2083-02-01T00:00:00",
          "2083-03-01T00:00:00",
          "2083-04-01T00:00:00",
          "2083-05-01T00:00:00",
          "2083-06-01T00:00:00",
          "2083-07-01T00:00:00",
          "2083-08-01T00:00:00",
          "2083-09-01T00:00:00",
          "2083-10-01T00:00:00",
          "2083-11-01T00:00:00",
          "2083-12-01T00:00:00",
          "2084-01-01T00:00:00",
          "2084-02-01T00:00:00",
          "2084-03-01T00:00:00",
          "2084-04-01T00:00:00",
          "2084-05-01T00:00:00",
          "2084-06-01T00:00:00",
          "2084-07-01T00:00:00",
          "2084-08-01T00:00:00",
          "2084-09-01T00:00:00",
          "2084-10-01T00:00:00",
          "2084-11-01T00:00:00",
          "2084-12-01T00:00:00",
          "2085-01-01T00:00:00",
          "2085-02-01T00:00:00",
          "2085-03-01T00:00:00",
          "2085-04-01T00:00:00",
          "2085-05-01T00:00:00",
          "2085-06-01T00:00:00",
          "2085-07-01T00:00:00",
          "2085-08-01T00:00:00",
          "2085-09-01T00:00:00",
          "2085-10-01T00:00:00",
          "2085-11-01T00:00:00",
          "2085-12-01T00:00:00",
          "2086-01-01T00:00:00",
          "2086-02-01T00:00:00",
          "2086-03-01T00:00:00",
          "2086-04-01T00:00:00",
          "2086-05-01T00:00:00",
          "2086-06-01T00:00:00",
          "2086-07-01T00:00:00",
          "2086-08-01T00:00:00",
          "2086-09-01T00:00:00",
          "2086-10-01T00:00:00",
          "2086-11-01T00:00:00",
          "2086-12-01T00:00:00",
          "2087-01-01T00:00:00",
          "2087-02-01T00:00:00",
          "2087-03-01T00:00:00",
          "2087-04-01T00:00:00",
          "2087-05-01T00:00:00",
          "2087-06-01T00:00:00",
          "2087-07-01T00:00:00",
          "2087-08-01T00:00:00",
          "2087-09-01T00:00:00",
          "2087-10-01T00:00:00",
          "2087-11-01T00:00:00",
          "2087-12-01T00:00:00",
          "2088-01-01T00:00:00",
          "2088-02-01T00:00:00",
          "2088-03-01T00:00:00",
          "2088-04-01T00:00:00",
          "2088-05-01T00:00:00",
          "2088-06-01T00:00:00",
          "2088-07-01T00:00:00",
          "2088-08-01T00:00:00",
          "2088-09-01T00:00:00",
          "2088-10-01T00:00:00",
          "2088-11-01T00:00:00",
          "2088-12-01T00:00:00",
          "2089-01-01T00:00:00",
          "2089-02-01T00:00:00",
          "2089-03-01T00:00:00",
          "2089-04-01T00:00:00",
          "2089-05-01T00:00:00",
          "2089-06-01T00:00:00",
          "2089-07-01T00:00:00",
          "2089-08-01T00:00:00",
          "2089-09-01T00:00:00",
          "2089-10-01T00:00:00",
          "2089-11-01T00:00:00",
          "2089-12-01T00:00:00",
          "2090-01-01T00:00:00",
          "2090-02-01T00:00:00",
          "2090-03-01T00:00:00",
          "2090-04-01T00:00:00",
          "2090-05-01T00:00:00",
          "2090-06-01T00:00:00",
          "2090-07-01T00:00:00",
          "2090-08-01T00:00:00",
          "2090-09-01T00:00:00",
          "2090-10-01T00:00:00",
          "2090-11-01T00:00:00",
          "2090-12-01T00:00:00",
          "2091-01-01T00:00:00",
          "2091-02-01T00:00:00",
          "2091-03-01T00:00:00",
          "2091-04-01T00:00:00",
          "2091-05-01T00:00:00",
          "2091-06-01T00:00:00",
          "2091-07-01T00:00:00",
          "2091-08-01T00:00:00",
          "2091-09-01T00:00:00",
          "2091-10-01T00:00:00",
          "2091-11-01T00:00:00",
          "2091-12-01T00:00:00",
          "2092-01-01T00:00:00",
          "2092-02-01T00:00:00",
          "2092-03-01T00:00:00",
          "2092-04-01T00:00:00",
          "2092-05-01T00:00:00",
          "2092-06-01T00:00:00",
          "2092-07-01T00:00:00",
          "2092-08-01T00:00:00",
          "2092-09-01T00:00:00",
          "2092-10-01T00:00:00",
          "2092-11-01T00:00:00",
          "2092-12-01T00:00:00",
          "2093-01-01T00:00:00",
          "2093-02-01T00:00:00",
          "2093-03-01T00:00:00",
          "2093-04-01T00:00:00",
          "2093-05-01T00:00:00",
          "2093-06-01T00:00:00",
          "2093-07-01T00:00:00",
          "2093-08-01T00:00:00",
          "2093-09-01T00:00:00",
          "2093-10-01T00:00:00",
          "2093-11-01T00:00:00",
          "2093-12-01T00:00:00",
          "2094-01-01T00:00:00",
          "2094-02-01T00:00:00",
          "2094-03-01T00:00:00",
          "2094-04-01T00:00:00",
          "2094-05-01T00:00:00",
          "2094-06-01T00:00:00",
          "2094-07-01T00:00:00",
          "2094-08-01T00:00:00",
          "2094-09-01T00:00:00",
          "2094-10-01T00:00:00",
          "2094-11-01T00:00:00",
          "2094-12-01T00:00:00",
          "2095-01-01T00:00:00",
          "2095-02-01T00:00:00",
          "2095-03-01T00:00:00",
          "2095-04-01T00:00:00",
          "2095-05-01T00:00:00",
          "2095-06-01T00:00:00",
          "2095-07-01T00:00:00",
          "2095-08-01T00:00:00",
          "2095-09-01T00:00:00",
          "2095-10-01T00:00:00",
          "2095-11-01T00:00:00",
          "2095-12-01T00:00:00",
          "2096-01-01T00:00:00",
          "2096-02-01T00:00:00",
          "2096-03-01T00:00:00",
          "2096-04-01T00:00:00",
          "2096-05-01T00:00:00",
          "2096-06-01T00:00:00",
          "2096-07-01T00:00:00",
          "2096-08-01T00:00:00",
          "2096-09-01T00:00:00",
          "2096-10-01T00:00:00",
          "2096-11-01T00:00:00",
          "2096-12-01T00:00:00",
          "2097-01-01T00:00:00",
          "2097-02-01T00:00:00",
          "2097-03-01T00:00:00",
          "2097-04-01T00:00:00",
          "2097-05-01T00:00:00",
          "2097-06-01T00:00:00",
          "2097-07-01T00:00:00",
          "2097-08-01T00:00:00",
          "2097-09-01T00:00:00",
          "2097-10-01T00:00:00",
          "2097-11-01T00:00:00",
          "2097-12-01T00:00:00",
          "2098-01-01T00:00:00",
          "2098-02-01T00:00:00",
          "2098-03-01T00:00:00",
          "2098-04-01T00:00:00",
          "2098-05-01T00:00:00",
          "2098-06-01T00:00:00",
          "2098-07-01T00:00:00",
          "2098-08-01T00:00:00",
          "2098-09-01T00:00:00",
          "2098-10-01T00:00:00",
          "2098-11-01T00:00:00",
          "2098-12-01T00:00:00",
          "2099-01-01T00:00:00",
          "2099-02-01T00:00:00",
          "2099-03-01T00:00:00",
          "2099-04-01T00:00:00",
          "2099-05-01T00:00:00",
          "2099-06-01T00:00:00",
          "2099-07-01T00:00:00",
          "2099-08-01T00:00:00",
          "2099-09-01T00:00:00",
          "2099-10-01T00:00:00",
          "2099-11-01T00:00:00",
          "2099-12-01T00:00:00",
          "2100-01-01T00:00:00",
          "2100-02-01T00:00:00",
          "2100-03-01T00:00:00",
          "2100-04-01T00:00:00",
          "2100-05-01T00:00:00",
          "2100-06-01T00:00:00",
          "2100-07-01T00:00:00",
          "2100-08-01T00:00:00",
          "2100-09-01T00:00:00",
          "2100-10-01T00:00:00",
          "2100-11-01T00:00:00",
          "2100-12-01T00:00:00"
         ],
         "y": [
          3.963479518890381,
          4.786809921264648,
          6.77122163772583,
          9.56802749633789,
          12.194528579711914,
          14.36122989654541,
          15.276748657226562,
          14.784354209899902,
          13.306083679199219,
          10.713968276977539,
          7.071938514709473,
          4.679827690124512,
          3.641583204269409,
          4.500797271728516,
          6.332067489624023,
          9.766016960144043,
          12.329462051391602,
          14.318096160888672,
          15.3324556350708,
          14.796332359313965,
          13.274690628051758,
          10.611742973327637,
          7.54294490814209,
          5.182120323181152,
          3.963512420654297,
          4.559761047363281,
          6.772626876831055,
          9.7455415725708,
          12.453597068786621,
          14.625445365905762,
          15.429471015930176,
          14.92963981628418,
          13.253923416137695,
          10.684555053710938,
          7.854020118713379,
          4.863184928894043,
          4.075531005859375,
          4.563912391662598,
          6.683424949645996,
          9.716075897216797,
          12.473745346069336,
          14.546304702758789,
          15.430327415466309,
          15.073472023010254,
          13.603693008422852,
          10.711044311523438,
          7.451382160186768,
          4.9523234367370605,
          4.170185089111328,
          4.541675090789795,
          7.052250862121582,
          9.865193367004395,
          12.463162422180176,
          14.657986640930176,
          15.386226654052734,
          15.22249698638916,
          13.366601943969727,
          10.855548858642578,
          7.75132417678833,
          5.018254280090332,
          4.018147945404053,
          4.57865047454834,
          6.911707401275635,
          9.721626281738281,
          12.785746574401855,
          14.90893840789795,
          15.526893615722656,
          15.253976821899414,
          13.42428207397461,
          11.03634262084961,
          7.728135108947754,
          5.302483558654785,
          4.225479602813721,
          4.688948631286621,
          6.7685546875,
          9.939164161682129,
          12.634256362915039,
          14.761815071105957,
          15.725866317749023,
          15.408053398132324,
          13.428132057189941,
          10.9541015625,
          7.6610260009765625,
          5.493875980377197,
          4.1436662673950195,
          4.964216232299805,
          7.012476921081543,
          9.868005752563477,
          12.569114685058594,
          14.767523765563965,
          15.635613441467285,
          15.224495887756348,
          13.648261070251465,
          11.283745765686035,
          7.631448745727539,
          5.123800754547119,
          4.012824058532715,
          4.850310325622559,
          6.702198505401611,
          10.183815956115723,
          12.825298309326172,
          14.770770072937012,
          15.835938453674316,
          15.314544677734375,
          13.74570369720459,
          11.04218864440918,
          7.833902835845947,
          5.485300064086914,
          4.20913028717041,
          4.736123561859131,
          6.934106826782227,
          10.075592994689941,
          12.805761337280273,
          15.0516996383667,
          15.902210235595703,
          15.35081958770752,
          13.644013404846191,
          11.041706085205078,
          8.206806182861328,
          5.2131757736206055,
          4.3615899085998535,
          4.903476238250732,
          7.025660037994385,
          10.092714309692383,
          12.816189765930176,
          14.908561706542969,
          15.858909606933594,
          15.511514663696289,
          14.033892631530762,
          11.04391098022461,
          7.785052299499512,
          5.196707248687744,
          4.388282775878906,
          4.746620178222656,
          7.319779872894287,
          10.197798728942871,
          12.80538558959961,
          15.073049545288086,
          15.78635311126709,
          15.637802124023438,
          13.75637149810791,
          11.205056190490723,
          8.096227645874023,
          5.289288520812988,
          4.243072032928467,
          4.829438209533691,
          7.182278633117676,
          10.031586647033691,
          13.168506622314453,
          15.3238525390625,
          15.920637130737305,
          15.66700267791748,
          13.808584213256836,
          11.3804292678833,
          8.026719093322754,
          5.542289733886719,
          4.44737434387207,
          4.901775360107422,
          7.0528035163879395,
          10.215980529785156,
          12.988608360290527,
          15.14087963104248,
          16.12335968017578,
          15.823226928710938,
          13.794386863708496,
          11.290385246276855,
          7.93353271484375,
          5.7291669845581055,
          4.355190753936768,
          5.200712203979492,
          7.307671546936035,
          10.163652420043945,
          12.912992477416992,
          15.127870559692383,
          16.020814895629883,
          15.597309112548828,
          14.021678924560547,
          11.65435791015625,
          7.89200496673584,
          5.349666595458984,
          4.193630218505859,
          5.067760467529297,
          6.942716121673584,
          10.490544319152832,
          13.174134254455566,
          15.119499206542969,
          16.223997116088867,
          15.660146713256836,
          14.089936256408691,
          11.343421936035156,
          8.086342811584473,
          5.720288276672363,
          4.3942437171936035,
          4.950146198272705,
          7.155063629150391,
          10.348105430603027,
          13.139496803283691,
          15.410396575927734,
          16.284215927124023,
          15.706193923950195,
          13.965076446533203,
          11.330348014831543,
          8.482297897338867,
          5.4231462478637695,
          4.54216194152832,
          5.118865489959717,
          7.256024360656738,
          10.380026817321777,
          13.114311218261719,
          15.24234390258789,
          16.202701568603516,
          15.853979110717773,
          14.372579574584961,
          11.300902366638184,
          8.022882461547852,
          5.3684563636779785,
          4.563753604888916,
          4.935046672821045,
          7.555446147918701,
          10.490429878234863,
          13.097009658813477,
          15.410634994506836,
          16.10155487060547,
          15.968696594238281,
          14.064445495605469,
          11.461799621582031,
          8.347970008850098,
          5.4830546379089355,
          4.405577659606934,
          5.012357711791992,
          7.406672954559326,
          10.2932767868042,
          13.4779634475708,
          15.666692733764648,
          16.25004005432129,
          16.004985809326172,
          14.109659194946289,
          11.647049903869629,
          8.250685691833496,
          5.714821815490723,
          4.626856327056885,
          5.076318740844727,
          7.2860822677612305,
          10.450939178466797,
          13.282402038574219,
          15.45193862915039,
          16.448585510253906,
          16.154949188232422,
          14.075292587280273,
          11.547658920288086,
          8.134382247924805,
          5.903059482574463,
          4.512477397918701,
          5.378391265869141,
          7.540717124938965,
          10.4044828414917,
          13.196593284606934,
          15.419782638549805,
          16.32779884338379,
          15.89040756225586,
          14.301448822021484,
          11.934548377990723,
          8.068995475769043,
          5.507397651672363,
          4.327939510345459,
          5.239001750946045,
          7.136025905609131,
          10.745683670043945,
          13.465401649475098,
          15.407075881958008,
          16.540143966674805,
          15.933752059936523,
          14.354308128356934,
          11.56963062286377,
          8.271283149719238,
          5.8944597244262695,
          4.532845973968506,
          5.123344421386719,
          7.332235336303711,
          10.573238372802734,
          13.41363525390625,
          15.699464797973633,
          16.591100692749023,
          15.984090805053711,
          14.21335220336914,
          11.543049812316895,
          8.681718826293945,
          5.577297687530518,
          4.680108547210693,
          5.2875752449035645,
          7.441047668457031,
          10.616448402404785,
          13.363016128540039,
          15.513529777526855,
          16.481338500976562,
          16.12143898010254,
          14.635261535644531,
          11.491372108459473,
          8.194001197814941,
          5.485684394836426,
          4.690494060516357,
          5.083883762359619,
          7.74443244934082,
          10.728299140930176,
          13.334450721740723,
          15.68706226348877,
          16.35183334350586,
          16.23093032836914,
          14.299972534179688,
          11.647937774658203,
          8.527597427368164,
          5.622386932373047,
          4.529715061187744,
          5.152329921722412,
          7.586112022399902,
          10.508598327636719,
          13.730123519897461,
          15.942102432250977,
          16.51496124267578,
          16.27106285095215,
          14.339723587036133,
          11.845993041992188,
          8.412908554077148,
          5.835693836212158,
          4.76521635055542,
          5.212315559387207,
          7.471409320831299,
          10.638623237609863,
          13.51791000366211,
          15.700407028198242,
          16.707904815673828,
          16.415668487548828,
          14.286749839782715,
          11.740267753601074,
          8.27801513671875,
          6.025249004364014,
          4.632295608520508,
          5.515130043029785,
          7.724731922149658,
          10.59756851196289,
          13.426290512084961,
          15.655227661132812,
          16.568578720092773,
          16.118993759155273,
          14.511801719665527,
          12.14184856414795,
          8.190689086914062,
          5.61898946762085,
          4.425542831420898,
          5.3703179359436035,
          7.290149688720703,
          10.94946002960205,
          13.700529098510742,
          15.639580726623535,
          16.789697647094727,
          16.147354125976562,
          14.553828239440918,
          11.735464096069336,
          8.404633522033691,
          6.020587921142578,
          4.635183811187744,
          5.259714126586914,
          7.4726338386535645,
          10.754364013671875,
          13.635089874267578,
          15.931646347045898,
          16.832462310791016,
          16.19791030883789,
          14.402701377868652,
          11.69698715209961,
          8.823410034179688,
          5.687365531921387,
          4.781396389007568,
          5.417462348937988,
          7.587491989135742,
          10.805273056030273,
          13.56515884399414,
          15.72980785369873,
          16.70221519470215,
          16.330026626586914,
          14.834542274475098,
          11.62985610961914,
          8.314736366271973,
          5.562604904174805,
          4.784427642822266,
          5.198808193206787,
          7.894043445587158,
          10.918875694274902,
          13.524125099182129,
          15.907068252563477,
          16.54924774169922,
          16.4350643157959,
          14.477280616760254,
          11.780680656433105,
          8.652361869812012,
          5.720928192138672,
          4.621497631072998,
          5.2562713623046875,
          7.726327896118164,
          10.684353828430176,
          13.93476390838623,
          16.162246704101562,
          16.723731994628906,
          16.476181030273438,
          14.510543823242188,
          11.9885835647583,
          8.525296211242676,
          5.919858455657959,
          4.868373394012451,
          5.3136749267578125,
          7.616205215454102,
          10.782598495483398,
          13.703024864196777,
          15.897214889526367,
          16.911928176879883,
          16.616355895996094,
          14.442212104797363,
          11.880304336547852,
          8.374107360839844,
          6.10901403427124,
          4.722896099090576,
          5.619320869445801,
          7.868472099304199,
          10.751296997070312,
          13.610692024230957,
          15.841252326965332,
          16.755918502807617,
          16.292770385742188,
          14.666945457458496,
          12.291132926940918,
          8.270245552062988,
          5.694715976715088,
          4.49399995803833,
          5.467623233795166,
          7.410412788391113,
          11.110729217529297,
          13.886877059936523,
          15.822585105895996,
          16.982372283935547,
          16.30975341796875,
          14.700782775878906,
          11.85322380065918,
          8.497147560119629,
          6.108832836151123,
          4.709020614624023,
          5.363439083099365,
          7.581785202026367,
          10.89803409576416,
          13.809688568115234,
          16.11471176147461,
          17.01897430419922,
          16.359024047851562,
          14.543817520141602,
          11.80459976196289,
          8.918560028076172,
          5.761446475982666,
          4.85416841506958,
          5.515127182006836,
          7.698697090148926,
          10.951873779296875,
          13.72584342956543,
          15.898401260375977,
          16.872106552124023,
          16.488330841064453,
          14.980875015258789,
          11.726133346557617,
          8.396201133728027,
          5.611688613891602,
          4.850996971130371,
          5.286370754241943,
          8.009361267089844,
          11.067832946777344,
          13.672229766845703,
          16.077808380126953,
          16.701126098632812,
          16.58938980102539,
          14.60726261138916,
          11.871813774108887,
          8.735340118408203,
          5.787698268890381,
          4.686403274536133,
          5.3316850662231445,
          7.832794666290283,
          10.82327651977539,
          14.095863342285156,
          16.333019256591797,
          16.88278579711914,
          16.629518508911133,
          14.632194519042969,
          12.087377548217773,
          8.599928855895996,
          5.976002216339111,
          4.944758415222168,
          5.39222526550293,
          7.72900390625,
          10.895003318786621,
          13.84749698638916,
          16.050106048583984,
          17.06757164001465,
          16.767019271850586,
          14.553167343139648,
          11.978789329528809,
          8.437774658203125,
          6.163554668426514,
          4.789522171020508,
          5.6976165771484375,
          7.9788947105407715,
          10.87215805053711,
          13.75456428527832,
          15.984930038452148,
          16.89812660217285,
          16.420909881591797,
          14.777847290039062,
          12.394585609436035,
          8.319957733154297,
          5.744841575622559,
          4.542542457580566,
          5.54068660736084,
          7.504653453826904,
          11.23709487915039,
          14.031818389892578,
          15.96409797668457,
          17.12718963623047,
          16.430099487304688,
          14.806541442871094,
          11.934534072875977,
          8.559579849243164,
          6.1689453125,
          4.7614850997924805,
          5.443545341491699,
          7.666847229003906,
          11.011528015136719,
          13.945691108703613,
          16.255313873291016,
          17.160287857055664,
          16.477588653564453,
          14.646188735961914,
          11.877145767211914,
          8.980350494384766,
          5.809398174285889,
          4.905858516693115,
          5.587700366973877,
          7.783541679382324,
          11.065659523010254,
          13.85177993774414,
          16.02804183959961,
          16.999738693237305,
          16.605268478393555,
          15.08622932434082,
          11.791345596313477,
          8.450122833251953,
          5.642005920410156,
          4.898562908172607,
          5.353168487548828,
          8.099164009094238,
          11.184003829956055,
          13.786649703979492,
          16.20861053466797,
          16.81614875793457,
          16.70417022705078,
          14.700779914855957,
          11.931962013244629,
          8.787413597106934,
          5.83151912689209,
          4.733793258666992,
          5.386970520019531,
          7.9140801429748535,
          10.933098793029785,
          14.221232414245605,
          16.463720321655273,
          17.00238800048828,
          16.741439819335938,
          14.71702766418457,
          12.154008865356445,
          8.64803695678711,
          6.012721061706543,
          5.0013227462768555,
          5.453655242919922,
          7.817939758300781,
          10.98237133026123,
          13.959367752075195,
          16.167156219482422,
          17.184967041015625,
          16.878183364868164,
          14.630053520202637,
          12.04638385772705,
          8.478679656982422,
          6.197934627532959,
          4.83961820602417,
          5.756628513336182,
          8.063257217407227,
          10.966568946838379,
          13.86526107788086,
          16.094865798950195,
          17.00462532043457,
          16.51362419128418,
          14.856040000915527,
          12.4645414352417,
          8.349234580993652,
          5.777138710021973,
          4.578364372253418,
          5.596949577331543,
          7.578935146331787,
          11.335894584655762,
          14.143479347229004,
          16.072444915771484,
          17.234582901000977,
          16.517915725708008,
          14.88122844696045,
          11.989055633544922,
          8.60047435760498,
          6.2094855308532715,
          4.799053192138672,
          5.505760192871094,
          7.734089374542236,
          11.100865364074707,
          14.050738334655762,
          16.361705780029297,
          17.26579475402832,
          16.56329345703125,
          14.71883487701416,
          11.92477035522461,
          9.019218444824219,
          5.840123653411865,
          4.943422317504883,
          5.642219543457031,
          7.849678993225098,
          11.154609680175781,
          13.950395584106445,
          16.12676429748535,
          17.0958194732666,
          16.689958572387695,
          15.160540580749512,
          11.834127426147461,
          8.48365306854248,
          5.659400939941406,
          4.932889938354492,
          5.403947830200195,
          8.168890953063965,
          11.274337768554688,
          13.87445068359375,
          16.307987213134766,
          16.901981353759766,
          16.788677215576172,
          14.76568603515625,
          11.969160079956055,
          8.817136764526367,
          5.8592352867126465,
          4.76870584487915,
          5.427268028259277,
          7.97613000869751,
          11.019712448120117,
          14.318702697753906,
          16.56235694885254,
          17.091400146484375,
          16.822216033935547,
          14.774842262268066,
          12.196966171264648,
          8.676867485046387,
          6.035671234130859,
          5.0427422523498535,
          5.503001689910889,
          7.8892502784729,
          11.050668716430664,
          14.046144485473633,
          16.25619125366211,
          17.272485733032227,
          16.959247589111328,
          14.681928634643555,
          12.091291427612305,
          8.503902435302734,
          6.218569278717041,
          4.876226425170898,
          5.801604270935059,
          8.128018379211426,
          11.040264129638672,
          13.951025009155273,
          16.178997039794922,
          17.084070205688477,
          16.580398559570312,
          14.910877227783203,
          12.509529113769531,
          8.36527156829834,
          5.798942565917969,
          4.606538772583008,
          5.640193939208984,
          7.637819766998291,
          11.414335250854492,
          14.230123519897461,
          16.155811309814453,
          17.31437873840332,
          16.5813045501709,
          14.932613372802734,
          12.024377822875977,
          8.626911163330078,
          6.236257553100586,
          4.825802803039551,
          5.554337501525879,
          7.787515640258789,
          11.171398162841797,
          14.131819725036621,
          16.442386627197266,
          17.344684600830078,
          16.624488830566406,
          14.769322395324707,
          11.954652786254883,
          9.042015075683594,
          5.8590779304504395,
          4.9704461097717285,
          5.684574604034424,
          7.9018402099609375,
          11.223711013793945,
          14.028470993041992,
          16.20232391357422,
          17.1678466796875,
          16.750730514526367,
          15.212265014648438,
          11.861053466796875,
          8.50290584564209,
          5.668355941772461,
          4.957660675048828,
          5.442691802978516,
          8.223686218261719,
          11.345025062561035,
          13.941835403442383,
          16.383420944213867,
          16.965517044067383,
          16.850322723388672,
          14.809417724609375,
          11.989712715148926,
          8.831278800964355,
          5.876124382019043,
          4.794771671295166,
          5.4571123123168945,
          8.024226188659668,
          11.08842658996582,
          14.394759178161621,
          16.63683319091797,
          17.157411575317383,
          16.87987518310547,
          14.813287734985352,
          12.22339916229248,
          8.692691802978516,
          6.049429416656494,
          5.073389530181885,
          5.5431318283081055,
          7.9467291831970215,
          11.104047775268555,
          14.113337516784668,
          16.32368278503418,
          17.337398529052734,
          17.017620086669922,
          14.715758323669434,
          12.119837760925293,
          8.518320083618164,
          6.2300004959106445,
          4.903388977050781,
          5.836309432983398,
          8.178226470947266,
          11.09835147857666,
          14.017637252807617,
          16.243165969848633,
          17.1426944732666,
          16.62777328491211,
          14.948141098022461,
          12.537481307983398,
          8.372764587402344,
          5.812371253967285,
          4.628410339355469,
          5.674127578735352,
          7.684694290161133,
          11.476541519165039,
          14.297271728515625,
          16.219772338867188,
          17.37322425842285,
          16.626428604125977,
          14.967312812805176,
          12.04607105255127,
          8.642791748046875,
          6.253519058227539,
          4.845588684082031,
          5.593077659606934,
          7.830628395080566,
          11.227993965148926,
          14.194860458374023,
          16.503536224365234,
          17.403474807739258,
          16.667770385742188,
          14.80381965637207,
          11.97244930267334,
          9.054213523864746,
          5.8707709312438965,
          4.990105628967285,
          5.717211723327637,
          7.9434404373168945,
          11.277496337890625,
          14.089946746826172,
          16.260046005249023,
          17.22163963317871,
          16.79412841796875,
          15.247820854187012,
          11.87732219696045,
          8.513493537902832,
          5.672238349914551,
          4.976184844970703,
          5.472971439361572,
          8.267395973205566,
          11.40091609954834,
          13.99405288696289,
          16.441028594970703,
          17.012765884399414,
          16.89535140991211,
          14.83934497833252,
          12.000608444213867,
          8.836973190307617,
          5.886585235595703,
          4.814276218414307,
          5.479842185974121,
          8.062312126159668,
          11.143061637878418,
          14.454402923583984,
          16.693452835083008,
          17.206499099731445,
          16.92093849182129,
          14.838641166687012,
          12.239246368408203,
          8.700397491455078,
          6.057446002960205,
          5.096848011016846,
          5.575997352600098,
          7.993653297424316,
          11.146132469177246,
          14.166032791137695,
          16.37529182434082,
          17.385881423950195,
          17.059898376464844,
          14.737688064575195,
          12.137788772583008,
          8.526472091674805,
          6.2363810539245605,
          4.924103260040283,
          5.863914966583252,
          8.217989921569824,
          11.144474029541016,
          14.069632530212402,
          16.292470932006836,
          17.186330795288086,
          16.661304473876953,
          14.97341251373291,
          12.55435562133789,
          8.374747276306152,
          5.820497512817383,
          4.645440101623535,
          5.701500415802002,
          7.722378253936768,
          11.526351928710938,
          14.349729537963867,
          16.269107818603516,
          17.41708755493164,
          16.65860366821289,
          14.990946769714355,
          12.058993339538574,
          8.652592658996582,
          6.265000820159912,
          4.860883712768555,
          5.624049186706543,
          7.8670334815979,
          11.274051666259766,
          14.244317054748535,
          16.550065994262695,
          17.447813034057617,
          16.698835372924805,
          14.827198028564453,
          11.982651710510254,
          9.060334205627441,
          5.8778767585754395,
          5.004927635192871,
          5.742701530456543,
          7.97713565826416,
          11.320281028747559,
          14.138792991638184,
          16.304622650146484,
          17.261911392211914,
          16.82547378540039,
          15.272241592407227,
          11.886473655700684,
          8.51889419555664,
          5.673342704772949,
          4.990653991699219,
          5.497313976287842,
          8.302957534790039,
          11.445819854736328,
          14.035215377807617,
          16.48546028137207,
          17.048128128051758,
          16.928466796875,
          14.85982894897461,
          12.005289077758789,
          8.837425231933594,
          5.893202781677246,
          4.829557418823242,
          5.497758388519287,
          8.09339714050293,
          11.186753273010254,
          14.501136779785156,
          16.736465454101562,
          17.24401092529297,
          16.95083999633789,
          14.855718612670898,
          12.249150276184082,
          8.70357608795166,
          6.062201023101807,
          5.115841388702393,
          5.603907585144043,
          8.032514572143555,
          11.179615020751953,
          14.207489013671875,
          16.414934158325195,
          17.42255210876465,
          17.09099578857422,
          14.75216293334961,
          12.149201393127441,
          8.530921936035156,
          6.239662170410156,
          4.940199375152588,
          5.8860697746276855,
          8.249826431274414,
          11.181364059448242,
          14.11056137084961,
          16.33060646057129,
          17.219179153442383,
          16.685651779174805,
          14.990945816040039,
          12.564985275268555,
          8.373505592346191,
          5.82564640045166,
          4.66012716293335,
          5.723862171173096,
          7.753051280975342,
          11.56647777557373,
          14.391088485717773,
          16.307605743408203,
          17.450162887573242,
          16.6821346282959,
          15.006929397583008,
          12.066961288452148,
          8.658465385437012,
          6.272842884063721,
          4.8728461265563965,
          5.648817539215088,
          7.89704704284668,
          11.311429977416992,
          14.283385276794434,
          16.586069107055664,
          17.481624603271484,
          16.721261978149414,
          14.843095779418945,
          11.988092422485352,
          9.062620162963867,
          5.882082939147949,
          5.016412734985352,
          5.763040542602539,
          8.004598617553711,
          11.354667663574219,
          14.177889823913574,
          16.339271545410156,
          17.292266845703125,
          16.848228454589844,
          15.289239883422852,
          11.891430854797363,
          8.521230697631836,
          5.673264503479004,
          5.002136707305908,
          5.517165184020996,
          8.332084655761719,
          11.48204517364502,
          14.067878723144531,
          16.520034790039062,
          17.074867248535156,
          16.952919006347656,
          14.873912811279297,
          12.006473541259766,
          8.835247993469238,
          5.897426128387451,
          4.841630935668945,
          5.512142181396484,
          8.118692398071289,
          11.221942901611328,
          14.538198471069336,
          16.769620895385742,
          17.272724151611328,
          16.972747802734375,
          14.867220878601074,
          12.254984855651855,
          8.704137802124023,
          6.0651750564575195,
          5.131086349487305,
          5.627058029174805,
          8.06489372253418,
          11.206457138061523,
          14.240448951721191,
          16.44548225402832,
          17.450605392456055,
          17.11408805847168,
          14.761567115783691,
          12.156489372253418,
          8.533045768737793,
          6.241085052490234,
          4.952897548675537,
          5.904195308685303,
          8.275625228881836,
          11.211195945739746,
          14.142911911010742,
          16.431812286376953,
          17.50772476196289,
          17.199676513671875,
          14.797235488891602,
          12.241206169128418,
          8.540467262268066,
          6.1696953773498535
         ]
        }
       ],
       "layout": {
        "shapes": [
         {
          "line": {
           "color": "Red",
           "width": 2
          },
          "type": "line",
          "x0": "2014-01-01",
          "x1": "2100-12-01",
          "y0": 20,
          "y1": 20
         }
        ],
        "template": {
         "data": {
          "bar": [
           {
            "error_x": {
             "color": "#2a3f5f"
            },
            "error_y": {
             "color": "#2a3f5f"
            },
            "marker": {
             "line": {
              "color": "#E5ECF6",
              "width": 0.5
             },
             "pattern": {
              "fillmode": "overlay",
              "size": 10,
              "solidity": 0.2
             }
            },
            "type": "bar"
           }
          ],
          "barpolar": [
           {
            "marker": {
             "line": {
              "color": "#E5ECF6",
              "width": 0.5
             },
             "pattern": {
              "fillmode": "overlay",
              "size": 10,
              "solidity": 0.2
             }
            },
            "type": "barpolar"
           }
          ],
          "carpet": [
           {
            "aaxis": {
             "endlinecolor": "#2a3f5f",
             "gridcolor": "white",
             "linecolor": "white",
             "minorgridcolor": "white",
             "startlinecolor": "#2a3f5f"
            },
            "baxis": {
             "endlinecolor": "#2a3f5f",
             "gridcolor": "white",
             "linecolor": "white",
             "minorgridcolor": "white",
             "startlinecolor": "#2a3f5f"
            },
            "type": "carpet"
           }
          ],
          "choropleth": [
           {
            "colorbar": {
             "outlinewidth": 0,
             "ticks": ""
            },
            "type": "choropleth"
           }
          ],
          "contour": [
           {
            "colorbar": {
             "outlinewidth": 0,
             "ticks": ""
            },
            "colorscale": [
             [
              0,
              "#0d0887"
             ],
             [
              0.1111111111111111,
              "#46039f"
             ],
             [
              0.2222222222222222,
              "#7201a8"
             ],
             [
              0.3333333333333333,
              "#9c179e"
             ],
             [
              0.4444444444444444,
              "#bd3786"
             ],
             [
              0.5555555555555556,
              "#d8576b"
             ],
             [
              0.6666666666666666,
              "#ed7953"
             ],
             [
              0.7777777777777778,
              "#fb9f3a"
             ],
             [
              0.8888888888888888,
              "#fdca26"
             ],
             [
              1,
              "#f0f921"
             ]
            ],
            "type": "contour"
           }
          ],
          "contourcarpet": [
           {
            "colorbar": {
             "outlinewidth": 0,
             "ticks": ""
            },
            "type": "contourcarpet"
           }
          ],
          "heatmap": [
           {
            "colorbar": {
             "outlinewidth": 0,
             "ticks": ""
            },
            "colorscale": [
             [
              0,
              "#0d0887"
             ],
             [
              0.1111111111111111,
              "#46039f"
             ],
             [
              0.2222222222222222,
              "#7201a8"
             ],
             [
              0.3333333333333333,
              "#9c179e"
             ],
             [
              0.4444444444444444,
              "#bd3786"
             ],
             [
              0.5555555555555556,
              "#d8576b"
             ],
             [
              0.6666666666666666,
              "#ed7953"
             ],
             [
              0.7777777777777778,
              "#fb9f3a"
             ],
             [
              0.8888888888888888,
              "#fdca26"
             ],
             [
              1,
              "#f0f921"
             ]
            ],
            "type": "heatmap"
           }
          ],
          "heatmapgl": [
           {
            "colorbar": {
             "outlinewidth": 0,
             "ticks": ""
            },
            "colorscale": [
             [
              0,
              "#0d0887"
             ],
             [
              0.1111111111111111,
              "#46039f"
             ],
             [
              0.2222222222222222,
              "#7201a8"
             ],
             [
              0.3333333333333333,
              "#9c179e"
             ],
             [
              0.4444444444444444,
              "#bd3786"
             ],
             [
              0.5555555555555556,
              "#d8576b"
             ],
             [
              0.6666666666666666,
              "#ed7953"
             ],
             [
              0.7777777777777778,
              "#fb9f3a"
             ],
             [
              0.8888888888888888,
              "#fdca26"
             ],
             [
              1,
              "#f0f921"
             ]
            ],
            "type": "heatmapgl"
           }
          ],
          "histogram": [
           {
            "marker": {
             "pattern": {
              "fillmode": "overlay",
              "size": 10,
              "solidity": 0.2
             }
            },
            "type": "histogram"
           }
          ],
          "histogram2d": [
           {
            "colorbar": {
             "outlinewidth": 0,
             "ticks": ""
            },
            "colorscale": [
             [
              0,
              "#0d0887"
             ],
             [
              0.1111111111111111,
              "#46039f"
             ],
             [
              0.2222222222222222,
              "#7201a8"
             ],
             [
              0.3333333333333333,
              "#9c179e"
             ],
             [
              0.4444444444444444,
              "#bd3786"
             ],
             [
              0.5555555555555556,
              "#d8576b"
             ],
             [
              0.6666666666666666,
              "#ed7953"
             ],
             [
              0.7777777777777778,
              "#fb9f3a"
             ],
             [
              0.8888888888888888,
              "#fdca26"
             ],
             [
              1,
              "#f0f921"
             ]
            ],
            "type": "histogram2d"
           }
          ],
          "histogram2dcontour": [
           {
            "colorbar": {
             "outlinewidth": 0,
             "ticks": ""
            },
            "colorscale": [
             [
              0,
              "#0d0887"
             ],
             [
              0.1111111111111111,
              "#46039f"
             ],
             [
              0.2222222222222222,
              "#7201a8"
             ],
             [
              0.3333333333333333,
              "#9c179e"
             ],
             [
              0.4444444444444444,
              "#bd3786"
             ],
             [
              0.5555555555555556,
              "#d8576b"
             ],
             [
              0.6666666666666666,
              "#ed7953"
             ],
             [
              0.7777777777777778,
              "#fb9f3a"
             ],
             [
              0.8888888888888888,
              "#fdca26"
             ],
             [
              1,
              "#f0f921"
             ]
            ],
            "type": "histogram2dcontour"
           }
          ],
          "mesh3d": [
           {
            "colorbar": {
             "outlinewidth": 0,
             "ticks": ""
            },
            "type": "mesh3d"
           }
          ],
          "parcoords": [
           {
            "line": {
             "colorbar": {
              "outlinewidth": 0,
              "ticks": ""
             }
            },
            "type": "parcoords"
           }
          ],
          "pie": [
           {
            "automargin": true,
            "type": "pie"
           }
          ],
          "scatter": [
           {
            "fillpattern": {
             "fillmode": "overlay",
             "size": 10,
             "solidity": 0.2
            },
            "type": "scatter"
           }
          ],
          "scatter3d": [
           {
            "line": {
             "colorbar": {
              "outlinewidth": 0,
              "ticks": ""
             }
            },
            "marker": {
             "colorbar": {
              "outlinewidth": 0,
              "ticks": ""
             }
            },
            "type": "scatter3d"
           }
          ],
          "scattercarpet": [
           {
            "marker": {
             "colorbar": {
              "outlinewidth": 0,
              "ticks": ""
             }
            },
            "type": "scattercarpet"
           }
          ],
          "scattergeo": [
           {
            "marker": {
             "colorbar": {
              "outlinewidth": 0,
              "ticks": ""
             }
            },
            "type": "scattergeo"
           }
          ],
          "scattergl": [
           {
            "marker": {
             "colorbar": {
              "outlinewidth": 0,
              "ticks": ""
             }
            },
            "type": "scattergl"
           }
          ],
          "scattermapbox": [
           {
            "marker": {
             "colorbar": {
              "outlinewidth": 0,
              "ticks": ""
             }
            },
            "type": "scattermapbox"
           }
          ],
          "scatterpolar": [
           {
            "marker": {
             "colorbar": {
              "outlinewidth": 0,
              "ticks": ""
             }
            },
            "type": "scatterpolar"
           }
          ],
          "scatterpolargl": [
           {
            "marker": {
             "colorbar": {
              "outlinewidth": 0,
              "ticks": ""
             }
            },
            "type": "scatterpolargl"
           }
          ],
          "scatterternary": [
           {
            "marker": {
             "colorbar": {
              "outlinewidth": 0,
              "ticks": ""
             }
            },
            "type": "scatterternary"
           }
          ],
          "surface": [
           {
            "colorbar": {
             "outlinewidth": 0,
             "ticks": ""
            },
            "colorscale": [
             [
              0,
              "#0d0887"
             ],
             [
              0.1111111111111111,
              "#46039f"
             ],
             [
              0.2222222222222222,
              "#7201a8"
             ],
             [
              0.3333333333333333,
              "#9c179e"
             ],
             [
              0.4444444444444444,
              "#bd3786"
             ],
             [
              0.5555555555555556,
              "#d8576b"
             ],
             [
              0.6666666666666666,
              "#ed7953"
             ],
             [
              0.7777777777777778,
              "#fb9f3a"
             ],
             [
              0.8888888888888888,
              "#fdca26"
             ],
             [
              1,
              "#f0f921"
             ]
            ],
            "type": "surface"
           }
          ],
          "table": [
           {
            "cells": {
             "fill": {
              "color": "#EBF0F8"
             },
             "line": {
              "color": "white"
             }
            },
            "header": {
             "fill": {
              "color": "#C8D4E3"
             },
             "line": {
              "color": "white"
             }
            },
            "type": "table"
           }
          ]
         },
         "layout": {
          "annotationdefaults": {
           "arrowcolor": "#2a3f5f",
           "arrowhead": 0,
           "arrowwidth": 1
          },
          "autotypenumbers": "strict",
          "coloraxis": {
           "colorbar": {
            "outlinewidth": 0,
            "ticks": ""
           }
          },
          "colorscale": {
           "diverging": [
            [
             0,
             "#8e0152"
            ],
            [
             0.1,
             "#c51b7d"
            ],
            [
             0.2,
             "#de77ae"
            ],
            [
             0.3,
             "#f1b6da"
            ],
            [
             0.4,
             "#fde0ef"
            ],
            [
             0.5,
             "#f7f7f7"
            ],
            [
             0.6,
             "#e6f5d0"
            ],
            [
             0.7,
             "#b8e186"
            ],
            [
             0.8,
             "#7fbc41"
            ],
            [
             0.9,
             "#4d9221"
            ],
            [
             1,
             "#276419"
            ]
           ],
           "sequential": [
            [
             0,
             "#0d0887"
            ],
            [
             0.1111111111111111,
             "#46039f"
            ],
            [
             0.2222222222222222,
             "#7201a8"
            ],
            [
             0.3333333333333333,
             "#9c179e"
            ],
            [
             0.4444444444444444,
             "#bd3786"
            ],
            [
             0.5555555555555556,
             "#d8576b"
            ],
            [
             0.6666666666666666,
             "#ed7953"
            ],
            [
             0.7777777777777778,
             "#fb9f3a"
            ],
            [
             0.8888888888888888,
             "#fdca26"
            ],
            [
             1,
             "#f0f921"
            ]
           ],
           "sequentialminus": [
            [
             0,
             "#0d0887"
            ],
            [
             0.1111111111111111,
             "#46039f"
            ],
            [
             0.2222222222222222,
             "#7201a8"
            ],
            [
             0.3333333333333333,
             "#9c179e"
            ],
            [
             0.4444444444444444,
             "#bd3786"
            ],
            [
             0.5555555555555556,
             "#d8576b"
            ],
            [
             0.6666666666666666,
             "#ed7953"
            ],
            [
             0.7777777777777778,
             "#fb9f3a"
            ],
            [
             0.8888888888888888,
             "#fdca26"
            ],
            [
             1,
             "#f0f921"
            ]
           ]
          },
          "colorway": [
           "#636efa",
           "#EF553B",
           "#00cc96",
           "#ab63fa",
           "#FFA15A",
           "#19d3f3",
           "#FF6692",
           "#B6E880",
           "#FF97FF",
           "#FECB52"
          ],
          "font": {
           "color": "#2a3f5f"
          },
          "geo": {
           "bgcolor": "white",
           "lakecolor": "white",
           "landcolor": "#E5ECF6",
           "showlakes": true,
           "showland": true,
           "subunitcolor": "white"
          },
          "hoverlabel": {
           "align": "left"
          },
          "hovermode": "closest",
          "mapbox": {
           "style": "light"
          },
          "paper_bgcolor": "white",
          "plot_bgcolor": "#E5ECF6",
          "polar": {
           "angularaxis": {
            "gridcolor": "white",
            "linecolor": "white",
            "ticks": ""
           },
           "bgcolor": "#E5ECF6",
           "radialaxis": {
            "gridcolor": "white",
            "linecolor": "white",
            "ticks": ""
           }
          },
          "scene": {
           "xaxis": {
            "backgroundcolor": "#E5ECF6",
            "gridcolor": "white",
            "gridwidth": 2,
            "linecolor": "white",
            "showbackground": true,
            "ticks": "",
            "zerolinecolor": "white"
           },
           "yaxis": {
            "backgroundcolor": "#E5ECF6",
            "gridcolor": "white",
            "gridwidth": 2,
            "linecolor": "white",
            "showbackground": true,
            "ticks": "",
            "zerolinecolor": "white"
           },
           "zaxis": {
            "backgroundcolor": "#E5ECF6",
            "gridcolor": "white",
            "gridwidth": 2,
            "linecolor": "white",
            "showbackground": true,
            "ticks": "",
            "zerolinecolor": "white"
           }
          },
          "shapedefaults": {
           "line": {
            "color": "#2a3f5f"
           }
          },
          "ternary": {
           "aaxis": {
            "gridcolor": "white",
            "linecolor": "white",
            "ticks": ""
           },
           "baxis": {
            "gridcolor": "white",
            "linecolor": "white",
            "ticks": ""
           },
           "bgcolor": "#E5ECF6",
           "caxis": {
            "gridcolor": "white",
            "linecolor": "white",
            "ticks": ""
           }
          },
          "title": {
           "x": 0.05
          },
          "xaxis": {
           "automargin": true,
           "gridcolor": "white",
           "linecolor": "white",
           "ticks": "",
           "title": {
            "standoff": 15
           },
           "zerolinecolor": "white",
           "zerolinewidth": 2
          },
          "yaxis": {
           "automargin": true,
           "gridcolor": "white",
           "linecolor": "white",
           "ticks": "",
           "title": {
            "standoff": 15
           },
           "zerolinecolor": "white",
           "zerolinewidth": 2
          }
         }
        },
        "title": {
         "text": "TFT"
        },
        "xaxis": {
         "title": {
          "text": "Date"
         }
        },
        "yaxis": {
         "title": {
          "text": "Temperature"
         }
        }
       }
      },
      "text/html": [
       "<div>                            <div id=\"841a37d9-469e-488c-98ba-21be3051f1ec\" class=\"plotly-graph-div\" style=\"height:525px; width:100%;\"></div>            <script type=\"text/javascript\">                require([\"plotly\"], function(Plotly) {                    window.PLOTLYENV=window.PLOTLYENV || {};                                    if (document.getElementById(\"841a37d9-469e-488c-98ba-21be3051f1ec\")) {                    Plotly.newPlot(                        \"841a37d9-469e-488c-98ba-21be3051f1ec\",                        [{\"name\":\"actual\",\"x\":[\"2015-01-01\",\"2015-02-01\",\"2015-03-01\",\"2015-04-01\",\"2015-05-01\",\"2015-06-01\",\"2015-07-01\",\"2015-08-01\",\"2015-09-01\",\"2015-10-01\",\"2015-11-01\",\"2015-12-01\"],\"y\":[3.881,4.664,6.74,9.313,12.312,14.505,15.050999999999998,14.755,12.999,10.800999999999998,7.433,5.518],\"type\":\"scatter\"},{\"name\":\"prediction\",\"x\":[\"2016-01-01T00:00:00\",\"2016-02-01T00:00:00\",\"2016-03-01T00:00:00\",\"2016-04-01T00:00:00\",\"2016-05-01T00:00:00\",\"2016-06-01T00:00:00\",\"2016-07-01T00:00:00\",\"2016-08-01T00:00:00\",\"2016-09-01T00:00:00\",\"2016-10-01T00:00:00\",\"2016-11-01T00:00:00\",\"2016-12-01T00:00:00\",\"2017-01-01T00:00:00\",\"2017-02-01T00:00:00\",\"2017-03-01T00:00:00\",\"2017-04-01T00:00:00\",\"2017-05-01T00:00:00\",\"2017-06-01T00:00:00\",\"2017-07-01T00:00:00\",\"2017-08-01T00:00:00\",\"2017-09-01T00:00:00\",\"2017-10-01T00:00:00\",\"2017-11-01T00:00:00\",\"2017-12-01T00:00:00\",\"2018-01-01T00:00:00\",\"2018-02-01T00:00:00\",\"2018-03-01T00:00:00\",\"2018-04-01T00:00:00\",\"2018-05-01T00:00:00\",\"2018-06-01T00:00:00\",\"2018-07-01T00:00:00\",\"2018-08-01T00:00:00\",\"2018-09-01T00:00:00\",\"2018-10-01T00:00:00\",\"2018-11-01T00:00:00\",\"2018-12-01T00:00:00\",\"2019-01-01T00:00:00\",\"2019-02-01T00:00:00\",\"2019-03-01T00:00:00\",\"2019-04-01T00:00:00\",\"2019-05-01T00:00:00\",\"2019-06-01T00:00:00\",\"2019-07-01T00:00:00\",\"2019-08-01T00:00:00\",\"2019-09-01T00:00:00\",\"2019-10-01T00:00:00\",\"2019-11-01T00:00:00\",\"2019-12-01T00:00:00\",\"2020-01-01T00:00:00\",\"2020-02-01T00:00:00\",\"2020-03-01T00:00:00\",\"2020-04-01T00:00:00\",\"2020-05-01T00:00:00\",\"2020-06-01T00:00:00\",\"2020-07-01T00:00:00\",\"2020-08-01T00:00:00\",\"2020-09-01T00:00:00\",\"2020-10-01T00:00:00\",\"2020-11-01T00:00:00\",\"2020-12-01T00:00:00\",\"2021-01-01T00:00:00\",\"2021-02-01T00:00:00\",\"2021-03-01T00:00:00\",\"2021-04-01T00:00:00\",\"2021-05-01T00:00:00\",\"2021-06-01T00:00:00\",\"2021-07-01T00:00:00\",\"2021-08-01T00:00:00\",\"2021-09-01T00:00:00\",\"2021-10-01T00:00:00\",\"2021-11-01T00:00:00\",\"2021-12-01T00:00:00\",\"2022-01-01T00:00:00\",\"2022-02-01T00:00:00\",\"2022-03-01T00:00:00\",\"2022-04-01T00:00:00\",\"2022-05-01T00:00:00\",\"2022-06-01T00:00:00\",\"2022-07-01T00:00:00\",\"2022-08-01T00:00:00\",\"2022-09-01T00:00:00\",\"2022-10-01T00:00:00\",\"2022-11-01T00:00:00\",\"2022-12-01T00:00:00\",\"2023-01-01T00:00:00\",\"2023-02-01T00:00:00\",\"2023-03-01T00:00:00\",\"2023-04-01T00:00:00\",\"2023-05-01T00:00:00\",\"2023-06-01T00:00:00\",\"2023-07-01T00:00:00\",\"2023-08-01T00:00:00\",\"2023-09-01T00:00:00\",\"2023-10-01T00:00:00\",\"2023-11-01T00:00:00\",\"2023-12-01T00:00:00\",\"2024-01-01T00:00:00\",\"2024-02-01T00:00:00\",\"2024-03-01T00:00:00\",\"2024-04-01T00:00:00\",\"2024-05-01T00:00:00\",\"2024-06-01T00:00:00\",\"2024-07-01T00:00:00\",\"2024-08-01T00:00:00\",\"2024-09-01T00:00:00\",\"2024-10-01T00:00:00\",\"2024-11-01T00:00:00\",\"2024-12-01T00:00:00\",\"2025-01-01T00:00:00\",\"2025-02-01T00:00:00\",\"2025-03-01T00:00:00\",\"2025-04-01T00:00:00\",\"2025-05-01T00:00:00\",\"2025-06-01T00:00:00\",\"2025-07-01T00:00:00\",\"2025-08-01T00:00:00\",\"2025-09-01T00:00:00\",\"2025-10-01T00:00:00\",\"2025-11-01T00:00:00\",\"2025-12-01T00:00:00\",\"2026-01-01T00:00:00\",\"2026-02-01T00:00:00\",\"2026-03-01T00:00:00\",\"2026-04-01T00:00:00\",\"2026-05-01T00:00:00\",\"2026-06-01T00:00:00\",\"2026-07-01T00:00:00\",\"2026-08-01T00:00:00\",\"2026-09-01T00:00:00\",\"2026-10-01T00:00:00\",\"2026-11-01T00:00:00\",\"2026-12-01T00:00:00\",\"2027-01-01T00:00:00\",\"2027-02-01T00:00:00\",\"2027-03-01T00:00:00\",\"2027-04-01T00:00:00\",\"2027-05-01T00:00:00\",\"2027-06-01T00:00:00\",\"2027-07-01T00:00:00\",\"2027-08-01T00:00:00\",\"2027-09-01T00:00:00\",\"2027-10-01T00:00:00\",\"2027-11-01T00:00:00\",\"2027-12-01T00:00:00\",\"2028-01-01T00:00:00\",\"2028-02-01T00:00:00\",\"2028-03-01T00:00:00\",\"2028-04-01T00:00:00\",\"2028-05-01T00:00:00\",\"2028-06-01T00:00:00\",\"2028-07-01T00:00:00\",\"2028-08-01T00:00:00\",\"2028-09-01T00:00:00\",\"2028-10-01T00:00:00\",\"2028-11-01T00:00:00\",\"2028-12-01T00:00:00\",\"2029-01-01T00:00:00\",\"2029-02-01T00:00:00\",\"2029-03-01T00:00:00\",\"2029-04-01T00:00:00\",\"2029-05-01T00:00:00\",\"2029-06-01T00:00:00\",\"2029-07-01T00:00:00\",\"2029-08-01T00:00:00\",\"2029-09-01T00:00:00\",\"2029-10-01T00:00:00\",\"2029-11-01T00:00:00\",\"2029-12-01T00:00:00\",\"2030-01-01T00:00:00\",\"2030-02-01T00:00:00\",\"2030-03-01T00:00:00\",\"2030-04-01T00:00:00\",\"2030-05-01T00:00:00\",\"2030-06-01T00:00:00\",\"2030-07-01T00:00:00\",\"2030-08-01T00:00:00\",\"2030-09-01T00:00:00\",\"2030-10-01T00:00:00\",\"2030-11-01T00:00:00\",\"2030-12-01T00:00:00\",\"2031-01-01T00:00:00\",\"2031-02-01T00:00:00\",\"2031-03-01T00:00:00\",\"2031-04-01T00:00:00\",\"2031-05-01T00:00:00\",\"2031-06-01T00:00:00\",\"2031-07-01T00:00:00\",\"2031-08-01T00:00:00\",\"2031-09-01T00:00:00\",\"2031-10-01T00:00:00\",\"2031-11-01T00:00:00\",\"2031-12-01T00:00:00\",\"2032-01-01T00:00:00\",\"2032-02-01T00:00:00\",\"2032-03-01T00:00:00\",\"2032-04-01T00:00:00\",\"2032-05-01T00:00:00\",\"2032-06-01T00:00:00\",\"2032-07-01T00:00:00\",\"2032-08-01T00:00:00\",\"2032-09-01T00:00:00\",\"2032-10-01T00:00:00\",\"2032-11-01T00:00:00\",\"2032-12-01T00:00:00\",\"2033-01-01T00:00:00\",\"2033-02-01T00:00:00\",\"2033-03-01T00:00:00\",\"2033-04-01T00:00:00\",\"2033-05-01T00:00:00\",\"2033-06-01T00:00:00\",\"2033-07-01T00:00:00\",\"2033-08-01T00:00:00\",\"2033-09-01T00:00:00\",\"2033-10-01T00:00:00\",\"2033-11-01T00:00:00\",\"2033-12-01T00:00:00\",\"2034-01-01T00:00:00\",\"2034-02-01T00:00:00\",\"2034-03-01T00:00:00\",\"2034-04-01T00:00:00\",\"2034-05-01T00:00:00\",\"2034-06-01T00:00:00\",\"2034-07-01T00:00:00\",\"2034-08-01T00:00:00\",\"2034-09-01T00:00:00\",\"2034-10-01T00:00:00\",\"2034-11-01T00:00:00\",\"2034-12-01T00:00:00\",\"2035-01-01T00:00:00\",\"2035-02-01T00:00:00\",\"2035-03-01T00:00:00\",\"2035-04-01T00:00:00\",\"2035-05-01T00:00:00\",\"2035-06-01T00:00:00\",\"2035-07-01T00:00:00\",\"2035-08-01T00:00:00\",\"2035-09-01T00:00:00\",\"2035-10-01T00:00:00\",\"2035-11-01T00:00:00\",\"2035-12-01T00:00:00\",\"2036-01-01T00:00:00\",\"2036-02-01T00:00:00\",\"2036-03-01T00:00:00\",\"2036-04-01T00:00:00\",\"2036-05-01T00:00:00\",\"2036-06-01T00:00:00\",\"2036-07-01T00:00:00\",\"2036-08-01T00:00:00\",\"2036-09-01T00:00:00\",\"2036-10-01T00:00:00\",\"2036-11-01T00:00:00\",\"2036-12-01T00:00:00\",\"2037-01-01T00:00:00\",\"2037-02-01T00:00:00\",\"2037-03-01T00:00:00\",\"2037-04-01T00:00:00\",\"2037-05-01T00:00:00\",\"2037-06-01T00:00:00\",\"2037-07-01T00:00:00\",\"2037-08-01T00:00:00\",\"2037-09-01T00:00:00\",\"2037-10-01T00:00:00\",\"2037-11-01T00:00:00\",\"2037-12-01T00:00:00\",\"2038-01-01T00:00:00\",\"2038-02-01T00:00:00\",\"2038-03-01T00:00:00\",\"2038-04-01T00:00:00\",\"2038-05-01T00:00:00\",\"2038-06-01T00:00:00\",\"2038-07-01T00:00:00\",\"2038-08-01T00:00:00\",\"2038-09-01T00:00:00\",\"2038-10-01T00:00:00\",\"2038-11-01T00:00:00\",\"2038-12-01T00:00:00\",\"2039-01-01T00:00:00\",\"2039-02-01T00:00:00\",\"2039-03-01T00:00:00\",\"2039-04-01T00:00:00\",\"2039-05-01T00:00:00\",\"2039-06-01T00:00:00\",\"2039-07-01T00:00:00\",\"2039-08-01T00:00:00\",\"2039-09-01T00:00:00\",\"2039-10-01T00:00:00\",\"2039-11-01T00:00:00\",\"2039-12-01T00:00:00\",\"2040-01-01T00:00:00\",\"2040-02-01T00:00:00\",\"2040-03-01T00:00:00\",\"2040-04-01T00:00:00\",\"2040-05-01T00:00:00\",\"2040-06-01T00:00:00\",\"2040-07-01T00:00:00\",\"2040-08-01T00:00:00\",\"2040-09-01T00:00:00\",\"2040-10-01T00:00:00\",\"2040-11-01T00:00:00\",\"2040-12-01T00:00:00\",\"2041-01-01T00:00:00\",\"2041-02-01T00:00:00\",\"2041-03-01T00:00:00\",\"2041-04-01T00:00:00\",\"2041-05-01T00:00:00\",\"2041-06-01T00:00:00\",\"2041-07-01T00:00:00\",\"2041-08-01T00:00:00\",\"2041-09-01T00:00:00\",\"2041-10-01T00:00:00\",\"2041-11-01T00:00:00\",\"2041-12-01T00:00:00\",\"2042-01-01T00:00:00\",\"2042-02-01T00:00:00\",\"2042-03-01T00:00:00\",\"2042-04-01T00:00:00\",\"2042-05-01T00:00:00\",\"2042-06-01T00:00:00\",\"2042-07-01T00:00:00\",\"2042-08-01T00:00:00\",\"2042-09-01T00:00:00\",\"2042-10-01T00:00:00\",\"2042-11-01T00:00:00\",\"2042-12-01T00:00:00\",\"2043-01-01T00:00:00\",\"2043-02-01T00:00:00\",\"2043-03-01T00:00:00\",\"2043-04-01T00:00:00\",\"2043-05-01T00:00:00\",\"2043-06-01T00:00:00\",\"2043-07-01T00:00:00\",\"2043-08-01T00:00:00\",\"2043-09-01T00:00:00\",\"2043-10-01T00:00:00\",\"2043-11-01T00:00:00\",\"2043-12-01T00:00:00\",\"2044-01-01T00:00:00\",\"2044-02-01T00:00:00\",\"2044-03-01T00:00:00\",\"2044-04-01T00:00:00\",\"2044-05-01T00:00:00\",\"2044-06-01T00:00:00\",\"2044-07-01T00:00:00\",\"2044-08-01T00:00:00\",\"2044-09-01T00:00:00\",\"2044-10-01T00:00:00\",\"2044-11-01T00:00:00\",\"2044-12-01T00:00:00\",\"2045-01-01T00:00:00\",\"2045-02-01T00:00:00\",\"2045-03-01T00:00:00\",\"2045-04-01T00:00:00\",\"2045-05-01T00:00:00\",\"2045-06-01T00:00:00\",\"2045-07-01T00:00:00\",\"2045-08-01T00:00:00\",\"2045-09-01T00:00:00\",\"2045-10-01T00:00:00\",\"2045-11-01T00:00:00\",\"2045-12-01T00:00:00\",\"2046-01-01T00:00:00\",\"2046-02-01T00:00:00\",\"2046-03-01T00:00:00\",\"2046-04-01T00:00:00\",\"2046-05-01T00:00:00\",\"2046-06-01T00:00:00\",\"2046-07-01T00:00:00\",\"2046-08-01T00:00:00\",\"2046-09-01T00:00:00\",\"2046-10-01T00:00:00\",\"2046-11-01T00:00:00\",\"2046-12-01T00:00:00\",\"2047-01-01T00:00:00\",\"2047-02-01T00:00:00\",\"2047-03-01T00:00:00\",\"2047-04-01T00:00:00\",\"2047-05-01T00:00:00\",\"2047-06-01T00:00:00\",\"2047-07-01T00:00:00\",\"2047-08-01T00:00:00\",\"2047-09-01T00:00:00\",\"2047-10-01T00:00:00\",\"2047-11-01T00:00:00\",\"2047-12-01T00:00:00\",\"2048-01-01T00:00:00\",\"2048-02-01T00:00:00\",\"2048-03-01T00:00:00\",\"2048-04-01T00:00:00\",\"2048-05-01T00:00:00\",\"2048-06-01T00:00:00\",\"2048-07-01T00:00:00\",\"2048-08-01T00:00:00\",\"2048-09-01T00:00:00\",\"2048-10-01T00:00:00\",\"2048-11-01T00:00:00\",\"2048-12-01T00:00:00\",\"2049-01-01T00:00:00\",\"2049-02-01T00:00:00\",\"2049-03-01T00:00:00\",\"2049-04-01T00:00:00\",\"2049-05-01T00:00:00\",\"2049-06-01T00:00:00\",\"2049-07-01T00:00:00\",\"2049-08-01T00:00:00\",\"2049-09-01T00:00:00\",\"2049-10-01T00:00:00\",\"2049-11-01T00:00:00\",\"2049-12-01T00:00:00\",\"2050-01-01T00:00:00\",\"2050-02-01T00:00:00\",\"2050-03-01T00:00:00\",\"2050-04-01T00:00:00\",\"2050-05-01T00:00:00\",\"2050-06-01T00:00:00\",\"2050-07-01T00:00:00\",\"2050-08-01T00:00:00\",\"2050-09-01T00:00:00\",\"2050-10-01T00:00:00\",\"2050-11-01T00:00:00\",\"2050-12-01T00:00:00\",\"2051-01-01T00:00:00\",\"2051-02-01T00:00:00\",\"2051-03-01T00:00:00\",\"2051-04-01T00:00:00\",\"2051-05-01T00:00:00\",\"2051-06-01T00:00:00\",\"2051-07-01T00:00:00\",\"2051-08-01T00:00:00\",\"2051-09-01T00:00:00\",\"2051-10-01T00:00:00\",\"2051-11-01T00:00:00\",\"2051-12-01T00:00:00\",\"2052-01-01T00:00:00\",\"2052-02-01T00:00:00\",\"2052-03-01T00:00:00\",\"2052-04-01T00:00:00\",\"2052-05-01T00:00:00\",\"2052-06-01T00:00:00\",\"2052-07-01T00:00:00\",\"2052-08-01T00:00:00\",\"2052-09-01T00:00:00\",\"2052-10-01T00:00:00\",\"2052-11-01T00:00:00\",\"2052-12-01T00:00:00\",\"2053-01-01T00:00:00\",\"2053-02-01T00:00:00\",\"2053-03-01T00:00:00\",\"2053-04-01T00:00:00\",\"2053-05-01T00:00:00\",\"2053-06-01T00:00:00\",\"2053-07-01T00:00:00\",\"2053-08-01T00:00:00\",\"2053-09-01T00:00:00\",\"2053-10-01T00:00:00\",\"2053-11-01T00:00:00\",\"2053-12-01T00:00:00\",\"2054-01-01T00:00:00\",\"2054-02-01T00:00:00\",\"2054-03-01T00:00:00\",\"2054-04-01T00:00:00\",\"2054-05-01T00:00:00\",\"2054-06-01T00:00:00\",\"2054-07-01T00:00:00\",\"2054-08-01T00:00:00\",\"2054-09-01T00:00:00\",\"2054-10-01T00:00:00\",\"2054-11-01T00:00:00\",\"2054-12-01T00:00:00\",\"2055-01-01T00:00:00\",\"2055-02-01T00:00:00\",\"2055-03-01T00:00:00\",\"2055-04-01T00:00:00\",\"2055-05-01T00:00:00\",\"2055-06-01T00:00:00\",\"2055-07-01T00:00:00\",\"2055-08-01T00:00:00\",\"2055-09-01T00:00:00\",\"2055-10-01T00:00:00\",\"2055-11-01T00:00:00\",\"2055-12-01T00:00:00\",\"2056-01-01T00:00:00\",\"2056-02-01T00:00:00\",\"2056-03-01T00:00:00\",\"2056-04-01T00:00:00\",\"2056-05-01T00:00:00\",\"2056-06-01T00:00:00\",\"2056-07-01T00:00:00\",\"2056-08-01T00:00:00\",\"2056-09-01T00:00:00\",\"2056-10-01T00:00:00\",\"2056-11-01T00:00:00\",\"2056-12-01T00:00:00\",\"2057-01-01T00:00:00\",\"2057-02-01T00:00:00\",\"2057-03-01T00:00:00\",\"2057-04-01T00:00:00\",\"2057-05-01T00:00:00\",\"2057-06-01T00:00:00\",\"2057-07-01T00:00:00\",\"2057-08-01T00:00:00\",\"2057-09-01T00:00:00\",\"2057-10-01T00:00:00\",\"2057-11-01T00:00:00\",\"2057-12-01T00:00:00\",\"2058-01-01T00:00:00\",\"2058-02-01T00:00:00\",\"2058-03-01T00:00:00\",\"2058-04-01T00:00:00\",\"2058-05-01T00:00:00\",\"2058-06-01T00:00:00\",\"2058-07-01T00:00:00\",\"2058-08-01T00:00:00\",\"2058-09-01T00:00:00\",\"2058-10-01T00:00:00\",\"2058-11-01T00:00:00\",\"2058-12-01T00:00:00\",\"2059-01-01T00:00:00\",\"2059-02-01T00:00:00\",\"2059-03-01T00:00:00\",\"2059-04-01T00:00:00\",\"2059-05-01T00:00:00\",\"2059-06-01T00:00:00\",\"2059-07-01T00:00:00\",\"2059-08-01T00:00:00\",\"2059-09-01T00:00:00\",\"2059-10-01T00:00:00\",\"2059-11-01T00:00:00\",\"2059-12-01T00:00:00\",\"2060-01-01T00:00:00\",\"2060-02-01T00:00:00\",\"2060-03-01T00:00:00\",\"2060-04-01T00:00:00\",\"2060-05-01T00:00:00\",\"2060-06-01T00:00:00\",\"2060-07-01T00:00:00\",\"2060-08-01T00:00:00\",\"2060-09-01T00:00:00\",\"2060-10-01T00:00:00\",\"2060-11-01T00:00:00\",\"2060-12-01T00:00:00\",\"2061-01-01T00:00:00\",\"2061-02-01T00:00:00\",\"2061-03-01T00:00:00\",\"2061-04-01T00:00:00\",\"2061-05-01T00:00:00\",\"2061-06-01T00:00:00\",\"2061-07-01T00:00:00\",\"2061-08-01T00:00:00\",\"2061-09-01T00:00:00\",\"2061-10-01T00:00:00\",\"2061-11-01T00:00:00\",\"2061-12-01T00:00:00\",\"2062-01-01T00:00:00\",\"2062-02-01T00:00:00\",\"2062-03-01T00:00:00\",\"2062-04-01T00:00:00\",\"2062-05-01T00:00:00\",\"2062-06-01T00:00:00\",\"2062-07-01T00:00:00\",\"2062-08-01T00:00:00\",\"2062-09-01T00:00:00\",\"2062-10-01T00:00:00\",\"2062-11-01T00:00:00\",\"2062-12-01T00:00:00\",\"2063-01-01T00:00:00\",\"2063-02-01T00:00:00\",\"2063-03-01T00:00:00\",\"2063-04-01T00:00:00\",\"2063-05-01T00:00:00\",\"2063-06-01T00:00:00\",\"2063-07-01T00:00:00\",\"2063-08-01T00:00:00\",\"2063-09-01T00:00:00\",\"2063-10-01T00:00:00\",\"2063-11-01T00:00:00\",\"2063-12-01T00:00:00\",\"2064-01-01T00:00:00\",\"2064-02-01T00:00:00\",\"2064-03-01T00:00:00\",\"2064-04-01T00:00:00\",\"2064-05-01T00:00:00\",\"2064-06-01T00:00:00\",\"2064-07-01T00:00:00\",\"2064-08-01T00:00:00\",\"2064-09-01T00:00:00\",\"2064-10-01T00:00:00\",\"2064-11-01T00:00:00\",\"2064-12-01T00:00:00\",\"2065-01-01T00:00:00\",\"2065-02-01T00:00:00\",\"2065-03-01T00:00:00\",\"2065-04-01T00:00:00\",\"2065-05-01T00:00:00\",\"2065-06-01T00:00:00\",\"2065-07-01T00:00:00\",\"2065-08-01T00:00:00\",\"2065-09-01T00:00:00\",\"2065-10-01T00:00:00\",\"2065-11-01T00:00:00\",\"2065-12-01T00:00:00\",\"2066-01-01T00:00:00\",\"2066-02-01T00:00:00\",\"2066-03-01T00:00:00\",\"2066-04-01T00:00:00\",\"2066-05-01T00:00:00\",\"2066-06-01T00:00:00\",\"2066-07-01T00:00:00\",\"2066-08-01T00:00:00\",\"2066-09-01T00:00:00\",\"2066-10-01T00:00:00\",\"2066-11-01T00:00:00\",\"2066-12-01T00:00:00\",\"2067-01-01T00:00:00\",\"2067-02-01T00:00:00\",\"2067-03-01T00:00:00\",\"2067-04-01T00:00:00\",\"2067-05-01T00:00:00\",\"2067-06-01T00:00:00\",\"2067-07-01T00:00:00\",\"2067-08-01T00:00:00\",\"2067-09-01T00:00:00\",\"2067-10-01T00:00:00\",\"2067-11-01T00:00:00\",\"2067-12-01T00:00:00\",\"2068-01-01T00:00:00\",\"2068-02-01T00:00:00\",\"2068-03-01T00:00:00\",\"2068-04-01T00:00:00\",\"2068-05-01T00:00:00\",\"2068-06-01T00:00:00\",\"2068-07-01T00:00:00\",\"2068-08-01T00:00:00\",\"2068-09-01T00:00:00\",\"2068-10-01T00:00:00\",\"2068-11-01T00:00:00\",\"2068-12-01T00:00:00\",\"2069-01-01T00:00:00\",\"2069-02-01T00:00:00\",\"2069-03-01T00:00:00\",\"2069-04-01T00:00:00\",\"2069-05-01T00:00:00\",\"2069-06-01T00:00:00\",\"2069-07-01T00:00:00\",\"2069-08-01T00:00:00\",\"2069-09-01T00:00:00\",\"2069-10-01T00:00:00\",\"2069-11-01T00:00:00\",\"2069-12-01T00:00:00\",\"2070-01-01T00:00:00\",\"2070-02-01T00:00:00\",\"2070-03-01T00:00:00\",\"2070-04-01T00:00:00\",\"2070-05-01T00:00:00\",\"2070-06-01T00:00:00\",\"2070-07-01T00:00:00\",\"2070-08-01T00:00:00\",\"2070-09-01T00:00:00\",\"2070-10-01T00:00:00\",\"2070-11-01T00:00:00\",\"2070-12-01T00:00:00\",\"2071-01-01T00:00:00\",\"2071-02-01T00:00:00\",\"2071-03-01T00:00:00\",\"2071-04-01T00:00:00\",\"2071-05-01T00:00:00\",\"2071-06-01T00:00:00\",\"2071-07-01T00:00:00\",\"2071-08-01T00:00:00\",\"2071-09-01T00:00:00\",\"2071-10-01T00:00:00\",\"2071-11-01T00:00:00\",\"2071-12-01T00:00:00\",\"2072-01-01T00:00:00\",\"2072-02-01T00:00:00\",\"2072-03-01T00:00:00\",\"2072-04-01T00:00:00\",\"2072-05-01T00:00:00\",\"2072-06-01T00:00:00\",\"2072-07-01T00:00:00\",\"2072-08-01T00:00:00\",\"2072-09-01T00:00:00\",\"2072-10-01T00:00:00\",\"2072-11-01T00:00:00\",\"2072-12-01T00:00:00\",\"2073-01-01T00:00:00\",\"2073-02-01T00:00:00\",\"2073-03-01T00:00:00\",\"2073-04-01T00:00:00\",\"2073-05-01T00:00:00\",\"2073-06-01T00:00:00\",\"2073-07-01T00:00:00\",\"2073-08-01T00:00:00\",\"2073-09-01T00:00:00\",\"2073-10-01T00:00:00\",\"2073-11-01T00:00:00\",\"2073-12-01T00:00:00\",\"2074-01-01T00:00:00\",\"2074-02-01T00:00:00\",\"2074-03-01T00:00:00\",\"2074-04-01T00:00:00\",\"2074-05-01T00:00:00\",\"2074-06-01T00:00:00\",\"2074-07-01T00:00:00\",\"2074-08-01T00:00:00\",\"2074-09-01T00:00:00\",\"2074-10-01T00:00:00\",\"2074-11-01T00:00:00\",\"2074-12-01T00:00:00\",\"2075-01-01T00:00:00\",\"2075-02-01T00:00:00\",\"2075-03-01T00:00:00\",\"2075-04-01T00:00:00\",\"2075-05-01T00:00:00\",\"2075-06-01T00:00:00\",\"2075-07-01T00:00:00\",\"2075-08-01T00:00:00\",\"2075-09-01T00:00:00\",\"2075-10-01T00:00:00\",\"2075-11-01T00:00:00\",\"2075-12-01T00:00:00\",\"2076-01-01T00:00:00\",\"2076-02-01T00:00:00\",\"2076-03-01T00:00:00\",\"2076-04-01T00:00:00\",\"2076-05-01T00:00:00\",\"2076-06-01T00:00:00\",\"2076-07-01T00:00:00\",\"2076-08-01T00:00:00\",\"2076-09-01T00:00:00\",\"2076-10-01T00:00:00\",\"2076-11-01T00:00:00\",\"2076-12-01T00:00:00\",\"2077-01-01T00:00:00\",\"2077-02-01T00:00:00\",\"2077-03-01T00:00:00\",\"2077-04-01T00:00:00\",\"2077-05-01T00:00:00\",\"2077-06-01T00:00:00\",\"2077-07-01T00:00:00\",\"2077-08-01T00:00:00\",\"2077-09-01T00:00:00\",\"2077-10-01T00:00:00\",\"2077-11-01T00:00:00\",\"2077-12-01T00:00:00\",\"2078-01-01T00:00:00\",\"2078-02-01T00:00:00\",\"2078-03-01T00:00:00\",\"2078-04-01T00:00:00\",\"2078-05-01T00:00:00\",\"2078-06-01T00:00:00\",\"2078-07-01T00:00:00\",\"2078-08-01T00:00:00\",\"2078-09-01T00:00:00\",\"2078-10-01T00:00:00\",\"2078-11-01T00:00:00\",\"2078-12-01T00:00:00\",\"2079-01-01T00:00:00\",\"2079-02-01T00:00:00\",\"2079-03-01T00:00:00\",\"2079-04-01T00:00:00\",\"2079-05-01T00:00:00\",\"2079-06-01T00:00:00\",\"2079-07-01T00:00:00\",\"2079-08-01T00:00:00\",\"2079-09-01T00:00:00\",\"2079-10-01T00:00:00\",\"2079-11-01T00:00:00\",\"2079-12-01T00:00:00\",\"2080-01-01T00:00:00\",\"2080-02-01T00:00:00\",\"2080-03-01T00:00:00\",\"2080-04-01T00:00:00\",\"2080-05-01T00:00:00\",\"2080-06-01T00:00:00\",\"2080-07-01T00:00:00\",\"2080-08-01T00:00:00\",\"2080-09-01T00:00:00\",\"2080-10-01T00:00:00\",\"2080-11-01T00:00:00\",\"2080-12-01T00:00:00\",\"2081-01-01T00:00:00\",\"2081-02-01T00:00:00\",\"2081-03-01T00:00:00\",\"2081-04-01T00:00:00\",\"2081-05-01T00:00:00\",\"2081-06-01T00:00:00\",\"2081-07-01T00:00:00\",\"2081-08-01T00:00:00\",\"2081-09-01T00:00:00\",\"2081-10-01T00:00:00\",\"2081-11-01T00:00:00\",\"2081-12-01T00:00:00\",\"2082-01-01T00:00:00\",\"2082-02-01T00:00:00\",\"2082-03-01T00:00:00\",\"2082-04-01T00:00:00\",\"2082-05-01T00:00:00\",\"2082-06-01T00:00:00\",\"2082-07-01T00:00:00\",\"2082-08-01T00:00:00\",\"2082-09-01T00:00:00\",\"2082-10-01T00:00:00\",\"2082-11-01T00:00:00\",\"2082-12-01T00:00:00\",\"2083-01-01T00:00:00\",\"2083-02-01T00:00:00\",\"2083-03-01T00:00:00\",\"2083-04-01T00:00:00\",\"2083-05-01T00:00:00\",\"2083-06-01T00:00:00\",\"2083-07-01T00:00:00\",\"2083-08-01T00:00:00\",\"2083-09-01T00:00:00\",\"2083-10-01T00:00:00\",\"2083-11-01T00:00:00\",\"2083-12-01T00:00:00\",\"2084-01-01T00:00:00\",\"2084-02-01T00:00:00\",\"2084-03-01T00:00:00\",\"2084-04-01T00:00:00\",\"2084-05-01T00:00:00\",\"2084-06-01T00:00:00\",\"2084-07-01T00:00:00\",\"2084-08-01T00:00:00\",\"2084-09-01T00:00:00\",\"2084-10-01T00:00:00\",\"2084-11-01T00:00:00\",\"2084-12-01T00:00:00\",\"2085-01-01T00:00:00\",\"2085-02-01T00:00:00\",\"2085-03-01T00:00:00\",\"2085-04-01T00:00:00\",\"2085-05-01T00:00:00\",\"2085-06-01T00:00:00\",\"2085-07-01T00:00:00\",\"2085-08-01T00:00:00\",\"2085-09-01T00:00:00\",\"2085-10-01T00:00:00\",\"2085-11-01T00:00:00\",\"2085-12-01T00:00:00\",\"2086-01-01T00:00:00\",\"2086-02-01T00:00:00\",\"2086-03-01T00:00:00\",\"2086-04-01T00:00:00\",\"2086-05-01T00:00:00\",\"2086-06-01T00:00:00\",\"2086-07-01T00:00:00\",\"2086-08-01T00:00:00\",\"2086-09-01T00:00:00\",\"2086-10-01T00:00:00\",\"2086-11-01T00:00:00\",\"2086-12-01T00:00:00\",\"2087-01-01T00:00:00\",\"2087-02-01T00:00:00\",\"2087-03-01T00:00:00\",\"2087-04-01T00:00:00\",\"2087-05-01T00:00:00\",\"2087-06-01T00:00:00\",\"2087-07-01T00:00:00\",\"2087-08-01T00:00:00\",\"2087-09-01T00:00:00\",\"2087-10-01T00:00:00\",\"2087-11-01T00:00:00\",\"2087-12-01T00:00:00\",\"2088-01-01T00:00:00\",\"2088-02-01T00:00:00\",\"2088-03-01T00:00:00\",\"2088-04-01T00:00:00\",\"2088-05-01T00:00:00\",\"2088-06-01T00:00:00\",\"2088-07-01T00:00:00\",\"2088-08-01T00:00:00\",\"2088-09-01T00:00:00\",\"2088-10-01T00:00:00\",\"2088-11-01T00:00:00\",\"2088-12-01T00:00:00\",\"2089-01-01T00:00:00\",\"2089-02-01T00:00:00\",\"2089-03-01T00:00:00\",\"2089-04-01T00:00:00\",\"2089-05-01T00:00:00\",\"2089-06-01T00:00:00\",\"2089-07-01T00:00:00\",\"2089-08-01T00:00:00\",\"2089-09-01T00:00:00\",\"2089-10-01T00:00:00\",\"2089-11-01T00:00:00\",\"2089-12-01T00:00:00\",\"2090-01-01T00:00:00\",\"2090-02-01T00:00:00\",\"2090-03-01T00:00:00\",\"2090-04-01T00:00:00\",\"2090-05-01T00:00:00\",\"2090-06-01T00:00:00\",\"2090-07-01T00:00:00\",\"2090-08-01T00:00:00\",\"2090-09-01T00:00:00\",\"2090-10-01T00:00:00\",\"2090-11-01T00:00:00\",\"2090-12-01T00:00:00\",\"2091-01-01T00:00:00\",\"2091-02-01T00:00:00\",\"2091-03-01T00:00:00\",\"2091-04-01T00:00:00\",\"2091-05-01T00:00:00\",\"2091-06-01T00:00:00\",\"2091-07-01T00:00:00\",\"2091-08-01T00:00:00\",\"2091-09-01T00:00:00\",\"2091-10-01T00:00:00\",\"2091-11-01T00:00:00\",\"2091-12-01T00:00:00\",\"2092-01-01T00:00:00\",\"2092-02-01T00:00:00\",\"2092-03-01T00:00:00\",\"2092-04-01T00:00:00\",\"2092-05-01T00:00:00\",\"2092-06-01T00:00:00\",\"2092-07-01T00:00:00\",\"2092-08-01T00:00:00\",\"2092-09-01T00:00:00\",\"2092-10-01T00:00:00\",\"2092-11-01T00:00:00\",\"2092-12-01T00:00:00\",\"2093-01-01T00:00:00\",\"2093-02-01T00:00:00\",\"2093-03-01T00:00:00\",\"2093-04-01T00:00:00\",\"2093-05-01T00:00:00\",\"2093-06-01T00:00:00\",\"2093-07-01T00:00:00\",\"2093-08-01T00:00:00\",\"2093-09-01T00:00:00\",\"2093-10-01T00:00:00\",\"2093-11-01T00:00:00\",\"2093-12-01T00:00:00\",\"2094-01-01T00:00:00\",\"2094-02-01T00:00:00\",\"2094-03-01T00:00:00\",\"2094-04-01T00:00:00\",\"2094-05-01T00:00:00\",\"2094-06-01T00:00:00\",\"2094-07-01T00:00:00\",\"2094-08-01T00:00:00\",\"2094-09-01T00:00:00\",\"2094-10-01T00:00:00\",\"2094-11-01T00:00:00\",\"2094-12-01T00:00:00\",\"2095-01-01T00:00:00\",\"2095-02-01T00:00:00\",\"2095-03-01T00:00:00\",\"2095-04-01T00:00:00\",\"2095-05-01T00:00:00\",\"2095-06-01T00:00:00\",\"2095-07-01T00:00:00\",\"2095-08-01T00:00:00\",\"2095-09-01T00:00:00\",\"2095-10-01T00:00:00\",\"2095-11-01T00:00:00\",\"2095-12-01T00:00:00\",\"2096-01-01T00:00:00\",\"2096-02-01T00:00:00\",\"2096-03-01T00:00:00\",\"2096-04-01T00:00:00\",\"2096-05-01T00:00:00\",\"2096-06-01T00:00:00\",\"2096-07-01T00:00:00\",\"2096-08-01T00:00:00\",\"2096-09-01T00:00:00\",\"2096-10-01T00:00:00\",\"2096-11-01T00:00:00\",\"2096-12-01T00:00:00\",\"2097-01-01T00:00:00\",\"2097-02-01T00:00:00\",\"2097-03-01T00:00:00\",\"2097-04-01T00:00:00\",\"2097-05-01T00:00:00\",\"2097-06-01T00:00:00\",\"2097-07-01T00:00:00\",\"2097-08-01T00:00:00\",\"2097-09-01T00:00:00\",\"2097-10-01T00:00:00\",\"2097-11-01T00:00:00\",\"2097-12-01T00:00:00\",\"2098-01-01T00:00:00\",\"2098-02-01T00:00:00\",\"2098-03-01T00:00:00\",\"2098-04-01T00:00:00\",\"2098-05-01T00:00:00\",\"2098-06-01T00:00:00\",\"2098-07-01T00:00:00\",\"2098-08-01T00:00:00\",\"2098-09-01T00:00:00\",\"2098-10-01T00:00:00\",\"2098-11-01T00:00:00\",\"2098-12-01T00:00:00\",\"2099-01-01T00:00:00\",\"2099-02-01T00:00:00\",\"2099-03-01T00:00:00\",\"2099-04-01T00:00:00\",\"2099-05-01T00:00:00\",\"2099-06-01T00:00:00\",\"2099-07-01T00:00:00\",\"2099-08-01T00:00:00\",\"2099-09-01T00:00:00\",\"2099-10-01T00:00:00\",\"2099-11-01T00:00:00\",\"2099-12-01T00:00:00\",\"2100-01-01T00:00:00\",\"2100-02-01T00:00:00\",\"2100-03-01T00:00:00\",\"2100-04-01T00:00:00\",\"2100-05-01T00:00:00\",\"2100-06-01T00:00:00\",\"2100-07-01T00:00:00\",\"2100-08-01T00:00:00\",\"2100-09-01T00:00:00\",\"2100-10-01T00:00:00\",\"2100-11-01T00:00:00\",\"2100-12-01T00:00:00\"],\"y\":[3.963479518890381,4.786809921264648,6.77122163772583,9.56802749633789,12.194528579711914,14.36122989654541,15.276748657226562,14.784354209899902,13.306083679199219,10.713968276977539,7.071938514709473,4.679827690124512,3.641583204269409,4.500797271728516,6.332067489624023,9.766016960144043,12.329462051391602,14.318096160888672,15.3324556350708,14.796332359313965,13.274690628051758,10.611742973327637,7.54294490814209,5.182120323181152,3.963512420654297,4.559761047363281,6.772626876831055,9.7455415725708,12.453597068786621,14.625445365905762,15.429471015930176,14.92963981628418,13.253923416137695,10.684555053710938,7.854020118713379,4.863184928894043,4.075531005859375,4.563912391662598,6.683424949645996,9.716075897216797,12.473745346069336,14.546304702758789,15.430327415466309,15.073472023010254,13.603693008422852,10.711044311523438,7.451382160186768,4.9523234367370605,4.170185089111328,4.541675090789795,7.052250862121582,9.865193367004395,12.463162422180176,14.657986640930176,15.386226654052734,15.22249698638916,13.366601943969727,10.855548858642578,7.75132417678833,5.018254280090332,4.018147945404053,4.57865047454834,6.911707401275635,9.721626281738281,12.785746574401855,14.90893840789795,15.526893615722656,15.253976821899414,13.42428207397461,11.03634262084961,7.728135108947754,5.302483558654785,4.225479602813721,4.688948631286621,6.7685546875,9.939164161682129,12.634256362915039,14.761815071105957,15.725866317749023,15.408053398132324,13.428132057189941,10.9541015625,7.6610260009765625,5.493875980377197,4.1436662673950195,4.964216232299805,7.012476921081543,9.868005752563477,12.569114685058594,14.767523765563965,15.635613441467285,15.224495887756348,13.648261070251465,11.283745765686035,7.631448745727539,5.123800754547119,4.012824058532715,4.850310325622559,6.702198505401611,10.183815956115723,12.825298309326172,14.770770072937012,15.835938453674316,15.314544677734375,13.74570369720459,11.04218864440918,7.833902835845947,5.485300064086914,4.20913028717041,4.736123561859131,6.934106826782227,10.075592994689941,12.805761337280273,15.0516996383667,15.902210235595703,15.35081958770752,13.644013404846191,11.041706085205078,8.206806182861328,5.2131757736206055,4.3615899085998535,4.903476238250732,7.025660037994385,10.092714309692383,12.816189765930176,14.908561706542969,15.858909606933594,15.511514663696289,14.033892631530762,11.04391098022461,7.785052299499512,5.196707248687744,4.388282775878906,4.746620178222656,7.319779872894287,10.197798728942871,12.80538558959961,15.073049545288086,15.78635311126709,15.637802124023438,13.75637149810791,11.205056190490723,8.096227645874023,5.289288520812988,4.243072032928467,4.829438209533691,7.182278633117676,10.031586647033691,13.168506622314453,15.3238525390625,15.920637130737305,15.66700267791748,13.808584213256836,11.3804292678833,8.026719093322754,5.542289733886719,4.44737434387207,4.901775360107422,7.0528035163879395,10.215980529785156,12.988608360290527,15.14087963104248,16.12335968017578,15.823226928710938,13.794386863708496,11.290385246276855,7.93353271484375,5.7291669845581055,4.355190753936768,5.200712203979492,7.307671546936035,10.163652420043945,12.912992477416992,15.127870559692383,16.020814895629883,15.597309112548828,14.021678924560547,11.65435791015625,7.89200496673584,5.349666595458984,4.193630218505859,5.067760467529297,6.942716121673584,10.490544319152832,13.174134254455566,15.119499206542969,16.223997116088867,15.660146713256836,14.089936256408691,11.343421936035156,8.086342811584473,5.720288276672363,4.3942437171936035,4.950146198272705,7.155063629150391,10.348105430603027,13.139496803283691,15.410396575927734,16.284215927124023,15.706193923950195,13.965076446533203,11.330348014831543,8.482297897338867,5.4231462478637695,4.54216194152832,5.118865489959717,7.256024360656738,10.380026817321777,13.114311218261719,15.24234390258789,16.202701568603516,15.853979110717773,14.372579574584961,11.300902366638184,8.022882461547852,5.3684563636779785,4.563753604888916,4.935046672821045,7.555446147918701,10.490429878234863,13.097009658813477,15.410634994506836,16.10155487060547,15.968696594238281,14.064445495605469,11.461799621582031,8.347970008850098,5.4830546379089355,4.405577659606934,5.012357711791992,7.406672954559326,10.2932767868042,13.4779634475708,15.666692733764648,16.25004005432129,16.004985809326172,14.109659194946289,11.647049903869629,8.250685691833496,5.714821815490723,4.626856327056885,5.076318740844727,7.2860822677612305,10.450939178466797,13.282402038574219,15.45193862915039,16.448585510253906,16.154949188232422,14.075292587280273,11.547658920288086,8.134382247924805,5.903059482574463,4.512477397918701,5.378391265869141,7.540717124938965,10.4044828414917,13.196593284606934,15.419782638549805,16.32779884338379,15.89040756225586,14.301448822021484,11.934548377990723,8.068995475769043,5.507397651672363,4.327939510345459,5.239001750946045,7.136025905609131,10.745683670043945,13.465401649475098,15.407075881958008,16.540143966674805,15.933752059936523,14.354308128356934,11.56963062286377,8.271283149719238,5.8944597244262695,4.532845973968506,5.123344421386719,7.332235336303711,10.573238372802734,13.41363525390625,15.699464797973633,16.591100692749023,15.984090805053711,14.21335220336914,11.543049812316895,8.681718826293945,5.577297687530518,4.680108547210693,5.2875752449035645,7.441047668457031,10.616448402404785,13.363016128540039,15.513529777526855,16.481338500976562,16.12143898010254,14.635261535644531,11.491372108459473,8.194001197814941,5.485684394836426,4.690494060516357,5.083883762359619,7.74443244934082,10.728299140930176,13.334450721740723,15.68706226348877,16.35183334350586,16.23093032836914,14.299972534179688,11.647937774658203,8.527597427368164,5.622386932373047,4.529715061187744,5.152329921722412,7.586112022399902,10.508598327636719,13.730123519897461,15.942102432250977,16.51496124267578,16.27106285095215,14.339723587036133,11.845993041992188,8.412908554077148,5.835693836212158,4.76521635055542,5.212315559387207,7.471409320831299,10.638623237609863,13.51791000366211,15.700407028198242,16.707904815673828,16.415668487548828,14.286749839782715,11.740267753601074,8.27801513671875,6.025249004364014,4.632295608520508,5.515130043029785,7.724731922149658,10.59756851196289,13.426290512084961,15.655227661132812,16.568578720092773,16.118993759155273,14.511801719665527,12.14184856414795,8.190689086914062,5.61898946762085,4.425542831420898,5.3703179359436035,7.290149688720703,10.94946002960205,13.700529098510742,15.639580726623535,16.789697647094727,16.147354125976562,14.553828239440918,11.735464096069336,8.404633522033691,6.020587921142578,4.635183811187744,5.259714126586914,7.4726338386535645,10.754364013671875,13.635089874267578,15.931646347045898,16.832462310791016,16.19791030883789,14.402701377868652,11.69698715209961,8.823410034179688,5.687365531921387,4.781396389007568,5.417462348937988,7.587491989135742,10.805273056030273,13.56515884399414,15.72980785369873,16.70221519470215,16.330026626586914,14.834542274475098,11.62985610961914,8.314736366271973,5.562604904174805,4.784427642822266,5.198808193206787,7.894043445587158,10.918875694274902,13.524125099182129,15.907068252563477,16.54924774169922,16.4350643157959,14.477280616760254,11.780680656433105,8.652361869812012,5.720928192138672,4.621497631072998,5.2562713623046875,7.726327896118164,10.684353828430176,13.93476390838623,16.162246704101562,16.723731994628906,16.476181030273438,14.510543823242188,11.9885835647583,8.525296211242676,5.919858455657959,4.868373394012451,5.3136749267578125,7.616205215454102,10.782598495483398,13.703024864196777,15.897214889526367,16.911928176879883,16.616355895996094,14.442212104797363,11.880304336547852,8.374107360839844,6.10901403427124,4.722896099090576,5.619320869445801,7.868472099304199,10.751296997070312,13.610692024230957,15.841252326965332,16.755918502807617,16.292770385742188,14.666945457458496,12.291132926940918,8.270245552062988,5.694715976715088,4.49399995803833,5.467623233795166,7.410412788391113,11.110729217529297,13.886877059936523,15.822585105895996,16.982372283935547,16.30975341796875,14.700782775878906,11.85322380065918,8.497147560119629,6.108832836151123,4.709020614624023,5.363439083099365,7.581785202026367,10.89803409576416,13.809688568115234,16.11471176147461,17.01897430419922,16.359024047851562,14.543817520141602,11.80459976196289,8.918560028076172,5.761446475982666,4.85416841506958,5.515127182006836,7.698697090148926,10.951873779296875,13.72584342956543,15.898401260375977,16.872106552124023,16.488330841064453,14.980875015258789,11.726133346557617,8.396201133728027,5.611688613891602,4.850996971130371,5.286370754241943,8.009361267089844,11.067832946777344,13.672229766845703,16.077808380126953,16.701126098632812,16.58938980102539,14.60726261138916,11.871813774108887,8.735340118408203,5.787698268890381,4.686403274536133,5.3316850662231445,7.832794666290283,10.82327651977539,14.095863342285156,16.333019256591797,16.88278579711914,16.629518508911133,14.632194519042969,12.087377548217773,8.599928855895996,5.976002216339111,4.944758415222168,5.39222526550293,7.72900390625,10.895003318786621,13.84749698638916,16.050106048583984,17.06757164001465,16.767019271850586,14.553167343139648,11.978789329528809,8.437774658203125,6.163554668426514,4.789522171020508,5.6976165771484375,7.9788947105407715,10.87215805053711,13.75456428527832,15.984930038452148,16.89812660217285,16.420909881591797,14.777847290039062,12.394585609436035,8.319957733154297,5.744841575622559,4.542542457580566,5.54068660736084,7.504653453826904,11.23709487915039,14.031818389892578,15.96409797668457,17.12718963623047,16.430099487304688,14.806541442871094,11.934534072875977,8.559579849243164,6.1689453125,4.7614850997924805,5.443545341491699,7.666847229003906,11.011528015136719,13.945691108703613,16.255313873291016,17.160287857055664,16.477588653564453,14.646188735961914,11.877145767211914,8.980350494384766,5.809398174285889,4.905858516693115,5.587700366973877,7.783541679382324,11.065659523010254,13.85177993774414,16.02804183959961,16.999738693237305,16.605268478393555,15.08622932434082,11.791345596313477,8.450122833251953,5.642005920410156,4.898562908172607,5.353168487548828,8.099164009094238,11.184003829956055,13.786649703979492,16.20861053466797,16.81614875793457,16.70417022705078,14.700779914855957,11.931962013244629,8.787413597106934,5.83151912689209,4.733793258666992,5.386970520019531,7.9140801429748535,10.933098793029785,14.221232414245605,16.463720321655273,17.00238800048828,16.741439819335938,14.71702766418457,12.154008865356445,8.64803695678711,6.012721061706543,5.0013227462768555,5.453655242919922,7.817939758300781,10.98237133026123,13.959367752075195,16.167156219482422,17.184967041015625,16.878183364868164,14.630053520202637,12.04638385772705,8.478679656982422,6.197934627532959,4.83961820602417,5.756628513336182,8.063257217407227,10.966568946838379,13.86526107788086,16.094865798950195,17.00462532043457,16.51362419128418,14.856040000915527,12.4645414352417,8.349234580993652,5.777138710021973,4.578364372253418,5.596949577331543,7.578935146331787,11.335894584655762,14.143479347229004,16.072444915771484,17.234582901000977,16.517915725708008,14.88122844696045,11.989055633544922,8.60047435760498,6.2094855308532715,4.799053192138672,5.505760192871094,7.734089374542236,11.100865364074707,14.050738334655762,16.361705780029297,17.26579475402832,16.56329345703125,14.71883487701416,11.92477035522461,9.019218444824219,5.840123653411865,4.943422317504883,5.642219543457031,7.849678993225098,11.154609680175781,13.950395584106445,16.12676429748535,17.0958194732666,16.689958572387695,15.160540580749512,11.834127426147461,8.48365306854248,5.659400939941406,4.932889938354492,5.403947830200195,8.168890953063965,11.274337768554688,13.87445068359375,16.307987213134766,16.901981353759766,16.788677215576172,14.76568603515625,11.969160079956055,8.817136764526367,5.8592352867126465,4.76870584487915,5.427268028259277,7.97613000869751,11.019712448120117,14.318702697753906,16.56235694885254,17.091400146484375,16.822216033935547,14.774842262268066,12.196966171264648,8.676867485046387,6.035671234130859,5.0427422523498535,5.503001689910889,7.8892502784729,11.050668716430664,14.046144485473633,16.25619125366211,17.272485733032227,16.959247589111328,14.681928634643555,12.091291427612305,8.503902435302734,6.218569278717041,4.876226425170898,5.801604270935059,8.128018379211426,11.040264129638672,13.951025009155273,16.178997039794922,17.084070205688477,16.580398559570312,14.910877227783203,12.509529113769531,8.36527156829834,5.798942565917969,4.606538772583008,5.640193939208984,7.637819766998291,11.414335250854492,14.230123519897461,16.155811309814453,17.31437873840332,16.5813045501709,14.932613372802734,12.024377822875977,8.626911163330078,6.236257553100586,4.825802803039551,5.554337501525879,7.787515640258789,11.171398162841797,14.131819725036621,16.442386627197266,17.344684600830078,16.624488830566406,14.769322395324707,11.954652786254883,9.042015075683594,5.8590779304504395,4.9704461097717285,5.684574604034424,7.9018402099609375,11.223711013793945,14.028470993041992,16.20232391357422,17.1678466796875,16.750730514526367,15.212265014648438,11.861053466796875,8.50290584564209,5.668355941772461,4.957660675048828,5.442691802978516,8.223686218261719,11.345025062561035,13.941835403442383,16.383420944213867,16.965517044067383,16.850322723388672,14.809417724609375,11.989712715148926,8.831278800964355,5.876124382019043,4.794771671295166,5.4571123123168945,8.024226188659668,11.08842658996582,14.394759178161621,16.63683319091797,17.157411575317383,16.87987518310547,14.813287734985352,12.22339916229248,8.692691802978516,6.049429416656494,5.073389530181885,5.5431318283081055,7.9467291831970215,11.104047775268555,14.113337516784668,16.32368278503418,17.337398529052734,17.017620086669922,14.715758323669434,12.119837760925293,8.518320083618164,6.2300004959106445,4.903388977050781,5.836309432983398,8.178226470947266,11.09835147857666,14.017637252807617,16.243165969848633,17.1426944732666,16.62777328491211,14.948141098022461,12.537481307983398,8.372764587402344,5.812371253967285,4.628410339355469,5.674127578735352,7.684694290161133,11.476541519165039,14.297271728515625,16.219772338867188,17.37322425842285,16.626428604125977,14.967312812805176,12.04607105255127,8.642791748046875,6.253519058227539,4.845588684082031,5.593077659606934,7.830628395080566,11.227993965148926,14.194860458374023,16.503536224365234,17.403474807739258,16.667770385742188,14.80381965637207,11.97244930267334,9.054213523864746,5.8707709312438965,4.990105628967285,5.717211723327637,7.9434404373168945,11.277496337890625,14.089946746826172,16.260046005249023,17.22163963317871,16.79412841796875,15.247820854187012,11.87732219696045,8.513493537902832,5.672238349914551,4.976184844970703,5.472971439361572,8.267395973205566,11.40091609954834,13.99405288696289,16.441028594970703,17.012765884399414,16.89535140991211,14.83934497833252,12.000608444213867,8.836973190307617,5.886585235595703,4.814276218414307,5.479842185974121,8.062312126159668,11.143061637878418,14.454402923583984,16.693452835083008,17.206499099731445,16.92093849182129,14.838641166687012,12.239246368408203,8.700397491455078,6.057446002960205,5.096848011016846,5.575997352600098,7.993653297424316,11.146132469177246,14.166032791137695,16.37529182434082,17.385881423950195,17.059898376464844,14.737688064575195,12.137788772583008,8.526472091674805,6.2363810539245605,4.924103260040283,5.863914966583252,8.217989921569824,11.144474029541016,14.069632530212402,16.292470932006836,17.186330795288086,16.661304473876953,14.97341251373291,12.55435562133789,8.374747276306152,5.820497512817383,4.645440101623535,5.701500415802002,7.722378253936768,11.526351928710938,14.349729537963867,16.269107818603516,17.41708755493164,16.65860366821289,14.990946769714355,12.058993339538574,8.652592658996582,6.265000820159912,4.860883712768555,5.624049186706543,7.8670334815979,11.274051666259766,14.244317054748535,16.550065994262695,17.447813034057617,16.698835372924805,14.827198028564453,11.982651710510254,9.060334205627441,5.8778767585754395,5.004927635192871,5.742701530456543,7.97713565826416,11.320281028747559,14.138792991638184,16.304622650146484,17.261911392211914,16.82547378540039,15.272241592407227,11.886473655700684,8.51889419555664,5.673342704772949,4.990653991699219,5.497313976287842,8.302957534790039,11.445819854736328,14.035215377807617,16.48546028137207,17.048128128051758,16.928466796875,14.85982894897461,12.005289077758789,8.837425231933594,5.893202781677246,4.829557418823242,5.497758388519287,8.09339714050293,11.186753273010254,14.501136779785156,16.736465454101562,17.24401092529297,16.95083999633789,14.855718612670898,12.249150276184082,8.70357608795166,6.062201023101807,5.115841388702393,5.603907585144043,8.032514572143555,11.179615020751953,14.207489013671875,16.414934158325195,17.42255210876465,17.09099578857422,14.75216293334961,12.149201393127441,8.530921936035156,6.239662170410156,4.940199375152588,5.8860697746276855,8.249826431274414,11.181364059448242,14.11056137084961,16.33060646057129,17.219179153442383,16.685651779174805,14.990945816040039,12.564985275268555,8.373505592346191,5.82564640045166,4.66012716293335,5.723862171173096,7.753051280975342,11.56647777557373,14.391088485717773,16.307605743408203,17.450162887573242,16.6821346282959,15.006929397583008,12.066961288452148,8.658465385437012,6.272842884063721,4.8728461265563965,5.648817539215088,7.89704704284668,11.311429977416992,14.283385276794434,16.586069107055664,17.481624603271484,16.721261978149414,14.843095779418945,11.988092422485352,9.062620162963867,5.882082939147949,5.016412734985352,5.763040542602539,8.004598617553711,11.354667663574219,14.177889823913574,16.339271545410156,17.292266845703125,16.848228454589844,15.289239883422852,11.891430854797363,8.521230697631836,5.673264503479004,5.002136707305908,5.517165184020996,8.332084655761719,11.48204517364502,14.067878723144531,16.520034790039062,17.074867248535156,16.952919006347656,14.873912811279297,12.006473541259766,8.835247993469238,5.897426128387451,4.841630935668945,5.512142181396484,8.118692398071289,11.221942901611328,14.538198471069336,16.769620895385742,17.272724151611328,16.972747802734375,14.867220878601074,12.254984855651855,8.704137802124023,6.0651750564575195,5.131086349487305,5.627058029174805,8.06489372253418,11.206457138061523,14.240448951721191,16.44548225402832,17.450605392456055,17.11408805847168,14.761567115783691,12.156489372253418,8.533045768737793,6.241085052490234,4.952897548675537,5.904195308685303,8.275625228881836,11.211195945739746,14.142911911010742,16.431812286376953,17.50772476196289,17.199676513671875,14.797235488891602,12.241206169128418,8.540467262268066,6.1696953773498535],\"type\":\"scatter\"}],                        {\"template\":{\"data\":{\"histogram2dcontour\":[{\"type\":\"histogram2dcontour\",\"colorbar\":{\"outlinewidth\":0,\"ticks\":\"\"},\"colorscale\":[[0.0,\"#0d0887\"],[0.1111111111111111,\"#46039f\"],[0.2222222222222222,\"#7201a8\"],[0.3333333333333333,\"#9c179e\"],[0.4444444444444444,\"#bd3786\"],[0.5555555555555556,\"#d8576b\"],[0.6666666666666666,\"#ed7953\"],[0.7777777777777778,\"#fb9f3a\"],[0.8888888888888888,\"#fdca26\"],[1.0,\"#f0f921\"]]}],\"choropleth\":[{\"type\":\"choropleth\",\"colorbar\":{\"outlinewidth\":0,\"ticks\":\"\"}}],\"histogram2d\":[{\"type\":\"histogram2d\",\"colorbar\":{\"outlinewidth\":0,\"ticks\":\"\"},\"colorscale\":[[0.0,\"#0d0887\"],[0.1111111111111111,\"#46039f\"],[0.2222222222222222,\"#7201a8\"],[0.3333333333333333,\"#9c179e\"],[0.4444444444444444,\"#bd3786\"],[0.5555555555555556,\"#d8576b\"],[0.6666666666666666,\"#ed7953\"],[0.7777777777777778,\"#fb9f3a\"],[0.8888888888888888,\"#fdca26\"],[1.0,\"#f0f921\"]]}],\"heatmap\":[{\"type\":\"heatmap\",\"colorbar\":{\"outlinewidth\":0,\"ticks\":\"\"},\"colorscale\":[[0.0,\"#0d0887\"],[0.1111111111111111,\"#46039f\"],[0.2222222222222222,\"#7201a8\"],[0.3333333333333333,\"#9c179e\"],[0.4444444444444444,\"#bd3786\"],[0.5555555555555556,\"#d8576b\"],[0.6666666666666666,\"#ed7953\"],[0.7777777777777778,\"#fb9f3a\"],[0.8888888888888888,\"#fdca26\"],[1.0,\"#f0f921\"]]}],\"heatmapgl\":[{\"type\":\"heatmapgl\",\"colorbar\":{\"outlinewidth\":0,\"ticks\":\"\"},\"colorscale\":[[0.0,\"#0d0887\"],[0.1111111111111111,\"#46039f\"],[0.2222222222222222,\"#7201a8\"],[0.3333333333333333,\"#9c179e\"],[0.4444444444444444,\"#bd3786\"],[0.5555555555555556,\"#d8576b\"],[0.6666666666666666,\"#ed7953\"],[0.7777777777777778,\"#fb9f3a\"],[0.8888888888888888,\"#fdca26\"],[1.0,\"#f0f921\"]]}],\"contourcarpet\":[{\"type\":\"contourcarpet\",\"colorbar\":{\"outlinewidth\":0,\"ticks\":\"\"}}],\"contour\":[{\"type\":\"contour\",\"colorbar\":{\"outlinewidth\":0,\"ticks\":\"\"},\"colorscale\":[[0.0,\"#0d0887\"],[0.1111111111111111,\"#46039f\"],[0.2222222222222222,\"#7201a8\"],[0.3333333333333333,\"#9c179e\"],[0.4444444444444444,\"#bd3786\"],[0.5555555555555556,\"#d8576b\"],[0.6666666666666666,\"#ed7953\"],[0.7777777777777778,\"#fb9f3a\"],[0.8888888888888888,\"#fdca26\"],[1.0,\"#f0f921\"]]}],\"surface\":[{\"type\":\"surface\",\"colorbar\":{\"outlinewidth\":0,\"ticks\":\"\"},\"colorscale\":[[0.0,\"#0d0887\"],[0.1111111111111111,\"#46039f\"],[0.2222222222222222,\"#7201a8\"],[0.3333333333333333,\"#9c179e\"],[0.4444444444444444,\"#bd3786\"],[0.5555555555555556,\"#d8576b\"],[0.6666666666666666,\"#ed7953\"],[0.7777777777777778,\"#fb9f3a\"],[0.8888888888888888,\"#fdca26\"],[1.0,\"#f0f921\"]]}],\"mesh3d\":[{\"type\":\"mesh3d\",\"colorbar\":{\"outlinewidth\":0,\"ticks\":\"\"}}],\"scatter\":[{\"fillpattern\":{\"fillmode\":\"overlay\",\"size\":10,\"solidity\":0.2},\"type\":\"scatter\"}],\"parcoords\":[{\"type\":\"parcoords\",\"line\":{\"colorbar\":{\"outlinewidth\":0,\"ticks\":\"\"}}}],\"scatterpolargl\":[{\"type\":\"scatterpolargl\",\"marker\":{\"colorbar\":{\"outlinewidth\":0,\"ticks\":\"\"}}}],\"bar\":[{\"error_x\":{\"color\":\"#2a3f5f\"},\"error_y\":{\"color\":\"#2a3f5f\"},\"marker\":{\"line\":{\"color\":\"#E5ECF6\",\"width\":0.5},\"pattern\":{\"fillmode\":\"overlay\",\"size\":10,\"solidity\":0.2}},\"type\":\"bar\"}],\"scattergeo\":[{\"type\":\"scattergeo\",\"marker\":{\"colorbar\":{\"outlinewidth\":0,\"ticks\":\"\"}}}],\"scatterpolar\":[{\"type\":\"scatterpolar\",\"marker\":{\"colorbar\":{\"outlinewidth\":0,\"ticks\":\"\"}}}],\"histogram\":[{\"marker\":{\"pattern\":{\"fillmode\":\"overlay\",\"size\":10,\"solidity\":0.2}},\"type\":\"histogram\"}],\"scattergl\":[{\"type\":\"scattergl\",\"marker\":{\"colorbar\":{\"outlinewidth\":0,\"ticks\":\"\"}}}],\"scatter3d\":[{\"type\":\"scatter3d\",\"line\":{\"colorbar\":{\"outlinewidth\":0,\"ticks\":\"\"}},\"marker\":{\"colorbar\":{\"outlinewidth\":0,\"ticks\":\"\"}}}],\"scattermapbox\":[{\"type\":\"scattermapbox\",\"marker\":{\"colorbar\":{\"outlinewidth\":0,\"ticks\":\"\"}}}],\"scatterternary\":[{\"type\":\"scatterternary\",\"marker\":{\"colorbar\":{\"outlinewidth\":0,\"ticks\":\"\"}}}],\"scattercarpet\":[{\"type\":\"scattercarpet\",\"marker\":{\"colorbar\":{\"outlinewidth\":0,\"ticks\":\"\"}}}],\"carpet\":[{\"aaxis\":{\"endlinecolor\":\"#2a3f5f\",\"gridcolor\":\"white\",\"linecolor\":\"white\",\"minorgridcolor\":\"white\",\"startlinecolor\":\"#2a3f5f\"},\"baxis\":{\"endlinecolor\":\"#2a3f5f\",\"gridcolor\":\"white\",\"linecolor\":\"white\",\"minorgridcolor\":\"white\",\"startlinecolor\":\"#2a3f5f\"},\"type\":\"carpet\"}],\"table\":[{\"cells\":{\"fill\":{\"color\":\"#EBF0F8\"},\"line\":{\"color\":\"white\"}},\"header\":{\"fill\":{\"color\":\"#C8D4E3\"},\"line\":{\"color\":\"white\"}},\"type\":\"table\"}],\"barpolar\":[{\"marker\":{\"line\":{\"color\":\"#E5ECF6\",\"width\":0.5},\"pattern\":{\"fillmode\":\"overlay\",\"size\":10,\"solidity\":0.2}},\"type\":\"barpolar\"}],\"pie\":[{\"automargin\":true,\"type\":\"pie\"}]},\"layout\":{\"autotypenumbers\":\"strict\",\"colorway\":[\"#636efa\",\"#EF553B\",\"#00cc96\",\"#ab63fa\",\"#FFA15A\",\"#19d3f3\",\"#FF6692\",\"#B6E880\",\"#FF97FF\",\"#FECB52\"],\"font\":{\"color\":\"#2a3f5f\"},\"hovermode\":\"closest\",\"hoverlabel\":{\"align\":\"left\"},\"paper_bgcolor\":\"white\",\"plot_bgcolor\":\"#E5ECF6\",\"polar\":{\"bgcolor\":\"#E5ECF6\",\"angularaxis\":{\"gridcolor\":\"white\",\"linecolor\":\"white\",\"ticks\":\"\"},\"radialaxis\":{\"gridcolor\":\"white\",\"linecolor\":\"white\",\"ticks\":\"\"}},\"ternary\":{\"bgcolor\":\"#E5ECF6\",\"aaxis\":{\"gridcolor\":\"white\",\"linecolor\":\"white\",\"ticks\":\"\"},\"baxis\":{\"gridcolor\":\"white\",\"linecolor\":\"white\",\"ticks\":\"\"},\"caxis\":{\"gridcolor\":\"white\",\"linecolor\":\"white\",\"ticks\":\"\"}},\"coloraxis\":{\"colorbar\":{\"outlinewidth\":0,\"ticks\":\"\"}},\"colorscale\":{\"sequential\":[[0.0,\"#0d0887\"],[0.1111111111111111,\"#46039f\"],[0.2222222222222222,\"#7201a8\"],[0.3333333333333333,\"#9c179e\"],[0.4444444444444444,\"#bd3786\"],[0.5555555555555556,\"#d8576b\"],[0.6666666666666666,\"#ed7953\"],[0.7777777777777778,\"#fb9f3a\"],[0.8888888888888888,\"#fdca26\"],[1.0,\"#f0f921\"]],\"sequentialminus\":[[0.0,\"#0d0887\"],[0.1111111111111111,\"#46039f\"],[0.2222222222222222,\"#7201a8\"],[0.3333333333333333,\"#9c179e\"],[0.4444444444444444,\"#bd3786\"],[0.5555555555555556,\"#d8576b\"],[0.6666666666666666,\"#ed7953\"],[0.7777777777777778,\"#fb9f3a\"],[0.8888888888888888,\"#fdca26\"],[1.0,\"#f0f921\"]],\"diverging\":[[0,\"#8e0152\"],[0.1,\"#c51b7d\"],[0.2,\"#de77ae\"],[0.3,\"#f1b6da\"],[0.4,\"#fde0ef\"],[0.5,\"#f7f7f7\"],[0.6,\"#e6f5d0\"],[0.7,\"#b8e186\"],[0.8,\"#7fbc41\"],[0.9,\"#4d9221\"],[1,\"#276419\"]]},\"xaxis\":{\"gridcolor\":\"white\",\"linecolor\":\"white\",\"ticks\":\"\",\"title\":{\"standoff\":15},\"zerolinecolor\":\"white\",\"automargin\":true,\"zerolinewidth\":2},\"yaxis\":{\"gridcolor\":\"white\",\"linecolor\":\"white\",\"ticks\":\"\",\"title\":{\"standoff\":15},\"zerolinecolor\":\"white\",\"automargin\":true,\"zerolinewidth\":2},\"scene\":{\"xaxis\":{\"backgroundcolor\":\"#E5ECF6\",\"gridcolor\":\"white\",\"linecolor\":\"white\",\"showbackground\":true,\"ticks\":\"\",\"zerolinecolor\":\"white\",\"gridwidth\":2},\"yaxis\":{\"backgroundcolor\":\"#E5ECF6\",\"gridcolor\":\"white\",\"linecolor\":\"white\",\"showbackground\":true,\"ticks\":\"\",\"zerolinecolor\":\"white\",\"gridwidth\":2},\"zaxis\":{\"backgroundcolor\":\"#E5ECF6\",\"gridcolor\":\"white\",\"linecolor\":\"white\",\"showbackground\":true,\"ticks\":\"\",\"zerolinecolor\":\"white\",\"gridwidth\":2}},\"shapedefaults\":{\"line\":{\"color\":\"#2a3f5f\"}},\"annotationdefaults\":{\"arrowcolor\":\"#2a3f5f\",\"arrowhead\":0,\"arrowwidth\":1},\"geo\":{\"bgcolor\":\"white\",\"landcolor\":\"#E5ECF6\",\"subunitcolor\":\"white\",\"showland\":true,\"showlakes\":true,\"lakecolor\":\"white\"},\"title\":{\"x\":0.05},\"mapbox\":{\"style\":\"light\"}}},\"shapes\":[{\"line\":{\"color\":\"Red\",\"width\":2},\"type\":\"line\",\"x0\":\"2014-01-01\",\"x1\":\"2100-12-01\",\"y0\":20,\"y1\":20}],\"title\":{\"text\":\"TFT\"},\"xaxis\":{\"title\":{\"text\":\"Date\"}},\"yaxis\":{\"title\":{\"text\":\"Temperature\"}}},                        {\"responsive\": true}                    ).then(function(){\n",
       "                            \n",
       "var gd = document.getElementById('841a37d9-469e-488c-98ba-21be3051f1ec');\n",
       "var x = new MutationObserver(function (mutations, observer) {{\n",
       "        var display = window.getComputedStyle(gd).display;\n",
       "        if (!display || display === 'none') {{\n",
       "            console.log([gd, 'removed!']);\n",
       "            Plotly.purge(gd);\n",
       "            observer.disconnect();\n",
       "        }}\n",
       "}});\n",
       "\n",
       "// Listen for the removal of the full notebook cells\n",
       "var notebookContainer = gd.closest('#notebook-container');\n",
       "if (notebookContainer) {{\n",
       "    x.observe(notebookContainer, {childList: true});\n",
       "}}\n",
       "\n",
       "// Listen for the clearing of the current output cell\n",
       "var outputEl = gd.closest('.output');\n",
       "if (outputEl) {{\n",
       "    x.observe(outputEl, {childList: true});\n",
       "}}\n",
       "\n",
       "                        })                };                });            </script>        </div>"
      ]
     },
     "metadata": {},
     "output_type": "display_data"
    }
   ],
   "source": [
    "# 使用plotly绘制预测结果\n",
    "import plotly.graph_objects as go\n",
    "fig = go.Figure()\n",
    "fig.add_trace(go.Scatter(x=df['dt'][-12:], y=df['LandAverageTemperature'][-12:], name='actual'))\n",
    "fig.add_trace(go.Scatter(x=pred_df['dt'], y=pred_df['LandAverageTemperature'], name='prediction'))\n",
    "# 20摄氏度的水平线\n",
    "fig.add_shape(type=\"line\", x0=\"2014-01-01\", y0=20, x1=\"2100-12-01\", y1=20, line=dict(color=\"Red\", width=2))\n",
    "fig.update_layout(title=\"TFT\", xaxis_title=\"Date\", yaxis_title=\"Temperature\")\n",
    "fig.show()"
   ]
  },
  {
   "cell_type": "code",
   "execution_count": 53,
   "metadata": {},
   "outputs": [
    {
     "data": {
      "text/plain": [
       "<darts.models.forecasting.nbeats.NBEATSModel at 0x14ebb9f4ec10>"
      ]
     },
     "execution_count": 53,
     "metadata": {},
     "output_type": "execute_result"
    }
   ],
   "source": [
    "my_model.load(\"my_model.pt\")"
   ]
  },
  {
   "cell_type": "code",
   "execution_count": 54,
   "metadata": {},
   "outputs": [
    {
     "data": {
      "application/vnd.jupyter.widget-view+json": {
       "model_id": "e3e6a1e9ef884624b6b7a7953766ca84",
       "version_major": 2,
       "version_minor": 0
      },
      "text/plain": [
       "  0%|          | 0/38 [00:00<?, ?it/s]"
      ]
     },
     "metadata": {},
     "output_type": "display_data"
    },
    {
     "data": {
      "application/vnd.jupyter.widget-view+json": {
       "model_id": "4d6772d59be34ff99b0e83878b93fee7",
       "version_major": 2,
       "version_minor": 0
      },
      "text/plain": [
       "Training: 0it [00:00, ?it/s]"
      ]
     },
     "metadata": {},
     "output_type": "display_data"
    },
    {
     "data": {
      "application/vnd.jupyter.widget-view+json": {
       "model_id": "33ca1104c6834961897316693e12d970",
       "version_major": 2,
       "version_minor": 0
      },
      "text/plain": [
       "Predicting: 2it [00:00, ?it/s]"
      ]
     },
     "metadata": {},
     "output_type": "display_data"
    },
    {
     "data": {
      "application/vnd.jupyter.widget-view+json": {
       "model_id": "8c051f02f5fc475b9a9a34e723063af5",
       "version_major": 2,
       "version_minor": 0
      },
      "text/plain": [
       "Predicting: 2it [00:00, ?it/s]"
      ]
     },
     "metadata": {},
     "output_type": "display_data"
    },
    {
     "data": {
      "application/vnd.jupyter.widget-view+json": {
       "model_id": "d6359111796248df9f0a01f31d0656c4",
       "version_major": 2,
       "version_minor": 0
      },
      "text/plain": [
       "Predicting: 2it [00:00, ?it/s]"
      ]
     },
     "metadata": {},
     "output_type": "display_data"
    },
    {
     "data": {
      "application/vnd.jupyter.widget-view+json": {
       "model_id": "ec57a75cd53c48e68dc76f46cd26f558",
       "version_major": 2,
       "version_minor": 0
      },
      "text/plain": [
       "Predicting: 2it [00:00, ?it/s]"
      ]
     },
     "metadata": {},
     "output_type": "display_data"
    },
    {
     "data": {
      "application/vnd.jupyter.widget-view+json": {
       "model_id": "897c1a6383ae43f0afb56ac3e9dac771",
       "version_major": 2,
       "version_minor": 0
      },
      "text/plain": [
       "Predicting: 2it [00:00, ?it/s]"
      ]
     },
     "metadata": {},
     "output_type": "display_data"
    },
    {
     "data": {
      "application/vnd.jupyter.widget-view+json": {
       "model_id": "9411ae4b27be472fa3317f6ef994445f",
       "version_major": 2,
       "version_minor": 0
      },
      "text/plain": [
       "Predicting: 2it [00:00, ?it/s]"
      ]
     },
     "metadata": {},
     "output_type": "display_data"
    },
    {
     "data": {
      "application/vnd.jupyter.widget-view+json": {
       "model_id": "efed502ee4294fa9b5e87ed7b2318809",
       "version_major": 2,
       "version_minor": 0
      },
      "text/plain": [
       "Predicting: 2it [00:00, ?it/s]"
      ]
     },
     "metadata": {},
     "output_type": "display_data"
    },
    {
     "data": {
      "application/vnd.jupyter.widget-view+json": {
       "model_id": "eca23b5e1dbf44c092038e336be8dec2",
       "version_major": 2,
       "version_minor": 0
      },
      "text/plain": [
       "Predicting: 2it [00:00, ?it/s]"
      ]
     },
     "metadata": {},
     "output_type": "display_data"
    },
    {
     "data": {
      "application/vnd.jupyter.widget-view+json": {
       "model_id": "7d2c022d1cda47119987382f3f18b337",
       "version_major": 2,
       "version_minor": 0
      },
      "text/plain": [
       "Predicting: 2it [00:00, ?it/s]"
      ]
     },
     "metadata": {},
     "output_type": "display_data"
    },
    {
     "data": {
      "application/vnd.jupyter.widget-view+json": {
       "model_id": "f5e95831f255402c91a3fb077341b4c3",
       "version_major": 2,
       "version_minor": 0
      },
      "text/plain": [
       "Predicting: 2it [00:00, ?it/s]"
      ]
     },
     "metadata": {},
     "output_type": "display_data"
    },
    {
     "data": {
      "application/vnd.jupyter.widget-view+json": {
       "model_id": "06ed9415c1e340fdab5d3c4d6a7eddf5",
       "version_major": 2,
       "version_minor": 0
      },
      "text/plain": [
       "Predicting: 2it [00:00, ?it/s]"
      ]
     },
     "metadata": {},
     "output_type": "display_data"
    },
    {
     "data": {
      "application/vnd.jupyter.widget-view+json": {
       "model_id": "2a811a518ff74af78308b25cc498133e",
       "version_major": 2,
       "version_minor": 0
      },
      "text/plain": [
       "Predicting: 2it [00:00, ?it/s]"
      ]
     },
     "metadata": {},
     "output_type": "display_data"
    },
    {
     "data": {
      "application/vnd.jupyter.widget-view+json": {
       "model_id": "cef9619a37814602802236df8984326f",
       "version_major": 2,
       "version_minor": 0
      },
      "text/plain": [
       "Predicting: 2it [00:00, ?it/s]"
      ]
     },
     "metadata": {},
     "output_type": "display_data"
    },
    {
     "data": {
      "application/vnd.jupyter.widget-view+json": {
       "model_id": "aa8891404ee140e38a8f0bdb8e358398",
       "version_major": 2,
       "version_minor": 0
      },
      "text/plain": [
       "Predicting: 2it [00:00, ?it/s]"
      ]
     },
     "metadata": {},
     "output_type": "display_data"
    },
    {
     "data": {
      "application/vnd.jupyter.widget-view+json": {
       "model_id": "425c0935374f4a85b4c4b24767a4195f",
       "version_major": 2,
       "version_minor": 0
      },
      "text/plain": [
       "Predicting: 2it [00:00, ?it/s]"
      ]
     },
     "metadata": {},
     "output_type": "display_data"
    },
    {
     "data": {
      "application/vnd.jupyter.widget-view+json": {
       "model_id": "e4e943de668549b49c7a01d1cdefc642",
       "version_major": 2,
       "version_minor": 0
      },
      "text/plain": [
       "Predicting: 2it [00:00, ?it/s]"
      ]
     },
     "metadata": {},
     "output_type": "display_data"
    },
    {
     "data": {
      "application/vnd.jupyter.widget-view+json": {
       "model_id": "a936506a56f242e280beedc5160c8af7",
       "version_major": 2,
       "version_minor": 0
      },
      "text/plain": [
       "Predicting: 2it [00:00, ?it/s]"
      ]
     },
     "metadata": {},
     "output_type": "display_data"
    },
    {
     "data": {
      "application/vnd.jupyter.widget-view+json": {
       "model_id": "dd7cbf0daf8249d6b0f5a64538268b79",
       "version_major": 2,
       "version_minor": 0
      },
      "text/plain": [
       "Predicting: 2it [00:00, ?it/s]"
      ]
     },
     "metadata": {},
     "output_type": "display_data"
    },
    {
     "data": {
      "application/vnd.jupyter.widget-view+json": {
       "model_id": "9099a7375f344094a3deb805cadbd3e6",
       "version_major": 2,
       "version_minor": 0
      },
      "text/plain": [
       "Predicting: 2it [00:00, ?it/s]"
      ]
     },
     "metadata": {},
     "output_type": "display_data"
    },
    {
     "data": {
      "application/vnd.jupyter.widget-view+json": {
       "model_id": "fb3081a4d34d487c84c1867044f7cccd",
       "version_major": 2,
       "version_minor": 0
      },
      "text/plain": [
       "Predicting: 2it [00:00, ?it/s]"
      ]
     },
     "metadata": {},
     "output_type": "display_data"
    },
    {
     "data": {
      "application/vnd.jupyter.widget-view+json": {
       "model_id": "f9e144f27d5d489794566c4e81c437a7",
       "version_major": 2,
       "version_minor": 0
      },
      "text/plain": [
       "Predicting: 2it [00:00, ?it/s]"
      ]
     },
     "metadata": {},
     "output_type": "display_data"
    },
    {
     "data": {
      "application/vnd.jupyter.widget-view+json": {
       "model_id": "cc6a34b26ca74dc29decc41ebcf11778",
       "version_major": 2,
       "version_minor": 0
      },
      "text/plain": [
       "Predicting: 2it [00:00, ?it/s]"
      ]
     },
     "metadata": {},
     "output_type": "display_data"
    },
    {
     "data": {
      "application/vnd.jupyter.widget-view+json": {
       "model_id": "7f41b08dea4d4b588d72c4313f0cff9c",
       "version_major": 2,
       "version_minor": 0
      },
      "text/plain": [
       "Predicting: 2it [00:00, ?it/s]"
      ]
     },
     "metadata": {},
     "output_type": "display_data"
    },
    {
     "data": {
      "application/vnd.jupyter.widget-view+json": {
       "model_id": "76008d75a091437eaecaccbc4f6e1439",
       "version_major": 2,
       "version_minor": 0
      },
      "text/plain": [
       "Predicting: 2it [00:00, ?it/s]"
      ]
     },
     "metadata": {},
     "output_type": "display_data"
    },
    {
     "data": {
      "application/vnd.jupyter.widget-view+json": {
       "model_id": "6dc8a1c8f43c4f219869bd1fa9780991",
       "version_major": 2,
       "version_minor": 0
      },
      "text/plain": [
       "Predicting: 2it [00:00, ?it/s]"
      ]
     },
     "metadata": {},
     "output_type": "display_data"
    },
    {
     "data": {
      "application/vnd.jupyter.widget-view+json": {
       "model_id": "2460397aa8334e3abcb3657b42d5a674",
       "version_major": 2,
       "version_minor": 0
      },
      "text/plain": [
       "Predicting: 2it [00:00, ?it/s]"
      ]
     },
     "metadata": {},
     "output_type": "display_data"
    },
    {
     "data": {
      "application/vnd.jupyter.widget-view+json": {
       "model_id": "b80b3fb96de64a0e956dfbfbb0556399",
       "version_major": 2,
       "version_minor": 0
      },
      "text/plain": [
       "Predicting: 2it [00:00, ?it/s]"
      ]
     },
     "metadata": {},
     "output_type": "display_data"
    },
    {
     "data": {
      "application/vnd.jupyter.widget-view+json": {
       "model_id": "1186ec6456564313b36b20bb3e2c1a0c",
       "version_major": 2,
       "version_minor": 0
      },
      "text/plain": [
       "Predicting: 2it [00:00, ?it/s]"
      ]
     },
     "metadata": {},
     "output_type": "display_data"
    },
    {
     "data": {
      "application/vnd.jupyter.widget-view+json": {
       "model_id": "dbc7499a3f4c41718ad04d4a78b24f89",
       "version_major": 2,
       "version_minor": 0
      },
      "text/plain": [
       "Predicting: 2it [00:00, ?it/s]"
      ]
     },
     "metadata": {},
     "output_type": "display_data"
    },
    {
     "data": {
      "application/vnd.jupyter.widget-view+json": {
       "model_id": "87c2e6fdb07d4b39999a598baeb29db9",
       "version_major": 2,
       "version_minor": 0
      },
      "text/plain": [
       "Predicting: 2it [00:00, ?it/s]"
      ]
     },
     "metadata": {},
     "output_type": "display_data"
    },
    {
     "data": {
      "application/vnd.jupyter.widget-view+json": {
       "model_id": "2dacde7825cc44ebb1e63078463c3784",
       "version_major": 2,
       "version_minor": 0
      },
      "text/plain": [
       "Predicting: 2it [00:00, ?it/s]"
      ]
     },
     "metadata": {},
     "output_type": "display_data"
    },
    {
     "data": {
      "application/vnd.jupyter.widget-view+json": {
       "model_id": "7c7a4fa0bd73403bbf72ea07fe9f406d",
       "version_major": 2,
       "version_minor": 0
      },
      "text/plain": [
       "Predicting: 2it [00:00, ?it/s]"
      ]
     },
     "metadata": {},
     "output_type": "display_data"
    },
    {
     "data": {
      "application/vnd.jupyter.widget-view+json": {
       "model_id": "714773e300b549bcbea854cf6aa41fb2",
       "version_major": 2,
       "version_minor": 0
      },
      "text/plain": [
       "Predicting: 2it [00:00, ?it/s]"
      ]
     },
     "metadata": {},
     "output_type": "display_data"
    },
    {
     "data": {
      "application/vnd.jupyter.widget-view+json": {
       "model_id": "c687c1ffc7b44c96ab29b224e3c4f37c",
       "version_major": 2,
       "version_minor": 0
      },
      "text/plain": [
       "Predicting: 2it [00:00, ?it/s]"
      ]
     },
     "metadata": {},
     "output_type": "display_data"
    },
    {
     "data": {
      "application/vnd.jupyter.widget-view+json": {
       "model_id": "c669c9cd49354e048f25168b2533822f",
       "version_major": 2,
       "version_minor": 0
      },
      "text/plain": [
       "Predicting: 2it [00:00, ?it/s]"
      ]
     },
     "metadata": {},
     "output_type": "display_data"
    },
    {
     "data": {
      "application/vnd.jupyter.widget-view+json": {
       "model_id": "a5e70be1e5fa441e916be39173a4ff8b",
       "version_major": 2,
       "version_minor": 0
      },
      "text/plain": [
       "Predicting: 2it [00:00, ?it/s]"
      ]
     },
     "metadata": {},
     "output_type": "display_data"
    },
    {
     "data": {
      "application/vnd.jupyter.widget-view+json": {
       "model_id": "8464bc0bc22949a093b516cb6f826741",
       "version_major": 2,
       "version_minor": 0
      },
      "text/plain": [
       "Predicting: 2it [00:00, ?it/s]"
      ]
     },
     "metadata": {},
     "output_type": "display_data"
    },
    {
     "data": {
      "application/vnd.jupyter.widget-view+json": {
       "model_id": "1fdd24e062c8471490c3b86452697fc7",
       "version_major": 2,
       "version_minor": 0
      },
      "text/plain": [
       "Predicting: 2it [00:00, ?it/s]"
      ]
     },
     "metadata": {},
     "output_type": "display_data"
    },
    {
     "data": {
      "image/png": "[encoded data removed]",
      "text/plain": [
       "<Figure size 800x500 with 1 Axes>"
      ]
     },
     "metadata": {},
     "output_type": "display_data"
    }
   ],
   "source": [
    "train, val = series.split_after(pd.Timestamp(\"20000101\"))\n",
    "def display_forecast(pred_series, ts_transformed, forecast_type, start_date=None):\n",
    "    plt.figure(figsize=(8, 5))\n",
    "    if start_date:\n",
    "        ts_transformed = ts_transformed.drop_before(start_date)\n",
    "    ts_transformed.univariate_component(0).plot(label=\"actual\")\n",
    "    pred_series.plot(label=(\"historic \" + forecast_type + \" forecasts\"))\n",
    "    plt.title(\n",
    "        \"R2: {}\".format(r2_score(ts_transformed.univariate_component(0), pred_series))\n",
    "    )\n",
    "    plt.legend()\n",
    "pred_series = my_model.historical_forecasts(\n",
    "    series,\n",
    "    start=pd.Timestamp(\"20000101\"),\n",
    "    forecast_horizon=7,\n",
    "    stride=5,\n",
    "    retrain=False,\n",
    "    verbose=True,\n",
    ")\n",
    "display_forecast(pred_series, series, \"15 years\", start_date=pd.Timestamp(\"20000101\"))"
   ]
  },
  {
   "cell_type": "code",
   "execution_count": null,
   "metadata": {},
   "outputs": [],
   "source": [
    "# 使用plotly绘制预测结果\n",
    "import plotly.graph_objects as go\n",
    "fig = go.Figure()\n",
    "fig.add_trace(go.Scatter(x=df['dt'][-12:], y=df['LandAverageTemperature'][-12:], name='actual'))\n",
    "fig.add_trace(go.Scatter(x=pred_df['dt'], y=pred_df['LandAverageTemperature'], name='prediction'))"
   ]
  }
 ],
 "metadata": {
  "kernelspec": {
   "display_name": "Python 3.9.13 ('myenv')",
   "language": "python",
   "name": "python3"
  },
  "language_info": {
   "codemirror_mode": {
    "name": "ipython",
    "version": 3
   },
   "file_extension": ".py",
   "mimetype": "text/x-python",
   "name": "python",
   "nbconvert_exporter": "python",
   "pygments_lexer": "ipython3",
   "version": "3.9.13"
  },
  "orig_nbformat": 4,
  "vscode": {
   "interpreter": {
    "hash": "9564eaee7b2d18fff668db0d56d5be435fa415a0b75ee906b58019918c1dc466"
   }
  }
 },
 "nbformat": 4,
 "nbformat_minor": 2
}
