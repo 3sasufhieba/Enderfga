{
 "cells": [
  {
   "cell_type": "code",
   "execution_count": null,
   "metadata": {},
   "outputs": [],
   "source": [
    "import pandas as pd\n",
    "data=pd.read_csv('5_test_classification.csv')\n",
    "X = data.drop(columns='Y', inplace=False)\n",
    "Y = data.get('Y')\n",
    "# 数据预处理，将原始数据标准化\n",
    "from sklearn.preprocessing import StandardScaler\n",
    "scaler = StandardScaler()\n",
    "scaler.fit(X)\n",
    "X_std = scaler.transform(X)\n",
    "# 读取模型\n",
    "import joblib\n",
    "model = joblib.load('mlp_classification.pkl')\n",
    "# accuracy\n",
    "from sklearn.metrics import accuracy_score\n",
    "y_pred = model.predict(X_std)\n",
    "print('Accuracy: %.2f' % accuracy_score(Y, y_pred))"
   ]
  }
 ],
 "metadata": {
  "interpreter": {
   "hash": "cc5f70855ac006f3de45a3cc3b9e7d8d53845e50458809cb162b0174266dec97"
  },
  "kernelspec": {
   "display_name": "Python 3.8.8 64-bit ('base': conda)",
   "language": "python",
   "name": "python3"
  },
  "language_info": {
   "codemirror_mode": {
    "name": "ipython",
    "version": 3
   },
   "file_extension": ".py",
   "mimetype": "text/x-python",
   "name": "python",
   "nbconvert_exporter": "python",
   "pygments_lexer": "ipython3",
   "version": "3.8.8"
  },
  "orig_nbformat": 4
 },
 "nbformat": 4,
 "nbformat_minor": 2
}
