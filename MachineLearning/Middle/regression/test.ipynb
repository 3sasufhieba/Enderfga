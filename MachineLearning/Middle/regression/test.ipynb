{
 "cells": [
  {
   "cell_type": "code",
   "execution_count": null,
   "metadata": {},
   "outputs": [],
   "source": [
    "# 读入数据，获得输入X和输出Y\n",
    "import pandas as pd\n",
    "data=pd.read_csv('5_test_regression.csv')\n",
    "X = data.drop(columns='Y', inplace=False)\n",
    "Y = data.get('Y')\n",
    "# 数据预处理，将原始数据标准化\n",
    "from sklearn.preprocessing import StandardScaler\n",
    "scaler = StandardScaler()\n",
    "scaler.fit(X)\n",
    "X_std = scaler.transform(X)\n",
    "# 读取模型\n",
    "import joblib\n",
    "model = joblib.load('mlp_regression.pkl')\n",
    "# MAPE\n",
    "from sklearn.metrics import mean_absolute_percentage_error\n",
    "y_pred = model.predict(X_std)\n",
    "mape = mean_absolute_percentage_error(Y, y_pred)\n",
    "print('MAPE:', mape)"
   ]
  }
 ],
 "metadata": {
  "interpreter": {
   "hash": "cc5f70855ac006f3de45a3cc3b9e7d8d53845e50458809cb162b0174266dec97"
  },
  "kernelspec": {
   "display_name": "Python 3.8.8 64-bit ('base': conda)",
   "language": "python",
   "name": "python3"
  },
  "language_info": {
   "codemirror_mode": {
    "name": "ipython",
    "version": 3
   },
   "file_extension": ".py",
   "mimetype": "text/x-python",
   "name": "python",
   "nbconvert_exporter": "python",
   "pygments_lexer": "ipython3",
   "version": "3.8.8"
  },
  "orig_nbformat": 4
 },
 "nbformat": 4,
 "nbformat_minor": 2
}
