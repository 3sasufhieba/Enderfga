{
 "cells": [
  {
   "cell_type": "code",
   "execution_count": null,
   "metadata": {},
   "outputs": [],
   "source": [
    "import joblib\n",
    "import pandas as pd\n",
    "import numpy as np\n",
    "from sklearn.metrics import mean_squared_error \n",
    "model = joblib.load('D:/keyq_onedrive/OneDrive - mail2.sysu.edu.cn/Master/ML/第二次作业/作业/学习小组5-机器学习-第二次作业/model.pickle') #载入模型\n",
    "data=pd.read_csv('D:/keyq_onedrive/OneDrive - mail2.sysu.edu.cn/Master/ML/第二次作业/Test/5_test.csv') #读入数据\n",
    "X0=data.get(['TV','radio','newspaper'])\n",
    "y0=data.get('sales')\n",
    "X0=(X0-X0.min())/(X0.max()-X0.min())\n",
    "data_s = pd.concat([X0,y0],axis=1)\n",
    "data_s['TV_min'] = data_s['TV'].apply(lambda x:x**0.3)\n",
    "data_s['TV_radio']=data_s['TV']*data_s['radio']\n",
    "X = np.asarray(data_s.get(['TV_radio','TV_min','radio','newspaper']))\n",
    "y = np.asarray(data_s.get('sales'))\n",
    "print('测试误差MSE=%f'%mean_squared_error(y,model.predict(X)))"
   ]
  }
 ],
 "metadata": {
  "interpreter": {
   "hash": "cc5f70855ac006f3de45a3cc3b9e7d8d53845e50458809cb162b0174266dec97"
  },
  "kernelspec": {
   "display_name": "Python 3.7.0 64-bit ('base': conda)",
   "name": "python3"
  },
  "language_info": {
   "codemirror_mode": {
    "name": "ipython",
    "version": 3
   },
   "file_extension": ".py",
   "mimetype": "text/x-python",
   "name": "python",
   "nbconvert_exporter": "python",
   "pygments_lexer": "ipython3",
   "version": "3.7.0"
  },
  "orig_nbformat": 4
 },
 "nbformat": 4,
 "nbformat_minor": 2
}
