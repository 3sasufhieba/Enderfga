{
 "cells": [
  {
   "cell_type": "code",
   "execution_count": null,
   "metadata": {},
   "outputs": [],
   "source": [
    "from proxycrawl import CrawlingAPI, ScraperAPI, LeadsAPI, ScreenshotsAPI, StorageAPI\n",
    "api = CrawlingAPI({ 'token': 'nEUjhalWsvlAYZQKV5cZ1A' })"
   ]
  },
  {
   "cell_type": "code",
   "execution_count": null,
   "metadata": {},
   "outputs": [],
   "source": [
    "\n",
    "targetURL = 'https://twitter.com/WordleStats'\n",
    "\n",
    "response = api.get(targetURL, {'autoparse': 'true'})\n",
    "if response['status_code'] == 200:\n",
    "    print(response['body'])\n",
    "    tweet = response['body']"
   ]
  },
  {
   "cell_type": "code",
   "execution_count": 3,
   "metadata": {},
   "outputs": [],
   "source": [
    "data = str(tweet).split('#Wordle')"
   ]
  },
  {
   "cell_type": "code",
   "execution_count": null,
   "metadata": {},
   "outputs": [],
   "source": [
    "# 循环检查是否含有“1: 1%”这个字符串 否则删掉\n",
    "for i in range(len(data)):\n",
    "    if '1: 1%' in data[i]:\n",
    "        pass\n",
    "    else:\n",
    "        data.pop(i)\n",
    "print(data[0])"
   ]
  },
  {
   "cell_type": "code",
   "execution_count": 5,
   "metadata": {},
   "outputs": [],
   "source": [
    "# 循环，将“ results found on Twitter. ”替换为\\t,\"hard mode players\"及其后面的内容替换为\\t\n",
    "for i in range(len(data)):\n",
    "    data[i] = data[i].replace(' results found on Twitter. ', ' ')\n",
    "    # 后面的所有内容都替换为\\t\n",
    "    data[i] = data[i].replace(data[i][data[i].find('hard mode players'):], ' ')\n"
   ]
  },
  {
   "cell_type": "code",
   "execution_count": 6,
   "metadata": {},
   "outputs": [],
   "source": [
    "# 将data转换为csv\n",
    "import csv\n",
    "with open('wordle.csv', 'w', newline='') as f:\n",
    "    writer = csv.writer(f)\n",
    "    writer.writerow(['Word', 'date', 'count', 'Hard Mode Count'])\n",
    "    for i in range(len(data)):\n",
    "        writer.writerow(data[i].split(' '))\n"
   ]
  },
  {
   "cell_type": "code",
   "execution_count": null,
   "metadata": {},
   "outputs": [],
   "source": [
    "import pandas as pd\n",
    "df = pd.read_csv('data.csv') #历史值，y为'results'\n",
    "# 把“data”列转换格式并按时间排序\n",
    "df['date'] = pd.to_datetime(df['date'])\n",
    "df = df.sort_values(by='date')\n",
    "pred = pd.read_csv('wordle.csv') #预测值，y为'count'\n",
    "pred['date'] = pd.to_datetime(pred['date'])\n",
    "pred = pred.sort_values(by='date')"
   ]
  }
 ],
 "metadata": {
  "kernelspec": {
   "display_name": "sdf",
   "language": "python",
   "name": "python3"
  },
  "language_info": {
   "codemirror_mode": {
    "name": "ipython",
    "version": 3
   },
   "file_extension": ".py",
   "mimetype": "text/x-python",
   "name": "python",
   "nbconvert_exporter": "python",
   "pygments_lexer": "ipython3",
   "version": "3.7.16"
  },
  "orig_nbformat": 4,
  "vscode": {
   "interpreter": {
    "hash": "87d9871fee6ce4f94a1a129afa0d92b7c6de8d1062ffa549216b07b31231dde9"
   }
  }
 },
 "nbformat": 4,
 "nbformat_minor": 2
}
